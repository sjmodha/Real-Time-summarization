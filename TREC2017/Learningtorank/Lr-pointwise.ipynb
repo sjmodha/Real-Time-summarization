{
 "cells": [
  {
   "cell_type": "code",
   "execution_count": 1,
   "metadata": {
    "collapsed": true
   },
   "outputs": [],
   "source": [
    "import os\n",
    "import pandas as pd\n",
    "ipath='F:/TREC-RTS2016/25617/'\n",
    "jpath='F:/TREC-RTS2016/25617/0.1JM_rank/'\n",
    "dpath='F:/TREC-RTS2016/25617/1000Dirichlet/'\n",
    "bpath='F:/TREC-RTS2016/25617/bm25_list/'"
   ]
  },
  {
   "cell_type": "code",
   "execution_count": 2,
   "metadata": {
    "collapsed": true
   },
   "outputs": [],
   "source": [
    "ip=['MB226','MB229','MB230','MB239','MB254','MB256','MB258','MB265','MB267','MB276','MB286','MB319','MB320','MB332','MB351','MB358','MB361','MB362','MB363','MB365','MB371','MB377','MB381','MB382','MB391','MB392','MB409','MB410','MB414','MB419','MB420','MB425','MB431','MB436','MB438','MB440','RTS1','RTS10','RTS13','RTS14','RTS19','RTS2','RTS21','RTS24','RTS25','RTS27','RTS28','RTS31','RTS32','RTS35','RTS36','RTS37','RTS4','RTS43','RTS5','RTS6']\n"
   ]
  },
  {
   "cell_type": "code",
   "execution_count": 3,
   "metadata": {
    "collapsed": false
   },
   "outputs": [
    {
     "data": {
      "text/html": [
       "<div>\n",
       "<table border=\"1\" class=\"dataframe\">\n",
       "  <thead>\n",
       "    <tr style=\"text-align: right;\">\n",
       "      <th></th>\n",
       "      <th>profile</th>\n",
       "      <th>tweet_id</th>\n",
       "      <th>JM</th>\n",
       "      <th>Diri</th>\n",
       "      <th>BM25</th>\n",
       "      <th>Class</th>\n",
       "    </tr>\n",
       "  </thead>\n",
       "  <tbody>\n",
       "    <tr>\n",
       "      <th>0</th>\n",
       "      <td>MB226</td>\n",
       "      <td>760276886505213952</td>\n",
       "      <td>1.362799</td>\n",
       "      <td>1.849035</td>\n",
       "      <td>1.928996</td>\n",
       "      <td>0</td>\n",
       "    </tr>\n",
       "    <tr>\n",
       "      <th>1</th>\n",
       "      <td>MB226</td>\n",
       "      <td>760539173120012288</td>\n",
       "      <td>1.210028</td>\n",
       "      <td>1.844419</td>\n",
       "      <td>1.224847</td>\n",
       "      <td>0</td>\n",
       "    </tr>\n",
       "    <tr>\n",
       "      <th>2</th>\n",
       "      <td>MB226</td>\n",
       "      <td>760553618311352320</td>\n",
       "      <td>0.853564</td>\n",
       "      <td>1.313519</td>\n",
       "      <td>0.499782</td>\n",
       "      <td>0</td>\n",
       "    </tr>\n",
       "    <tr>\n",
       "      <th>3</th>\n",
       "      <td>MB226</td>\n",
       "      <td>760318766651629568</td>\n",
       "      <td>0.161004</td>\n",
       "      <td>-0.505391</td>\n",
       "      <td>-0.236902</td>\n",
       "      <td>0</td>\n",
       "    </tr>\n",
       "    <tr>\n",
       "      <th>4</th>\n",
       "      <td>MB226</td>\n",
       "      <td>760595464861331457</td>\n",
       "      <td>0.016721</td>\n",
       "      <td>0.948813</td>\n",
       "      <td>0.918089</td>\n",
       "      <td>0</td>\n",
       "    </tr>\n",
       "  </tbody>\n",
       "</table>\n",
       "</div>"
      ],
      "text/plain": [
       "  profile            tweet_id        JM      Diri      BM25  Class\n",
       "0   MB226  760276886505213952  1.362799  1.849035  1.928996      0\n",
       "1   MB226  760539173120012288  1.210028  1.844419  1.224847      0\n",
       "2   MB226  760553618311352320  0.853564  1.313519  0.499782      0\n",
       "3   MB226  760318766651629568  0.161004 -0.505391 -0.236902      0\n",
       "4   MB226  760595464861331457  0.016721  0.948813  0.918089      0"
      ]
     },
     "execution_count": 3,
     "metadata": {},
     "output_type": "execute_result"
    }
   ],
   "source": [
    "import pandas as pd\n",
    "import os\n",
    "import numpy as np\n",
    "from sklearn.preprocessing import StandardScaler\n",
    "\n",
    "X_trainall=pd.read_csv('C:/Users\\lenovo\\AnacondaProjects\\learning-to-rank-master\\experiments/sample.txt',sep=','\n",
    "                    ,header=None,names=['profile','tweet_id','JM','Diri','BM25','Class'])\n",
    "scaler = StandardScaler()\n",
    "X_trainall['JM'] = scaler.fit_transform(X_trainall[['JM']])\n",
    "X_trainall['Diri'] = scaler.fit_transform(X_trainall[['Diri']])\n",
    "X_trainall['BM25'] = scaler.fit_transform(X_trainall[['BM25']])       \n",
    "X_trainall.head()\n",
    "\n",
    "X_trainall['Class']=np.where(X_trainall['Class'] ==2,1, X_trainall['Class'])\n",
    "X_trainall.head()\n"
   ]
  },
  {
   "cell_type": "code",
   "execution_count": 4,
   "metadata": {
    "collapsed": false
   },
   "outputs": [
    {
     "name": "stdout",
     "output_type": "stream",
     "text": [
      "0    34799\n",
      "1     3029\n",
      "Name: Class, dtype: int64\n",
      "<class 'pandas.core.frame.DataFrame'>\n",
      "Int64Index: 34799 entries, 0 to 37827\n",
      "Data columns (total 6 columns):\n",
      "profile     34799 non-null object\n",
      "tweet_id    34799 non-null int64\n",
      "JM          34799 non-null float64\n",
      "Diri        34799 non-null float64\n",
      "BM25        34799 non-null float64\n",
      "Class       34799 non-null int64\n",
      "dtypes: float64(3), int64(2), object(1)\n",
      "memory usage: 1.9+ MB\n",
      "<class 'pandas.core.frame.DataFrame'>\n",
      "Int64Index: 3029 entries, 156 to 37705\n",
      "Data columns (total 6 columns):\n",
      "profile     3029 non-null object\n",
      "tweet_id    3029 non-null int64\n",
      "JM          3029 non-null float64\n",
      "Diri        3029 non-null float64\n",
      "BM25        3029 non-null float64\n",
      "Class       3029 non-null int64\n",
      "dtypes: float64(3), int64(2), object(1)\n",
      "memory usage: 165.6+ KB\n",
      "<class 'pandas.core.frame.DataFrame'>\n",
      "Int64Index: 3029 entries, 6362 to 4501\n",
      "Data columns (total 6 columns):\n",
      "profile     3029 non-null object\n",
      "tweet_id    3029 non-null int64\n",
      "JM          3029 non-null float64\n",
      "Diri        3029 non-null float64\n",
      "BM25        3029 non-null float64\n",
      "Class       3029 non-null int64\n",
      "dtypes: float64(3), int64(2), object(1)\n",
      "memory usage: 165.6+ KB\n"
     ]
    }
   ],
   "source": [
    "print(X_trainall['Class'].value_counts())\n",
    "X_train0=X_trainall[X_trainall['Class']==0]\n",
    "X_train1=X_trainall[X_trainall['Class']> 0]\n",
    "X_train0.info()\n",
    "X_train1.info()\n",
    "X_train0=X_train0.sample(3029)\n",
    "X_train0.info()\n",
    "X_trainws=pd.concat([X_train0,X_train1])\n",
    "X_train = X_trainws.reindex(np.random.permutation(X_trainws.index))\n"
   ]
  },
  {
   "cell_type": "code",
   "execution_count": 5,
   "metadata": {
    "collapsed": false
   },
   "outputs": [
    {
     "data": {
      "text/html": [
       "<div>\n",
       "<table border=\"1\" class=\"dataframe\">\n",
       "  <thead>\n",
       "    <tr style=\"text-align: right;\">\n",
       "      <th></th>\n",
       "      <th>profile</th>\n",
       "      <th>tweet_id</th>\n",
       "      <th>JM</th>\n",
       "      <th>Diri</th>\n",
       "      <th>BM25</th>\n",
       "      <th>Class</th>\n",
       "    </tr>\n",
       "  </thead>\n",
       "  <tbody>\n",
       "    <tr>\n",
       "      <th>0</th>\n",
       "      <td>RTS47</td>\n",
       "      <td>891302728198230020</td>\n",
       "      <td>3.050570</td>\n",
       "      <td>2.407051</td>\n",
       "      <td>3.571360</td>\n",
       "      <td>1</td>\n",
       "    </tr>\n",
       "    <tr>\n",
       "      <th>1</th>\n",
       "      <td>RTS47</td>\n",
       "      <td>891348035069935616</td>\n",
       "      <td>2.778155</td>\n",
       "      <td>1.815867</td>\n",
       "      <td>2.271354</td>\n",
       "      <td>1</td>\n",
       "    </tr>\n",
       "    <tr>\n",
       "      <th>2</th>\n",
       "      <td>RTS47</td>\n",
       "      <td>891359347099320320</td>\n",
       "      <td>2.778155</td>\n",
       "      <td>1.815867</td>\n",
       "      <td>2.271354</td>\n",
       "      <td>1</td>\n",
       "    </tr>\n",
       "    <tr>\n",
       "      <th>3</th>\n",
       "      <td>RTS47</td>\n",
       "      <td>891391584524279809</td>\n",
       "      <td>2.778155</td>\n",
       "      <td>1.815867</td>\n",
       "      <td>2.271354</td>\n",
       "      <td>1</td>\n",
       "    </tr>\n",
       "    <tr>\n",
       "      <th>4</th>\n",
       "      <td>RTS47</td>\n",
       "      <td>891299170077769728</td>\n",
       "      <td>2.621369</td>\n",
       "      <td>1.806629</td>\n",
       "      <td>1.665027</td>\n",
       "      <td>1</td>\n",
       "    </tr>\n",
       "  </tbody>\n",
       "</table>\n",
       "</div>"
      ],
      "text/plain": [
       "  profile            tweet_id        JM      Diri      BM25  Class\n",
       "0   RTS47  891302728198230020  3.050570  2.407051  3.571360      1\n",
       "1   RTS47  891348035069935616  2.778155  1.815867  2.271354      1\n",
       "2   RTS47  891359347099320320  2.778155  1.815867  2.271354      1\n",
       "3   RTS47  891391584524279809  2.778155  1.815867  2.271354      1\n",
       "4   RTS47  891299170077769728  2.621369  1.806629  1.665027      1"
      ]
     },
     "execution_count": 5,
     "metadata": {},
     "output_type": "execute_result"
    }
   ],
   "source": [
    "X_test=pd.read_csv('C:/Users\\lenovo\\AnacondaProjects\\learning-to-rank-master\\experiments/gtest.txt',sep=','\n",
    "                    ,header=None,names=['profile','tweet_id','JM','Diri','BM25','Class'])\n",
    "X_test.head()\n",
    "\n",
    "scaler = StandardScaler()\n",
    "X_test['JM'] = scaler.fit_transform(X_test[['JM']])\n",
    "X_test['Diri'] = scaler.fit_transform(X_test[['Diri']])\n",
    "X_test['BM25'] = scaler.fit_transform(X_test[['BM25']])       \n",
    "\n",
    "\n",
    "#X_trainall['Class']=np.where(X_trainall['Class'] ==2,1, X_trainall['Class'])\n",
    "X_test['Class']=np.where(X_test['Class'] ==-2,0, X_test['Class'])\n",
    "X_test['Class']=np.where(X_test['Class'] ==2,1, X_test['Class'])\n",
    "ip2017=[]\n",
    "with open('F:/TREC2017/Analysis/tid95-2.txt','r') as fin:\n",
    "    line= fin.readlines()\n",
    "    for l in line:\n",
    "        l=l.strip().split(' ')\n",
    "        #tpn=l[0]\n",
    "        tpid=l[1]\n",
    "        ip2017.append(tpid)      \n",
    "#print len(ip2017)\n",
    "#ip2017.remove('RTS63')\n",
    "#ip2017.remove('RTS164')\n",
    "#ip2017.remove('RTS182')\n",
    "X_test.head()"
   ]
  },
  {
   "cell_type": "code",
   "execution_count": 6,
   "metadata": {
    "collapsed": false
   },
   "outputs": [
    {
     "name": "stdout",
     "output_type": "stream",
     "text": [
      "<class 'pandas.core.frame.DataFrame'>\n",
      "RangeIndex: 13018 entries, 0 to 13017\n",
      "Data columns (total 7 columns):\n",
      "date        13018 non-null int64\n",
      "profile     13018 non-null object\n",
      "q0          13018 non-null object\n",
      "tweet_id    13018 non-null int64\n",
      "rank        13018 non-null int64\n",
      "score       13018 non-null float64\n",
      "tag         13018 non-null object\n",
      "dtypes: float64(1), int64(3), object(3)\n",
      "memory usage: 712.0+ KB\n"
     ]
    }
   ],
   "source": [
    "run_df=pd.read_csv('D:/datas/2017output/result/est-res2017/diri_linreg_est_20170.1 23.0_6.0.txt',sep=' '\n",
    "                    ,header=None,names=['date','profile','q0','tweet_id','rank','score','tag'])\n",
    "run_df.info()"
   ]
  },
  {
   "cell_type": "code",
   "execution_count": 7,
   "metadata": {
    "collapsed": false
   },
   "outputs": [
    {
     "name": "stdout",
     "output_type": "stream",
     "text": [
      "0    12066\n",
      "1      952\n",
      "Name: Class, dtype: int64\n",
      "<class 'pandas.core.frame.DataFrame'>\n",
      "RangeIndex: 13018 entries, 0 to 13017\n",
      "Data columns (total 10 columns):\n",
      "date          13018 non-null int64\n",
      "profile       13018 non-null object\n",
      "tweet_id      13018 non-null int64\n",
      "rank          13018 non-null int64\n",
      "score         13018 non-null float64\n",
      "JM            13018 non-null float64\n",
      "Diri          13018 non-null float64\n",
      "BM25          13018 non-null float64\n",
      "prediction    13018 non-null float64\n",
      "Class         13018 non-null int64\n",
      "dtypes: float64(5), int64(4), object(1)\n",
      "memory usage: 1017.1+ KB\n"
     ]
    },
    {
     "data": {
      "text/html": [
       "<div>\n",
       "<table border=\"1\" class=\"dataframe\">\n",
       "  <thead>\n",
       "    <tr style=\"text-align: right;\">\n",
       "      <th></th>\n",
       "      <th>date</th>\n",
       "      <th>profile</th>\n",
       "      <th>tweet_id</th>\n",
       "      <th>rank</th>\n",
       "      <th>score</th>\n",
       "      <th>JM</th>\n",
       "      <th>Diri</th>\n",
       "      <th>BM25</th>\n",
       "      <th>prediction</th>\n",
       "      <th>Class</th>\n",
       "    </tr>\n",
       "  </thead>\n",
       "  <tbody>\n",
       "    <tr>\n",
       "      <th>0</th>\n",
       "      <td>20170804</td>\n",
       "      <td>RTS47</td>\n",
       "      <td>893532395030196224</td>\n",
       "      <td>1</td>\n",
       "      <td>1.00</td>\n",
       "      <td>1.941409</td>\n",
       "      <td>0.925523</td>\n",
       "      <td>2.237589</td>\n",
       "      <td>0.922</td>\n",
       "      <td>1</td>\n",
       "    </tr>\n",
       "    <tr>\n",
       "      <th>1</th>\n",
       "      <td>20170804</td>\n",
       "      <td>RTS47</td>\n",
       "      <td>893319966132514816</td>\n",
       "      <td>2</td>\n",
       "      <td>1.00</td>\n",
       "      <td>1.692350</td>\n",
       "      <td>0.915749</td>\n",
       "      <td>1.268197</td>\n",
       "      <td>0.910</td>\n",
       "      <td>1</td>\n",
       "    </tr>\n",
       "    <tr>\n",
       "      <th>2</th>\n",
       "      <td>20170804</td>\n",
       "      <td>RTS47</td>\n",
       "      <td>893268233578532864</td>\n",
       "      <td>3</td>\n",
       "      <td>0.80</td>\n",
       "      <td>1.216536</td>\n",
       "      <td>0.133855</td>\n",
       "      <td>0.360471</td>\n",
       "      <td>0.505</td>\n",
       "      <td>1</td>\n",
       "    </tr>\n",
       "    <tr>\n",
       "      <th>3</th>\n",
       "      <td>20170804</td>\n",
       "      <td>RTS47</td>\n",
       "      <td>893573742487629824</td>\n",
       "      <td>4</td>\n",
       "      <td>0.75</td>\n",
       "      <td>0.339254</td>\n",
       "      <td>-0.032298</td>\n",
       "      <td>1.497595</td>\n",
       "      <td>-0.017</td>\n",
       "      <td>1</td>\n",
       "    </tr>\n",
       "    <tr>\n",
       "      <th>4</th>\n",
       "      <td>20170804</td>\n",
       "      <td>RTS47</td>\n",
       "      <td>893484068276506624</td>\n",
       "      <td>5</td>\n",
       "      <td>0.70</td>\n",
       "      <td>0.090195</td>\n",
       "      <td>-0.242432</td>\n",
       "      <td>-0.167391</td>\n",
       "      <td>-0.040</td>\n",
       "      <td>0</td>\n",
       "    </tr>\n",
       "  </tbody>\n",
       "</table>\n",
       "</div>"
      ],
      "text/plain": [
       "       date profile            tweet_id  rank  score        JM      Diri  \\\n",
       "0  20170804   RTS47  893532395030196224     1   1.00  1.941409  0.925523   \n",
       "1  20170804   RTS47  893319966132514816     2   1.00  1.692350  0.915749   \n",
       "2  20170804   RTS47  893268233578532864     3   0.80  1.216536  0.133855   \n",
       "3  20170804   RTS47  893573742487629824     4   0.75  0.339254 -0.032298   \n",
       "4  20170804   RTS47  893484068276506624     5   0.70  0.090195 -0.242432   \n",
       "\n",
       "       BM25  prediction  Class  \n",
       "0  2.237589       0.922      1  \n",
       "1  1.268197       0.910      1  \n",
       "2  0.360471       0.505      1  \n",
       "3  1.497595      -0.017      1  \n",
       "4 -0.167391      -0.040      0  "
      ]
     },
     "execution_count": 7,
     "metadata": {},
     "output_type": "execute_result"
    }
   ],
   "source": [
    "test_df = pd.read_csv('C:/Users\\lenovo\\AnacondaProjects\\learning-to-rank-master\\experiments/runfile/temp.txt',sep=','\n",
    "                    ,header=None,names=['date','profile','tweet_id','rank','score','JM','Diri','BM25','prediction','Class'])\n",
    "scaler = StandardScaler()\n",
    "test_df['JM'] = scaler.fit_transform(test_df[['JM']])\n",
    "test_df['Diri'] = scaler.fit_transform(test_df[['Diri']])\n",
    "test_df['BM25'] = scaler.fit_transform(test_df[['BM25']])       \n",
    "\n",
    "test_df['Class']=np.where(test_df['Class'] ==-1,0, test_df['Class'])\n",
    "test_df['Class']=np.where(test_df['Class'] ==2,1, test_df['Class'])\n",
    "print (test_df['Class'].value_counts())\n",
    "test_df.info()\n",
    "test_df.head()"
   ]
  },
  {
   "cell_type": "code",
   "execution_count": 8,
   "metadata": {
    "collapsed": false
   },
   "outputs": [
    {
     "name": "stdout",
     "output_type": "stream",
     "text": [
      "<class 'pandas.core.frame.DataFrame'>\n",
      "Int64Index: 6058 entries, 8789 to 23052\n",
      "Data columns (total 3 columns):\n",
      "JM      6058 non-null float64\n",
      "Diri    6058 non-null float64\n",
      "BM25    6058 non-null float64\n",
      "dtypes: float64(3)\n",
      "memory usage: 189.3 KB\n",
      "<class 'pandas.core.frame.DataFrame'>\n",
      "RangeIndex: 13018 entries, 0 to 13017\n",
      "Data columns (total 3 columns):\n",
      "JM      13018 non-null float64\n",
      "Diri    13018 non-null float64\n",
      "BM25    13018 non-null float64\n",
      "dtypes: float64(3)\n",
      "memory usage: 305.2 KB\n",
      "1    3029\n",
      "0    3029\n",
      "Name: Class, dtype: int64\n",
      "0    12066\n",
      "1      952\n",
      "Name: Class, dtype: int64\n"
     ]
    }
   ],
   "source": [
    "#X_train1=X_train[['JM','Diri','BM25','Class']]\n",
    "#print(X_train1.groupby('Class').mean())\n",
    "#y_train=X_train['Class']\n",
    "#xx_train=X_train1[['JM','Diri','BM25']]\n",
    "X_train1=X_train[['JM','Diri','BM25']]\n",
    "y_train = X_train['Class']\n",
    "\n",
    "X_test1=test_df[['JM','Diri','BM25']]\n",
    "#print(X_test1.groupby('Class').mean())\n",
    "#xx_test=X_test1[['JM','Diri','BM25']]\n",
    "y_test=test_df[['Class']]\n",
    "X_train1.info()\n",
    "X_test1.info()\n",
    "print(X_train['Class'].value_counts())\n",
    "print(y_test['Class'].value_counts())\n",
    "\n"
   ]
  },
  {
   "cell_type": "code",
   "execution_count": 12,
   "metadata": {
    "collapsed": false
   },
   "outputs": [
    {
     "name": "stdout",
     "output_type": "stream",
     "text": [
      "Wall time: 23 ms\n"
     ]
    },
    {
     "data": {
      "text/plain": [
       "LogisticRegression(C=1.0, class_weight=None, dual=False, fit_intercept=True,\n",
       "          intercept_scaling=1, max_iter=100, multi_class='ovr', n_jobs=1,\n",
       "          penalty='l2', random_state=None, solver='liblinear', tol=0.0001,\n",
       "          verbose=0, warm_start=False)"
      ]
     },
     "execution_count": 12,
     "metadata": {},
     "output_type": "execute_result"
    }
   ],
   "source": [
    "from sklearn.linear_model import LogisticRegression\n",
    "logreg = LogisticRegression()\n",
    "# train the model using X_train_dtm\n",
    "%time logreg.fit(X_train1, y_train)"
   ]
  },
  {
   "cell_type": "code",
   "execution_count": 13,
   "metadata": {
    "collapsed": false
   },
   "outputs": [
    {
     "data": {
      "text/plain": [
       "0.7648640344138885"
      ]
     },
     "execution_count": 13,
     "metadata": {},
     "output_type": "execute_result"
    }
   ],
   "source": [
    "pred_class = logreg.predict(X_test1)\n",
    " #calculate accuracy of class predictions\n",
    "from sklearn import metrics\n",
    "metrics.accuracy_score(y_test, pred_class)\n"
   ]
  },
  {
   "cell_type": "code",
   "execution_count": 14,
   "metadata": {
    "collapsed": false
   },
   "outputs": [
    {
     "data": {
      "text/plain": [
       "array([[9358, 2708],\n",
       "       [ 353,  599]])"
      ]
     },
     "execution_count": 14,
     "metadata": {},
     "output_type": "execute_result"
    }
   ],
   "source": [
    "# print the confusion matrix\n",
    "metrics.confusion_matrix(y_test, pred_class)"
   ]
  },
  {
   "cell_type": "code",
   "execution_count": 15,
   "metadata": {
    "collapsed": false
   },
   "outputs": [
    {
     "name": "stdout",
     "output_type": "stream",
     "text": [
      "0    9711\n",
      "1    3307\n",
      "Name: pred_class, dtype: int64\n",
      "0    12066\n",
      "1      952\n",
      "Name: Class, dtype: int64\n"
     ]
    }
   ],
   "source": [
    "test_df['pred_class']= pred_class\n",
    "print (test_df['pred_class'].value_counts())\n",
    "print (y_test['Class'].value_counts())"
   ]
  },
  {
   "cell_type": "code",
   "execution_count": 16,
   "metadata": {
    "collapsed": false
   },
   "outputs": [
    {
     "name": "stdout",
     "output_type": "stream",
     "text": [
      "0.181130934382\n",
      "0.629201680672\n",
      "0.281286687016\n",
      "             precision    recall  f1-score   support\n",
      "\n",
      "         NR       0.96      0.78      0.86     12066\n",
      "          R       0.18      0.63      0.28       952\n",
      "\n",
      "avg / total       0.91      0.76      0.82     13018\n",
      "\n",
      "0.702384695798\n"
     ]
    }
   ],
   "source": [
    "print (metrics.precision_score(y_test, pred_class))\n",
    "print(metrics.recall_score(y_test, pred_class))\n",
    "print (metrics.f1_score(y_test, pred_class))\n",
    "print(metrics.classification_report(y_test, pred_class,target_names=['NR','R']))\n",
    "#y_pred_prob = nb.predict_proba(X_test_dtm)[:, 1]\n",
    "#y_pred_prob\n",
    "print(metrics.roc_auc_score(y_test, pred_class))"
   ]
  },
  {
   "cell_type": "code",
   "execution_count": 17,
   "metadata": {
    "collapsed": false
   },
   "outputs": [
    {
     "data": {
      "text/html": [
       "<div>\n",
       "<table border=\"1\" class=\"dataframe\">\n",
       "  <thead>\n",
       "    <tr style=\"text-align: right;\">\n",
       "      <th></th>\n",
       "      <th>date</th>\n",
       "      <th>profile</th>\n",
       "      <th>Q0</th>\n",
       "      <th>tweet_id</th>\n",
       "      <th>rank</th>\n",
       "      <th>score</th>\n",
       "      <th>tag</th>\n",
       "    </tr>\n",
       "  </thead>\n",
       "  <tbody>\n",
       "    <tr>\n",
       "      <th>0</th>\n",
       "      <td>20170804</td>\n",
       "      <td>RTS47</td>\n",
       "      <td>Q0</td>\n",
       "      <td>893532395030196224</td>\n",
       "      <td>1</td>\n",
       "      <td>1.0</td>\n",
       "      <td>IRLAB-LDRP</td>\n",
       "    </tr>\n",
       "    <tr>\n",
       "      <th>1</th>\n",
       "      <td>20170804</td>\n",
       "      <td>RTS47</td>\n",
       "      <td>Q0</td>\n",
       "      <td>893319966132514816</td>\n",
       "      <td>2</td>\n",
       "      <td>1.0</td>\n",
       "      <td>IRLAB-LDRP</td>\n",
       "    </tr>\n",
       "    <tr>\n",
       "      <th>2</th>\n",
       "      <td>20170804</td>\n",
       "      <td>RTS47</td>\n",
       "      <td>Q0</td>\n",
       "      <td>893268233578532864</td>\n",
       "      <td>3</td>\n",
       "      <td>0.8</td>\n",
       "      <td>IRLAB-LDRP</td>\n",
       "    </tr>\n",
       "    <tr>\n",
       "      <th>19</th>\n",
       "      <td>20170805</td>\n",
       "      <td>RTS47</td>\n",
       "      <td>Q0</td>\n",
       "      <td>893719771375583232</td>\n",
       "      <td>1</td>\n",
       "      <td>1.0</td>\n",
       "      <td>IRLAB-LDRP</td>\n",
       "    </tr>\n",
       "    <tr>\n",
       "      <th>20</th>\n",
       "      <td>20170805</td>\n",
       "      <td>RTS47</td>\n",
       "      <td>Q0</td>\n",
       "      <td>893973753255907329</td>\n",
       "      <td>2</td>\n",
       "      <td>1.0</td>\n",
       "      <td>IRLAB-LDRP</td>\n",
       "    </tr>\n",
       "  </tbody>\n",
       "</table>\n",
       "</div>"
      ],
      "text/plain": [
       "        date profile  Q0            tweet_id  rank  score         tag\n",
       "0   20170804   RTS47  Q0  893532395030196224     1    1.0  IRLAB-LDRP\n",
       "1   20170804   RTS47  Q0  893319966132514816     2    1.0  IRLAB-LDRP\n",
       "2   20170804   RTS47  Q0  893268233578532864     3    0.8  IRLAB-LDRP\n",
       "19  20170805   RTS47  Q0  893719771375583232     1    1.0  IRLAB-LDRP\n",
       "20  20170805   RTS47  Q0  893973753255907329     2    1.0  IRLAB-LDRP"
      ]
     },
     "execution_count": 17,
     "metadata": {},
     "output_type": "execute_result"
    }
   ],
   "source": [
    "test_df.head()\n",
    "test_df['Q0']='Q0'\n",
    "test_df['tag']='IRLAB-LDRP'\n",
    "log_df = test_df[test_df['pred_class']==1]\n",
    "log_df=log_df[['date','profile','Q0','tweet_id','rank','score','tag']]\n",
    "#log_df.to_csv('D:/datas/2017output/result/lr-res/logpoinwise.txt',encoding='UTF-8',index=False,sep=' ',header=None)\n",
    "log_df.head()"
   ]
  },
  {
   "cell_type": "code",
   "execution_count": 18,
   "metadata": {
    "collapsed": false
   },
   "outputs": [
    {
     "name": "stdout",
     "output_type": "stream",
     "text": [
      "0    34799\n",
      "1     3029\n",
      "Name: Class, dtype: int64\n",
      "<class 'pandas.core.frame.DataFrame'>\n",
      "Int64Index: 34799 entries, 0 to 37827\n",
      "Data columns (total 6 columns):\n",
      "profile     34799 non-null object\n",
      "tweet_id    34799 non-null int64\n",
      "JM          34799 non-null float64\n",
      "Diri        34799 non-null float64\n",
      "BM25        34799 non-null float64\n",
      "Class       34799 non-null int64\n",
      "dtypes: float64(3), int64(2), object(1)\n",
      "memory usage: 1.9+ MB\n",
      "<class 'pandas.core.frame.DataFrame'>\n",
      "Int64Index: 3029 entries, 156 to 37705\n",
      "Data columns (total 6 columns):\n",
      "profile     3029 non-null object\n",
      "tweet_id    3029 non-null int64\n",
      "JM          3029 non-null float64\n",
      "Diri        3029 non-null float64\n",
      "BM25        3029 non-null float64\n",
      "Class       3029 non-null int64\n",
      "dtypes: float64(3), int64(2), object(1)\n",
      "memory usage: 165.6+ KB\n",
      "<class 'pandas.core.frame.DataFrame'>\n",
      "Int64Index: 3029 entries, 4406 to 36063\n",
      "Data columns (total 6 columns):\n",
      "profile     3029 non-null object\n",
      "tweet_id    3029 non-null int64\n",
      "JM          3029 non-null float64\n",
      "Diri        3029 non-null float64\n",
      "BM25        3029 non-null float64\n",
      "Class       3029 non-null int64\n",
      "dtypes: float64(3), int64(2), object(1)\n",
      "memory usage: 165.6+ KB\n",
      "0    12066\n",
      "1      952\n",
      "Name: Class, dtype: int64\n",
      "<class 'pandas.core.frame.DataFrame'>\n",
      "RangeIndex: 13018 entries, 0 to 13017\n",
      "Data columns (total 10 columns):\n",
      "date          13018 non-null int64\n",
      "profile       13018 non-null object\n",
      "tweet_id      13018 non-null int64\n",
      "rank          13018 non-null int64\n",
      "score         13018 non-null float64\n",
      "JM            13018 non-null float64\n",
      "Diri          13018 non-null float64\n",
      "BM25          13018 non-null float64\n",
      "prediction    13018 non-null float64\n",
      "Class         13018 non-null int64\n",
      "dtypes: float64(5), int64(4), object(1)\n",
      "memory usage: 1017.1+ KB\n",
      "<class 'pandas.core.frame.DataFrame'>\n",
      "Int64Index: 6058 entries, 32981 to 4513\n",
      "Data columns (total 3 columns):\n",
      "JM      6058 non-null float64\n",
      "Diri    6058 non-null float64\n",
      "BM25    6058 non-null float64\n",
      "dtypes: float64(3)\n",
      "memory usage: 189.3 KB\n",
      "<class 'pandas.core.frame.DataFrame'>\n",
      "RangeIndex: 13018 entries, 0 to 13017\n",
      "Data columns (total 3 columns):\n",
      "JM      13018 non-null float64\n",
      "Diri    13018 non-null float64\n",
      "BM25    13018 non-null float64\n",
      "dtypes: float64(3)\n",
      "memory usage: 305.2 KB\n",
      "1    3029\n",
      "0    3029\n",
      "Name: Class, dtype: int64\n",
      "0    12066\n",
      "1      952\n",
      "Name: Class, dtype: int64\n"
     ]
    }
   ],
   "source": [
    "import pandas as pd\n",
    "import os\n",
    "import numpy as np\n",
    "from sklearn.preprocessing import StandardScaler\n",
    "\n",
    "X_trainall=pd.read_csv('C:/Users\\lenovo\\AnacondaProjects\\learning-to-rank-master\\experiments/sample.txt',sep=','\n",
    "                    ,header=None,names=['profile','tweet_id','JM','Diri','BM25','Class'])\n",
    "#scaler = StandardScaler()\n",
    "#X_trainall['JM'] = scaler.fit_transform(X_trainall[['JM']])\n",
    "#X_trainall['Diri'] = scaler.fit_transform(X_trainall[['Diri']])\n",
    "#X_trainall['BM25'] = scaler.fit_transform(X_trainall[['BM25']])       \n",
    "X_trainall.head()\n",
    "\n",
    "X_trainall['Class']=np.where(X_trainall['Class'] ==2,1, X_trainall['Class'])\n",
    "X_trainall.head()\n",
    "print(X_trainall['Class'].value_counts())\n",
    "X_train0=X_trainall[X_trainall['Class']==0]\n",
    "X_train1=X_trainall[X_trainall['Class']> 0]\n",
    "X_train0.info()\n",
    "X_train1.info()\n",
    "X_train0=X_train0.sample(3029)\n",
    "X_train0.info()\n",
    "X_trainws=pd.concat([X_train0,X_train1])\n",
    "X_train = X_trainws.reindex(np.random.permutation(X_trainws.index))\n",
    "\n",
    "\n",
    "\n",
    "test_df = pd.read_csv('C:/Users\\lenovo\\AnacondaProjects\\learning-to-rank-master\\experiments/runfile/temp.txt',sep=','\n",
    "                    ,header=None,names=['date','profile','tweet_id','rank','score','JM','Diri','BM25','prediction','Class'])\n",
    "#scaler = StandardScaler()\n",
    "#test_df['JM'] = scaler.fit_transform(test_df[['JM']])\n",
    "#test_df['Diri'] = scaler.fit_transform(test_df[['Diri']])\n",
    "#test_df['BM25'] = scaler.fit_transform(test_df[['BM25']])       \n",
    "\n",
    "test_df['Class']=np.where(test_df['Class'] ==-1,0, test_df['Class'])\n",
    "test_df['Class']=np.where(test_df['Class'] ==2,1, test_df['Class'])\n",
    "print (test_df['Class'].value_counts())\n",
    "test_df.info()\n",
    "test_df.head()\n",
    "#X_train1=X_train[['JM','Diri','BM25','Class']]\n",
    "#print(X_train1.groupby('Class').mean())\n",
    "#y_train=X_train['Class']\n",
    "#xx_train=X_train1[['JM','Diri','BM25']]\n",
    "X_train1=X_train[['JM','Diri','BM25']]\n",
    "y_train = X_train['Class']\n",
    "\n",
    "X_test1=test_df[['JM','Diri','BM25']]\n",
    "#print(X_test1.groupby('Class').mean())\n",
    "#xx_test=X_test1[['JM','Diri','BM25']]\n",
    "y_test=test_df[['Class']]\n",
    "X_train1.info()\n",
    "X_test1.info()\n",
    "print(X_train['Class'].value_counts())\n",
    "print(y_test['Class'].value_counts())"
   ]
  },
  {
   "cell_type": "code",
   "execution_count": 20,
   "metadata": {
    "collapsed": false
   },
   "outputs": [
    {
     "data": {
      "text/html": [
       "<div>\n",
       "<table border=\"1\" class=\"dataframe\">\n",
       "  <thead>\n",
       "    <tr style=\"text-align: right;\">\n",
       "      <th></th>\n",
       "      <th>JM</th>\n",
       "      <th>Diri</th>\n",
       "      <th>BM25</th>\n",
       "    </tr>\n",
       "  </thead>\n",
       "  <tbody>\n",
       "    <tr>\n",
       "      <th>0</th>\n",
       "      <td>28.10</td>\n",
       "      <td>7.97</td>\n",
       "      <td>22.15</td>\n",
       "    </tr>\n",
       "    <tr>\n",
       "      <th>1</th>\n",
       "      <td>26.76</td>\n",
       "      <td>7.95</td>\n",
       "      <td>18.22</td>\n",
       "    </tr>\n",
       "    <tr>\n",
       "      <th>2</th>\n",
       "      <td>24.20</td>\n",
       "      <td>6.35</td>\n",
       "      <td>14.54</td>\n",
       "    </tr>\n",
       "    <tr>\n",
       "      <th>3</th>\n",
       "      <td>19.48</td>\n",
       "      <td>6.01</td>\n",
       "      <td>19.15</td>\n",
       "    </tr>\n",
       "    <tr>\n",
       "      <th>4</th>\n",
       "      <td>18.14</td>\n",
       "      <td>5.58</td>\n",
       "      <td>12.40</td>\n",
       "    </tr>\n",
       "  </tbody>\n",
       "</table>\n",
       "</div>"
      ],
      "text/plain": [
       "      JM  Diri   BM25\n",
       "0  28.10  7.97  22.15\n",
       "1  26.76  7.95  18.22\n",
       "2  24.20  6.35  14.54\n",
       "3  19.48  6.01  19.15\n",
       "4  18.14  5.58  12.40"
      ]
     },
     "execution_count": 20,
     "metadata": {},
     "output_type": "execute_result"
    }
   ],
   "source": [
    "X_test1.head()"
   ]
  },
  {
   "cell_type": "code",
   "execution_count": 21,
   "metadata": {
    "collapsed": false
   },
   "outputs": [
    {
     "name": "stdout",
     "output_type": "stream",
     "text": [
      "Wall time: 91 ms\n"
     ]
    },
    {
     "data": {
      "text/plain": [
       "MultinomialNB(alpha=1.0, class_prior=None, fit_prior=True)"
      ]
     },
     "execution_count": 21,
     "metadata": {},
     "output_type": "execute_result"
    }
   ],
   "source": [
    "# import and instantiate a Multinomial Naive Bayes model\n",
    "from sklearn.naive_bayes import MultinomialNB\n",
    "nb = MultinomialNB()\n",
    "# train the model using X_train_dtm (timing it with an IPython \"magic command\")\n",
    "%time nb.fit(X_train1, y_train)"
   ]
  },
  {
   "cell_type": "code",
   "execution_count": 25,
   "metadata": {
    "collapsed": false
   },
   "outputs": [
    {
     "name": "stdout",
     "output_type": "stream",
     "text": [
      "0.366722998925\n",
      "[[4026 8040]\n",
      " [ 204  748]]\n",
      "0.0851160673646\n",
      "0.785714285714\n",
      "0.153593429158\n",
      "             precision    recall  f1-score   support\n",
      "\n",
      "         NR       0.95      0.33      0.49     12066\n",
      "          R       0.09      0.79      0.15       952\n",
      "\n",
      "avg / total       0.89      0.37      0.47     13018\n",
      "\n",
      "0.559689564538\n"
     ]
    },
    {
     "data": {
      "text/html": [
       "<div>\n",
       "<table border=\"1\" class=\"dataframe\">\n",
       "  <thead>\n",
       "    <tr style=\"text-align: right;\">\n",
       "      <th></th>\n",
       "      <th>date</th>\n",
       "      <th>profile</th>\n",
       "      <th>Q0</th>\n",
       "      <th>tweet_id</th>\n",
       "      <th>rank</th>\n",
       "      <th>score</th>\n",
       "      <th>tag</th>\n",
       "    </tr>\n",
       "  </thead>\n",
       "  <tbody>\n",
       "    <tr>\n",
       "      <th>1</th>\n",
       "      <td>20170804</td>\n",
       "      <td>RTS47</td>\n",
       "      <td>Q0</td>\n",
       "      <td>893319966132514816</td>\n",
       "      <td>2</td>\n",
       "      <td>1.00</td>\n",
       "      <td>IRLAB-LDRP</td>\n",
       "    </tr>\n",
       "    <tr>\n",
       "      <th>4</th>\n",
       "      <td>20170804</td>\n",
       "      <td>RTS47</td>\n",
       "      <td>Q0</td>\n",
       "      <td>893484068276506624</td>\n",
       "      <td>5</td>\n",
       "      <td>0.70</td>\n",
       "      <td>IRLAB-LDRP</td>\n",
       "    </tr>\n",
       "    <tr>\n",
       "      <th>5</th>\n",
       "      <td>20170804</td>\n",
       "      <td>RTS47</td>\n",
       "      <td>Q0</td>\n",
       "      <td>893599965255258112</td>\n",
       "      <td>6</td>\n",
       "      <td>0.70</td>\n",
       "      <td>IRLAB-LDRP</td>\n",
       "    </tr>\n",
       "    <tr>\n",
       "      <th>13</th>\n",
       "      <td>20170804</td>\n",
       "      <td>RTS47</td>\n",
       "      <td>Q0</td>\n",
       "      <td>893319096560893952</td>\n",
       "      <td>14</td>\n",
       "      <td>0.59</td>\n",
       "      <td>IRLAB-LDRP</td>\n",
       "    </tr>\n",
       "    <tr>\n",
       "      <th>14</th>\n",
       "      <td>20170804</td>\n",
       "      <td>RTS47</td>\n",
       "      <td>Q0</td>\n",
       "      <td>893289817471057920</td>\n",
       "      <td>15</td>\n",
       "      <td>0.59</td>\n",
       "      <td>IRLAB-LDRP</td>\n",
       "    </tr>\n",
       "  </tbody>\n",
       "</table>\n",
       "</div>"
      ],
      "text/plain": [
       "        date profile  Q0            tweet_id  rank  score         tag\n",
       "1   20170804   RTS47  Q0  893319966132514816     2   1.00  IRLAB-LDRP\n",
       "4   20170804   RTS47  Q0  893484068276506624     5   0.70  IRLAB-LDRP\n",
       "5   20170804   RTS47  Q0  893599965255258112     6   0.70  IRLAB-LDRP\n",
       "13  20170804   RTS47  Q0  893319096560893952    14   0.59  IRLAB-LDRP\n",
       "14  20170804   RTS47  Q0  893289817471057920    15   0.59  IRLAB-LDRP"
      ]
     },
     "execution_count": 25,
     "metadata": {},
     "output_type": "execute_result"
    }
   ],
   "source": [
    "pred_class = nb.predict(X_test1)\n",
    " #calculate accuracy of class predictions\n",
    "from sklearn import metrics\n",
    "print(metrics.accuracy_score(y_test, pred_class))\n",
    "# print the confusion matrix\n",
    "print(metrics.confusion_matrix(y_test, pred_class))\n",
    "test_df['pred_class']= pred_class\n",
    "print (metrics.precision_score(y_test, pred_class))\n",
    "print(metrics.recall_score(y_test, pred_class))\n",
    "print (metrics.f1_score(y_test, pred_class))\n",
    "print(metrics.classification_report(y_test, pred_class,target_names=['NR','R']))\n",
    "#y_pred_prob = nb.predict_proba(X_test_dtm)[:, 1]\n",
    "#y_pred_prob\n",
    "print(metrics.roc_auc_score(y_test, pred_class))\n",
    "#test_df.head()\n",
    "test_df['Q0']='Q0'\n",
    "test_df['tag']='IRLAB-LDRP'\n",
    "log_df = test_df[test_df['pred_class']==1]\n",
    "log_df=log_df[['date','profile','Q0','tweet_id','rank','score','tag']]\n",
    "log_df.to_csv('D:/datas/2017output/result/lr-res/NBpoinwise.txt',encoding='UTF-8',index=False,sep=' ',header=None)\n",
    "log_df.head()"
   ]
  },
  {
   "cell_type": "code",
   "execution_count": 26,
   "metadata": {
    "collapsed": true
   },
   "outputs": [],
   "source": [
    "import pandas as pd\n",
    "import os\n",
    "import numpy as np\n",
    "from sklearn.preprocessing import StandardScaler\n",
    "\n",
    "X_trainall=pd.read_csv('C:/Users\\lenovo\\AnacondaProjects\\learning-to-rank-master\\experiments/sample.txt',sep=','\n",
    "                    ,header=None,names=['profile','tweet_id','JM','Diri','BM25','Class'])\n",
    "#scaler = StandardScaler()\n",
    "#X_trainall['JM'] = scaler.fit_transform(X_trainall[['JM']])\n",
    "#X_trainall['Diri'] = scaler.fit_transform(X_trainall[['Diri']])\n",
    "#X_trainall['BM25'] = scaler.fit_transform(X_trainall[['BM25']])       \n",
    "#X_trainall.head()\n",
    "\n",
    "X_trainall['Class']=np.where(X_trainall['Class'] ==2,1, X_trainall['Class'])\n",
    "#X_trainall.head()\n",
    "#print(X_trainall['Class'].value_counts())\n",
    "X_train0=X_trainall[X_trainall['Class']==0]\n",
    "X_train1=X_trainall[X_trainall['Class']> 0]\n",
    "#X_train0.info()\n",
    "#X_train1.info()\n",
    "X_train0=X_train0.sample(3029)\n",
    "#X_train0.info()\n",
    "X_trainws=pd.concat([X_train0,X_train1])\n",
    "X_train = X_trainws.reindex(np.random.permutation(X_trainws.index))\n",
    "\n",
    "\n",
    "\n",
    "test_df = pd.read_csv('C:/Users\\lenovo\\AnacondaProjects\\learning-to-rank-master\\experiments/runfile/temp.txt',sep=','\n",
    "                    ,header=None,names=['date','profile','tweet_id','rank','score','JM','Diri','BM25','prediction','Class'])\n",
    "#scaler = StandardScaler()\n",
    "#test_df['JM'] = scaler.fit_transform(test_df[['JM']])\n",
    "#test_df['Diri'] = scaler.fit_transform(test_df[['Diri']])\n",
    "#test_df['BM25'] = scaler.fit_transform(test_df[['BM25']])       \n",
    "\n",
    "test_df['Class']=np.where(test_df['Class'] ==-1,0, test_df['Class'])\n",
    "test_df['Class']=np.where(test_df['Class'] ==2,1, test_df['Class'])\n",
    "#print (test_df['Class'].value_counts())\n",
    "#test_df.info()\n",
    "#test_df.head()\n",
    "#X_train1=X_train[['JM','Diri','BM25','Class']]\n",
    "#print(X_train1.groupby('Class').mean())\n",
    "#y_train=X_train['Class']\n",
    "#xx_train=X_train1[['JM','Diri','BM25']]\n",
    "X_train1=X_train[['JM','Diri','BM25']]\n",
    "y_train = X_train['Class']\n",
    "\n",
    "X_test1=test_df[['JM','Diri','BM25']]\n",
    "#print(X_test1.groupby('Class').mean())\n",
    "#xx_test=X_test1[['JM','Diri','BM25']]\n",
    "y_test=test_df[['Class']]\n",
    "#X_train1.info()\n",
    "#X_test1.info()\n",
    "#print(X_train['Class'].value_counts())\n",
    "#print(y_test['Class'].value_counts())"
   ]
  },
  {
   "cell_type": "code",
   "execution_count": 28,
   "metadata": {
    "collapsed": false
   },
   "outputs": [
    {
     "name": "stdout",
     "output_type": "stream",
     "text": [
      "Wall time: 6.32 s\n"
     ]
    },
    {
     "data": {
      "text/plain": [
       "SVC(C=1.0, cache_size=200, class_weight=None, coef0=0.0,\n",
       "  decision_function_shape=None, degree=3, gamma='auto', kernel='rbf',\n",
       "  max_iter=-1, probability=False, random_state=None, shrinking=True,\n",
       "  tol=0.001, verbose=False)"
      ]
     },
     "execution_count": 28,
     "metadata": {},
     "output_type": "execute_result"
    }
   ],
   "source": [
    "from sklearn import svm\n",
    "clf = svm.SVC()\n",
    "%time clf.fit(X_train1, y_train)"
   ]
  },
  {
   "cell_type": "code",
   "execution_count": 29,
   "metadata": {
    "collapsed": false
   },
   "outputs": [
    {
     "name": "stdout",
     "output_type": "stream",
     "text": [
      "0.366722998925\n",
      "[[4026 8040]\n",
      " [ 204  748]]\n",
      "0.0851160673646\n",
      "0.785714285714\n",
      "0.153593429158\n",
      "             precision    recall  f1-score   support\n",
      "\n",
      "         NR       0.95      0.33      0.49     12066\n",
      "          R       0.09      0.79      0.15       952\n",
      "\n",
      "avg / total       0.89      0.37      0.47     13018\n",
      "\n",
      "0.559689564538\n"
     ]
    },
    {
     "data": {
      "text/html": [
       "<div>\n",
       "<table border=\"1\" class=\"dataframe\">\n",
       "  <thead>\n",
       "    <tr style=\"text-align: right;\">\n",
       "      <th></th>\n",
       "      <th>date</th>\n",
       "      <th>profile</th>\n",
       "      <th>Q0</th>\n",
       "      <th>tweet_id</th>\n",
       "      <th>rank</th>\n",
       "      <th>score</th>\n",
       "      <th>tag</th>\n",
       "    </tr>\n",
       "  </thead>\n",
       "  <tbody>\n",
       "    <tr>\n",
       "      <th>1</th>\n",
       "      <td>20170804</td>\n",
       "      <td>RTS47</td>\n",
       "      <td>Q0</td>\n",
       "      <td>893319966132514816</td>\n",
       "      <td>2</td>\n",
       "      <td>1.00</td>\n",
       "      <td>IRLAB-LDRP</td>\n",
       "    </tr>\n",
       "    <tr>\n",
       "      <th>4</th>\n",
       "      <td>20170804</td>\n",
       "      <td>RTS47</td>\n",
       "      <td>Q0</td>\n",
       "      <td>893484068276506624</td>\n",
       "      <td>5</td>\n",
       "      <td>0.70</td>\n",
       "      <td>IRLAB-LDRP</td>\n",
       "    </tr>\n",
       "    <tr>\n",
       "      <th>5</th>\n",
       "      <td>20170804</td>\n",
       "      <td>RTS47</td>\n",
       "      <td>Q0</td>\n",
       "      <td>893599965255258112</td>\n",
       "      <td>6</td>\n",
       "      <td>0.70</td>\n",
       "      <td>IRLAB-LDRP</td>\n",
       "    </tr>\n",
       "    <tr>\n",
       "      <th>13</th>\n",
       "      <td>20170804</td>\n",
       "      <td>RTS47</td>\n",
       "      <td>Q0</td>\n",
       "      <td>893319096560893952</td>\n",
       "      <td>14</td>\n",
       "      <td>0.59</td>\n",
       "      <td>IRLAB-LDRP</td>\n",
       "    </tr>\n",
       "    <tr>\n",
       "      <th>14</th>\n",
       "      <td>20170804</td>\n",
       "      <td>RTS47</td>\n",
       "      <td>Q0</td>\n",
       "      <td>893289817471057920</td>\n",
       "      <td>15</td>\n",
       "      <td>0.59</td>\n",
       "      <td>IRLAB-LDRP</td>\n",
       "    </tr>\n",
       "  </tbody>\n",
       "</table>\n",
       "</div>"
      ],
      "text/plain": [
       "        date profile  Q0            tweet_id  rank  score         tag\n",
       "1   20170804   RTS47  Q0  893319966132514816     2   1.00  IRLAB-LDRP\n",
       "4   20170804   RTS47  Q0  893484068276506624     5   0.70  IRLAB-LDRP\n",
       "5   20170804   RTS47  Q0  893599965255258112     6   0.70  IRLAB-LDRP\n",
       "13  20170804   RTS47  Q0  893319096560893952    14   0.59  IRLAB-LDRP\n",
       "14  20170804   RTS47  Q0  893289817471057920    15   0.59  IRLAB-LDRP"
      ]
     },
     "execution_count": 29,
     "metadata": {},
     "output_type": "execute_result"
    }
   ],
   "source": [
    "pred_class = nb.predict(X_test1)\n",
    " #calculate accuracy of class predictions\n",
    "from sklearn import metrics\n",
    "print(metrics.accuracy_score(y_test, pred_class))\n",
    "# print the confusion matrix\n",
    "print(metrics.confusion_matrix(y_test, pred_class))\n",
    "test_df['pred_class']= pred_class\n",
    "print (metrics.precision_score(y_test, pred_class))\n",
    "print(metrics.recall_score(y_test, pred_class))\n",
    "print (metrics.f1_score(y_test, pred_class))\n",
    "print(metrics.classification_report(y_test, pred_class,target_names=['NR','R']))\n",
    "#y_pred_prob = nb.predict_proba(X_test_dtm)[:, 1]\n",
    "#y_pred_prob\n",
    "print(metrics.roc_auc_score(y_test, pred_class))\n",
    "#test_df.head()\n",
    "test_df['Q0']='Q0'\n",
    "test_df['tag']='IRLAB-LDRP'\n",
    "log_df = test_df[test_df['pred_class']==1]\n",
    "log_df=log_df[['date','profile','Q0','tweet_id','rank','score','tag']]\n",
    "log_df.to_csv('D:/datas/2017output/result/lr-res/SVMpoinwise.txt',encoding='UTF-8',index=False,sep=' ',header=None)\n",
    "log_df.head()"
   ]
  },
  {
   "cell_type": "code",
   "execution_count": 11,
   "metadata": {
    "collapsed": false
   },
   "outputs": [
    {
     "name": "stdout",
     "output_type": "stream",
     "text": [
      "Wall time: 20 ms\n"
     ]
    },
    {
     "data": {
      "text/plain": [
       "KNeighborsClassifier(algorithm='auto', leaf_size=30, metric='minkowski',\n",
       "           metric_params=None, n_jobs=1, n_neighbors=5, p=2,\n",
       "           weights='uniform')"
      ]
     },
     "execution_count": 11,
     "metadata": {},
     "output_type": "execute_result"
    }
   ],
   "source": [
    "# import the class\n",
    "from sklearn.neighbors import KNeighborsClassifier\n",
    "\n",
    "# instantiate the model (with the default parameters)\n",
    "knn = KNeighborsClassifier()\n",
    "\n",
    "# fit the model with data (occurs in-place)\n",
    "%time knn.fit(X_train1, y_train)"
   ]
  },
  {
   "cell_type": "code",
   "execution_count": 12,
   "metadata": {
    "collapsed": false
   },
   "outputs": [
    {
     "data": {
      "text/plain": [
       "0.66615455523121836"
      ]
     },
     "execution_count": 12,
     "metadata": {},
     "output_type": "execute_result"
    }
   ],
   "source": [
    "pred_class = knn.predict(X_test1)\n",
    " #calculate accuracy of class predictions\n",
    "from sklearn import metrics\n",
    "metrics.accuracy_score(y_test, pred_class)\n"
   ]
  },
  {
   "cell_type": "code",
   "execution_count": 14,
   "metadata": {
    "collapsed": false
   },
   "outputs": [
    {
     "name": "stdout",
     "output_type": "stream",
     "text": [
      "0.122888888889\n",
      "0.580882352941\n",
      "0.20286133529\n",
      "             precision    recall  f1-score   support\n",
      "\n",
      "         NR       0.95      0.67      0.79     12066\n",
      "          R       0.12      0.58      0.20       952\n",
      "\n",
      "avg / total       0.89      0.67      0.75     13018\n",
      "\n",
      "0.626882416318\n"
     ]
    },
    {
     "data": {
      "text/plain": [
       "array([[8119, 3947],\n",
       "       [ 399,  553]])"
      ]
     },
     "execution_count": 14,
     "metadata": {},
     "output_type": "execute_result"
    }
   ],
   "source": [
    "print (metrics.precision_score(y_test, pred_class))\n",
    "print(metrics.recall_score(y_test, pred_class))\n",
    "print (metrics.f1_score(y_test, pred_class))\n",
    "print(metrics.classification_report(y_test, pred_class,target_names=['NR','R']))\n",
    "#y_pred_prob = nb.predict_proba(X_test_dtm)[:, 1]\n",
    "#y_pred_prob\n",
    "print(metrics.roc_auc_score(y_test, pred_class))\n",
    "metrics.confusion_matrix(y_test, pred_class)"
   ]
  },
  {
   "cell_type": "code",
   "execution_count": 16,
   "metadata": {
    "collapsed": false
   },
   "outputs": [
    {
     "data": {
      "text/html": [
       "<div>\n",
       "<table border=\"1\" class=\"dataframe\">\n",
       "  <thead>\n",
       "    <tr style=\"text-align: right;\">\n",
       "      <th></th>\n",
       "      <th>date</th>\n",
       "      <th>profile</th>\n",
       "      <th>tweet_id</th>\n",
       "      <th>rank</th>\n",
       "      <th>score</th>\n",
       "      <th>JM</th>\n",
       "      <th>Diri</th>\n",
       "      <th>BM25</th>\n",
       "      <th>prediction</th>\n",
       "      <th>Class</th>\n",
       "      <th>Q0</th>\n",
       "      <th>tag</th>\n",
       "    </tr>\n",
       "  </thead>\n",
       "  <tbody>\n",
       "    <tr>\n",
       "      <th>0</th>\n",
       "      <td>20170804</td>\n",
       "      <td>RTS47</td>\n",
       "      <td>893532395030196224</td>\n",
       "      <td>1</td>\n",
       "      <td>1.00</td>\n",
       "      <td>1.941409</td>\n",
       "      <td>0.925523</td>\n",
       "      <td>2.237589</td>\n",
       "      <td>0.922</td>\n",
       "      <td>1</td>\n",
       "      <td>Q0</td>\n",
       "      <td>IRLAB-LDRP</td>\n",
       "    </tr>\n",
       "    <tr>\n",
       "      <th>1</th>\n",
       "      <td>20170804</td>\n",
       "      <td>RTS47</td>\n",
       "      <td>893319966132514816</td>\n",
       "      <td>2</td>\n",
       "      <td>1.00</td>\n",
       "      <td>1.692350</td>\n",
       "      <td>0.915749</td>\n",
       "      <td>1.268197</td>\n",
       "      <td>0.910</td>\n",
       "      <td>1</td>\n",
       "      <td>Q0</td>\n",
       "      <td>IRLAB-LDRP</td>\n",
       "    </tr>\n",
       "    <tr>\n",
       "      <th>2</th>\n",
       "      <td>20170804</td>\n",
       "      <td>RTS47</td>\n",
       "      <td>893268233578532864</td>\n",
       "      <td>3</td>\n",
       "      <td>0.80</td>\n",
       "      <td>1.216536</td>\n",
       "      <td>0.133855</td>\n",
       "      <td>0.360471</td>\n",
       "      <td>0.505</td>\n",
       "      <td>1</td>\n",
       "      <td>Q0</td>\n",
       "      <td>IRLAB-LDRP</td>\n",
       "    </tr>\n",
       "    <tr>\n",
       "      <th>3</th>\n",
       "      <td>20170804</td>\n",
       "      <td>RTS47</td>\n",
       "      <td>893573742487629824</td>\n",
       "      <td>4</td>\n",
       "      <td>0.75</td>\n",
       "      <td>0.339254</td>\n",
       "      <td>-0.032298</td>\n",
       "      <td>1.497595</td>\n",
       "      <td>-0.017</td>\n",
       "      <td>1</td>\n",
       "      <td>Q0</td>\n",
       "      <td>IRLAB-LDRP</td>\n",
       "    </tr>\n",
       "    <tr>\n",
       "      <th>4</th>\n",
       "      <td>20170804</td>\n",
       "      <td>RTS47</td>\n",
       "      <td>893484068276506624</td>\n",
       "      <td>5</td>\n",
       "      <td>0.70</td>\n",
       "      <td>0.090195</td>\n",
       "      <td>-0.242432</td>\n",
       "      <td>-0.167391</td>\n",
       "      <td>-0.040</td>\n",
       "      <td>0</td>\n",
       "      <td>Q0</td>\n",
       "      <td>IRLAB-LDRP</td>\n",
       "    </tr>\n",
       "  </tbody>\n",
       "</table>\n",
       "</div>"
      ],
      "text/plain": [
       "       date profile            tweet_id  rank  score        JM      Diri  \\\n",
       "0  20170804   RTS47  893532395030196224     1   1.00  1.941409  0.925523   \n",
       "1  20170804   RTS47  893319966132514816     2   1.00  1.692350  0.915749   \n",
       "2  20170804   RTS47  893268233578532864     3   0.80  1.216536  0.133855   \n",
       "3  20170804   RTS47  893573742487629824     4   0.75  0.339254 -0.032298   \n",
       "4  20170804   RTS47  893484068276506624     5   0.70  0.090195 -0.242432   \n",
       "\n",
       "       BM25  prediction  Class  Q0         tag  \n",
       "0  2.237589       0.922      1  Q0  IRLAB-LDRP  \n",
       "1  1.268197       0.910      1  Q0  IRLAB-LDRP  \n",
       "2  0.360471       0.505      1  Q0  IRLAB-LDRP  \n",
       "3  1.497595      -0.017      1  Q0  IRLAB-LDRP  \n",
       "4 -0.167391      -0.040      0  Q0  IRLAB-LDRP  "
      ]
     },
     "execution_count": 16,
     "metadata": {},
     "output_type": "execute_result"
    }
   ],
   "source": [
    "test_df.head()"
   ]
  },
  {
   "cell_type": "code",
   "execution_count": 15,
   "metadata": {
    "collapsed": false
   },
   "outputs": [
    {
     "ename": "KeyError",
     "evalue": "'pred_class'",
     "output_type": "error",
     "traceback": [
      "\u001b[0;31m---------------------------------------------------------------------------\u001b[0m",
      "\u001b[0;31mKeyError\u001b[0m                                  Traceback (most recent call last)",
      "\u001b[0;32mC:\\Users\\lenovo\\Anaconda3\\lib\\site-packages\\pandas\\indexes\\base.py\u001b[0m in \u001b[0;36mget_loc\u001b[0;34m(self, key, method, tolerance)\u001b[0m\n\u001b[1;32m   2133\u001b[0m             \u001b[1;32mtry\u001b[0m\u001b[1;33m:\u001b[0m\u001b[1;33m\u001b[0m\u001b[0m\n\u001b[0;32m-> 2134\u001b[0;31m                 \u001b[1;32mreturn\u001b[0m \u001b[0mself\u001b[0m\u001b[1;33m.\u001b[0m\u001b[0m_engine\u001b[0m\u001b[1;33m.\u001b[0m\u001b[0mget_loc\u001b[0m\u001b[1;33m(\u001b[0m\u001b[0mkey\u001b[0m\u001b[1;33m)\u001b[0m\u001b[1;33m\u001b[0m\u001b[0m\n\u001b[0m\u001b[1;32m   2135\u001b[0m             \u001b[1;32mexcept\u001b[0m \u001b[0mKeyError\u001b[0m\u001b[1;33m:\u001b[0m\u001b[1;33m\u001b[0m\u001b[0m\n",
      "\u001b[0;32mpandas\\index.pyx\u001b[0m in \u001b[0;36mpandas.index.IndexEngine.get_loc (pandas\\index.c:4433)\u001b[0;34m()\u001b[0m\n",
      "\u001b[0;32mpandas\\index.pyx\u001b[0m in \u001b[0;36mpandas.index.IndexEngine.get_loc (pandas\\index.c:4279)\u001b[0;34m()\u001b[0m\n",
      "\u001b[0;32mpandas\\src\\hashtable_class_helper.pxi\u001b[0m in \u001b[0;36mpandas.hashtable.PyObjectHashTable.get_item (pandas\\hashtable.c:13742)\u001b[0;34m()\u001b[0m\n",
      "\u001b[0;32mpandas\\src\\hashtable_class_helper.pxi\u001b[0m in \u001b[0;36mpandas.hashtable.PyObjectHashTable.get_item (pandas\\hashtable.c:13696)\u001b[0;34m()\u001b[0m\n",
      "\u001b[0;31mKeyError\u001b[0m: 'pred_class'",
      "\nDuring handling of the above exception, another exception occurred:\n",
      "\u001b[0;31mKeyError\u001b[0m                                  Traceback (most recent call last)",
      "\u001b[0;32m<ipython-input-15-693e1fdff627>\u001b[0m in \u001b[0;36m<module>\u001b[0;34m()\u001b[0m\n\u001b[1;32m      2\u001b[0m \u001b[0mtest_df\u001b[0m\u001b[1;33m[\u001b[0m\u001b[1;34m'Q0'\u001b[0m\u001b[1;33m]\u001b[0m\u001b[1;33m=\u001b[0m\u001b[1;34m'Q0'\u001b[0m\u001b[1;33m\u001b[0m\u001b[0m\n\u001b[1;32m      3\u001b[0m \u001b[0mtest_df\u001b[0m\u001b[1;33m[\u001b[0m\u001b[1;34m'tag'\u001b[0m\u001b[1;33m]\u001b[0m\u001b[1;33m=\u001b[0m\u001b[1;34m'IRLAB-LDRP'\u001b[0m\u001b[1;33m\u001b[0m\u001b[0m\n\u001b[0;32m----> 4\u001b[0;31m \u001b[0mlog_df\u001b[0m \u001b[1;33m=\u001b[0m \u001b[0mtest_df\u001b[0m\u001b[1;33m[\u001b[0m\u001b[0mtest_df\u001b[0m\u001b[1;33m[\u001b[0m\u001b[1;34m'pred_class'\u001b[0m\u001b[1;33m]\u001b[0m\u001b[1;33m==\u001b[0m\u001b[1;36m1\u001b[0m\u001b[1;33m]\u001b[0m\u001b[1;33m\u001b[0m\u001b[0m\n\u001b[0m\u001b[1;32m      5\u001b[0m \u001b[0mlog_df\u001b[0m\u001b[1;33m=\u001b[0m\u001b[0mlog_df\u001b[0m\u001b[1;33m[\u001b[0m\u001b[1;33m[\u001b[0m\u001b[1;34m'date'\u001b[0m\u001b[1;33m,\u001b[0m\u001b[1;34m'profile'\u001b[0m\u001b[1;33m,\u001b[0m\u001b[1;34m'Q0'\u001b[0m\u001b[1;33m,\u001b[0m\u001b[1;34m'tweet_id'\u001b[0m\u001b[1;33m,\u001b[0m\u001b[1;34m'rank'\u001b[0m\u001b[1;33m,\u001b[0m\u001b[1;34m'score'\u001b[0m\u001b[1;33m,\u001b[0m\u001b[1;34m'tag'\u001b[0m\u001b[1;33m]\u001b[0m\u001b[1;33m]\u001b[0m\u001b[1;33m\u001b[0m\u001b[0m\n\u001b[1;32m      6\u001b[0m \u001b[0mlog_df\u001b[0m\u001b[1;33m.\u001b[0m\u001b[0mto_csv\u001b[0m\u001b[1;33m(\u001b[0m\u001b[1;34m'D:/datas/2017output/result/lr-res/knnpointwise.txt'\u001b[0m\u001b[1;33m,\u001b[0m\u001b[0mencoding\u001b[0m\u001b[1;33m=\u001b[0m\u001b[1;34m'UTF-8'\u001b[0m\u001b[1;33m,\u001b[0m\u001b[0mindex\u001b[0m\u001b[1;33m=\u001b[0m\u001b[1;32mFalse\u001b[0m\u001b[1;33m,\u001b[0m\u001b[0msep\u001b[0m\u001b[1;33m=\u001b[0m\u001b[1;34m' '\u001b[0m\u001b[1;33m,\u001b[0m\u001b[0mheader\u001b[0m\u001b[1;33m=\u001b[0m\u001b[1;32mNone\u001b[0m\u001b[1;33m)\u001b[0m\u001b[1;33m\u001b[0m\u001b[0m\n",
      "\u001b[0;32mC:\\Users\\lenovo\\Anaconda3\\lib\\site-packages\\pandas\\core\\frame.py\u001b[0m in \u001b[0;36m__getitem__\u001b[0;34m(self, key)\u001b[0m\n\u001b[1;32m   2057\u001b[0m             \u001b[1;32mreturn\u001b[0m \u001b[0mself\u001b[0m\u001b[1;33m.\u001b[0m\u001b[0m_getitem_multilevel\u001b[0m\u001b[1;33m(\u001b[0m\u001b[0mkey\u001b[0m\u001b[1;33m)\u001b[0m\u001b[1;33m\u001b[0m\u001b[0m\n\u001b[1;32m   2058\u001b[0m         \u001b[1;32melse\u001b[0m\u001b[1;33m:\u001b[0m\u001b[1;33m\u001b[0m\u001b[0m\n\u001b[0;32m-> 2059\u001b[0;31m             \u001b[1;32mreturn\u001b[0m \u001b[0mself\u001b[0m\u001b[1;33m.\u001b[0m\u001b[0m_getitem_column\u001b[0m\u001b[1;33m(\u001b[0m\u001b[0mkey\u001b[0m\u001b[1;33m)\u001b[0m\u001b[1;33m\u001b[0m\u001b[0m\n\u001b[0m\u001b[1;32m   2060\u001b[0m \u001b[1;33m\u001b[0m\u001b[0m\n\u001b[1;32m   2061\u001b[0m     \u001b[1;32mdef\u001b[0m \u001b[0m_getitem_column\u001b[0m\u001b[1;33m(\u001b[0m\u001b[0mself\u001b[0m\u001b[1;33m,\u001b[0m \u001b[0mkey\u001b[0m\u001b[1;33m)\u001b[0m\u001b[1;33m:\u001b[0m\u001b[1;33m\u001b[0m\u001b[0m\n",
      "\u001b[0;32mC:\\Users\\lenovo\\Anaconda3\\lib\\site-packages\\pandas\\core\\frame.py\u001b[0m in \u001b[0;36m_getitem_column\u001b[0;34m(self, key)\u001b[0m\n\u001b[1;32m   2064\u001b[0m         \u001b[1;31m# get column\u001b[0m\u001b[1;33m\u001b[0m\u001b[1;33m\u001b[0m\u001b[0m\n\u001b[1;32m   2065\u001b[0m         \u001b[1;32mif\u001b[0m \u001b[0mself\u001b[0m\u001b[1;33m.\u001b[0m\u001b[0mcolumns\u001b[0m\u001b[1;33m.\u001b[0m\u001b[0mis_unique\u001b[0m\u001b[1;33m:\u001b[0m\u001b[1;33m\u001b[0m\u001b[0m\n\u001b[0;32m-> 2066\u001b[0;31m             \u001b[1;32mreturn\u001b[0m \u001b[0mself\u001b[0m\u001b[1;33m.\u001b[0m\u001b[0m_get_item_cache\u001b[0m\u001b[1;33m(\u001b[0m\u001b[0mkey\u001b[0m\u001b[1;33m)\u001b[0m\u001b[1;33m\u001b[0m\u001b[0m\n\u001b[0m\u001b[1;32m   2067\u001b[0m \u001b[1;33m\u001b[0m\u001b[0m\n\u001b[1;32m   2068\u001b[0m         \u001b[1;31m# duplicate columns & possible reduce dimensionality\u001b[0m\u001b[1;33m\u001b[0m\u001b[1;33m\u001b[0m\u001b[0m\n",
      "\u001b[0;32mC:\\Users\\lenovo\\Anaconda3\\lib\\site-packages\\pandas\\core\\generic.py\u001b[0m in \u001b[0;36m_get_item_cache\u001b[0;34m(self, item)\u001b[0m\n\u001b[1;32m   1384\u001b[0m         \u001b[0mres\u001b[0m \u001b[1;33m=\u001b[0m \u001b[0mcache\u001b[0m\u001b[1;33m.\u001b[0m\u001b[0mget\u001b[0m\u001b[1;33m(\u001b[0m\u001b[0mitem\u001b[0m\u001b[1;33m)\u001b[0m\u001b[1;33m\u001b[0m\u001b[0m\n\u001b[1;32m   1385\u001b[0m         \u001b[1;32mif\u001b[0m \u001b[0mres\u001b[0m \u001b[1;32mis\u001b[0m \u001b[1;32mNone\u001b[0m\u001b[1;33m:\u001b[0m\u001b[1;33m\u001b[0m\u001b[0m\n\u001b[0;32m-> 1386\u001b[0;31m             \u001b[0mvalues\u001b[0m \u001b[1;33m=\u001b[0m \u001b[0mself\u001b[0m\u001b[1;33m.\u001b[0m\u001b[0m_data\u001b[0m\u001b[1;33m.\u001b[0m\u001b[0mget\u001b[0m\u001b[1;33m(\u001b[0m\u001b[0mitem\u001b[0m\u001b[1;33m)\u001b[0m\u001b[1;33m\u001b[0m\u001b[0m\n\u001b[0m\u001b[1;32m   1387\u001b[0m             \u001b[0mres\u001b[0m \u001b[1;33m=\u001b[0m \u001b[0mself\u001b[0m\u001b[1;33m.\u001b[0m\u001b[0m_box_item_values\u001b[0m\u001b[1;33m(\u001b[0m\u001b[0mitem\u001b[0m\u001b[1;33m,\u001b[0m \u001b[0mvalues\u001b[0m\u001b[1;33m)\u001b[0m\u001b[1;33m\u001b[0m\u001b[0m\n\u001b[1;32m   1388\u001b[0m             \u001b[0mcache\u001b[0m\u001b[1;33m[\u001b[0m\u001b[0mitem\u001b[0m\u001b[1;33m]\u001b[0m \u001b[1;33m=\u001b[0m \u001b[0mres\u001b[0m\u001b[1;33m\u001b[0m\u001b[0m\n",
      "\u001b[0;32mC:\\Users\\lenovo\\Anaconda3\\lib\\site-packages\\pandas\\core\\internals.py\u001b[0m in \u001b[0;36mget\u001b[0;34m(self, item, fastpath)\u001b[0m\n\u001b[1;32m   3541\u001b[0m \u001b[1;33m\u001b[0m\u001b[0m\n\u001b[1;32m   3542\u001b[0m             \u001b[1;32mif\u001b[0m \u001b[1;32mnot\u001b[0m \u001b[0misnull\u001b[0m\u001b[1;33m(\u001b[0m\u001b[0mitem\u001b[0m\u001b[1;33m)\u001b[0m\u001b[1;33m:\u001b[0m\u001b[1;33m\u001b[0m\u001b[0m\n\u001b[0;32m-> 3543\u001b[0;31m                 \u001b[0mloc\u001b[0m \u001b[1;33m=\u001b[0m \u001b[0mself\u001b[0m\u001b[1;33m.\u001b[0m\u001b[0mitems\u001b[0m\u001b[1;33m.\u001b[0m\u001b[0mget_loc\u001b[0m\u001b[1;33m(\u001b[0m\u001b[0mitem\u001b[0m\u001b[1;33m)\u001b[0m\u001b[1;33m\u001b[0m\u001b[0m\n\u001b[0m\u001b[1;32m   3544\u001b[0m             \u001b[1;32melse\u001b[0m\u001b[1;33m:\u001b[0m\u001b[1;33m\u001b[0m\u001b[0m\n\u001b[1;32m   3545\u001b[0m                 \u001b[0mindexer\u001b[0m \u001b[1;33m=\u001b[0m \u001b[0mnp\u001b[0m\u001b[1;33m.\u001b[0m\u001b[0marange\u001b[0m\u001b[1;33m(\u001b[0m\u001b[0mlen\u001b[0m\u001b[1;33m(\u001b[0m\u001b[0mself\u001b[0m\u001b[1;33m.\u001b[0m\u001b[0mitems\u001b[0m\u001b[1;33m)\u001b[0m\u001b[1;33m)\u001b[0m\u001b[1;33m[\u001b[0m\u001b[0misnull\u001b[0m\u001b[1;33m(\u001b[0m\u001b[0mself\u001b[0m\u001b[1;33m.\u001b[0m\u001b[0mitems\u001b[0m\u001b[1;33m)\u001b[0m\u001b[1;33m]\u001b[0m\u001b[1;33m\u001b[0m\u001b[0m\n",
      "\u001b[0;32mC:\\Users\\lenovo\\Anaconda3\\lib\\site-packages\\pandas\\indexes\\base.py\u001b[0m in \u001b[0;36mget_loc\u001b[0;34m(self, key, method, tolerance)\u001b[0m\n\u001b[1;32m   2134\u001b[0m                 \u001b[1;32mreturn\u001b[0m \u001b[0mself\u001b[0m\u001b[1;33m.\u001b[0m\u001b[0m_engine\u001b[0m\u001b[1;33m.\u001b[0m\u001b[0mget_loc\u001b[0m\u001b[1;33m(\u001b[0m\u001b[0mkey\u001b[0m\u001b[1;33m)\u001b[0m\u001b[1;33m\u001b[0m\u001b[0m\n\u001b[1;32m   2135\u001b[0m             \u001b[1;32mexcept\u001b[0m \u001b[0mKeyError\u001b[0m\u001b[1;33m:\u001b[0m\u001b[1;33m\u001b[0m\u001b[0m\n\u001b[0;32m-> 2136\u001b[0;31m                 \u001b[1;32mreturn\u001b[0m \u001b[0mself\u001b[0m\u001b[1;33m.\u001b[0m\u001b[0m_engine\u001b[0m\u001b[1;33m.\u001b[0m\u001b[0mget_loc\u001b[0m\u001b[1;33m(\u001b[0m\u001b[0mself\u001b[0m\u001b[1;33m.\u001b[0m\u001b[0m_maybe_cast_indexer\u001b[0m\u001b[1;33m(\u001b[0m\u001b[0mkey\u001b[0m\u001b[1;33m)\u001b[0m\u001b[1;33m)\u001b[0m\u001b[1;33m\u001b[0m\u001b[0m\n\u001b[0m\u001b[1;32m   2137\u001b[0m \u001b[1;33m\u001b[0m\u001b[0m\n\u001b[1;32m   2138\u001b[0m         \u001b[0mindexer\u001b[0m \u001b[1;33m=\u001b[0m \u001b[0mself\u001b[0m\u001b[1;33m.\u001b[0m\u001b[0mget_indexer\u001b[0m\u001b[1;33m(\u001b[0m\u001b[1;33m[\u001b[0m\u001b[0mkey\u001b[0m\u001b[1;33m]\u001b[0m\u001b[1;33m,\u001b[0m \u001b[0mmethod\u001b[0m\u001b[1;33m=\u001b[0m\u001b[0mmethod\u001b[0m\u001b[1;33m,\u001b[0m \u001b[0mtolerance\u001b[0m\u001b[1;33m=\u001b[0m\u001b[0mtolerance\u001b[0m\u001b[1;33m)\u001b[0m\u001b[1;33m\u001b[0m\u001b[0m\n",
      "\u001b[0;32mpandas\\index.pyx\u001b[0m in \u001b[0;36mpandas.index.IndexEngine.get_loc (pandas\\index.c:4433)\u001b[0;34m()\u001b[0m\n",
      "\u001b[0;32mpandas\\index.pyx\u001b[0m in \u001b[0;36mpandas.index.IndexEngine.get_loc (pandas\\index.c:4279)\u001b[0;34m()\u001b[0m\n",
      "\u001b[0;32mpandas\\src\\hashtable_class_helper.pxi\u001b[0m in \u001b[0;36mpandas.hashtable.PyObjectHashTable.get_item (pandas\\hashtable.c:13742)\u001b[0;34m()\u001b[0m\n",
      "\u001b[0;32mpandas\\src\\hashtable_class_helper.pxi\u001b[0m in \u001b[0;36mpandas.hashtable.PyObjectHashTable.get_item (pandas\\hashtable.c:13696)\u001b[0;34m()\u001b[0m\n",
      "\u001b[0;31mKeyError\u001b[0m: 'pred_class'"
     ]
    }
   ],
   "source": [
    "test_df.head()\n",
    "test_df['Q0']='Q0'\n",
    "test_df['tag']='IRLAB-LDRP'\n",
    "log_df = test_df[test_df['pred_class']==1]\n",
    "log_df=log_df[['date','profile','Q0','tweet_id','rank','score','tag']]\n",
    "log_df.to_csv('D:/datas/2017output/result/lr-res/knnpointwise.txt',encoding='UTF-8',index=False,sep=' ',header=None)\n",
    "log_df.head()"
   ]
  },
  {
   "cell_type": "code",
   "execution_count": 31,
   "metadata": {
    "collapsed": false
   },
   "outputs": [
    {
     "data": {
      "text/plain": [
       "95"
      ]
     },
     "execution_count": 31,
     "metadata": {},
     "output_type": "execute_result"
    }
   ],
   "source": [
    "len(ip2017)"
   ]
  },
  {
   "cell_type": "code",
   "execution_count": 22,
   "metadata": {
    "collapsed": false
   },
   "outputs": [
    {
     "name": "stdout",
     "output_type": "stream",
     "text": [
      "0    34799\n",
      "1     3029\n",
      "Name: Class, dtype: int64\n",
      "<class 'pandas.core.frame.DataFrame'>\n",
      "Int64Index: 34799 entries, 0 to 37827\n",
      "Data columns (total 6 columns):\n",
      "profile     34799 non-null object\n",
      "tweet_id    34799 non-null int64\n",
      "JM          34799 non-null float64\n",
      "Diri        34799 non-null float64\n",
      "BM25        34799 non-null float64\n",
      "Class       34799 non-null int64\n",
      "dtypes: float64(3), int64(2), object(1)\n",
      "memory usage: 1.9+ MB\n",
      "<class 'pandas.core.frame.DataFrame'>\n",
      "Int64Index: 3029 entries, 156 to 37705\n",
      "Data columns (total 6 columns):\n",
      "profile     3029 non-null object\n",
      "tweet_id    3029 non-null int64\n",
      "JM          3029 non-null float64\n",
      "Diri        3029 non-null float64\n",
      "BM25        3029 non-null float64\n",
      "Class       3029 non-null int64\n",
      "dtypes: float64(3), int64(2), object(1)\n",
      "memory usage: 165.6+ KB\n",
      "<class 'pandas.core.frame.DataFrame'>\n",
      "Int64Index: 3029 entries, 8354 to 25950\n",
      "Data columns (total 6 columns):\n",
      "profile     3029 non-null object\n",
      "tweet_id    3029 non-null int64\n",
      "JM          3029 non-null float64\n",
      "Diri        3029 non-null float64\n",
      "BM25        3029 non-null float64\n",
      "Class       3029 non-null int64\n",
      "dtypes: float64(3), int64(2), object(1)\n",
      "memory usage: 165.6+ KB\n",
      "0    12066\n",
      "1      952\n",
      "Name: Class, dtype: int64\n",
      "<class 'pandas.core.frame.DataFrame'>\n",
      "RangeIndex: 13018 entries, 0 to 13017\n",
      "Data columns (total 10 columns):\n",
      "date          13018 non-null int64\n",
      "profile       13018 non-null object\n",
      "tweet_id      13018 non-null int64\n",
      "rank          13018 non-null int64\n",
      "score         13018 non-null float64\n",
      "JM            13018 non-null float64\n",
      "Diri          13018 non-null float64\n",
      "BM25          13018 non-null float64\n",
      "prediction    13018 non-null float64\n",
      "Class         13018 non-null int64\n",
      "dtypes: float64(5), int64(4), object(1)\n",
      "memory usage: 1017.1+ KB\n",
      "<class 'pandas.core.frame.DataFrame'>\n",
      "Int64Index: 6058 entries, 32930 to 7786\n",
      "Data columns (total 3 columns):\n",
      "JM      6058 non-null float64\n",
      "Diri    6058 non-null float64\n",
      "BM25    6058 non-null float64\n",
      "dtypes: float64(3)\n",
      "memory usage: 189.3 KB\n",
      "<class 'pandas.core.frame.DataFrame'>\n",
      "RangeIndex: 13018 entries, 0 to 13017\n",
      "Data columns (total 3 columns):\n",
      "JM      13018 non-null float64\n",
      "Diri    13018 non-null float64\n",
      "BM25    13018 non-null float64\n",
      "dtypes: float64(3)\n",
      "memory usage: 305.2 KB\n",
      "1    3029\n",
      "0    3029\n",
      "Name: Class, dtype: int64\n",
      "0    12066\n",
      "1      952\n",
      "Name: Class, dtype: int64\n",
      "Wall time: 230 ms\n"
     ]
    },
    {
     "data": {
      "text/plain": [
       "RandomForestClassifier(bootstrap=True, class_weight=None, criterion='gini',\n",
       "            max_depth=None, max_features='auto', max_leaf_nodes=None,\n",
       "            min_impurity_split=1e-07, min_samples_leaf=1,\n",
       "            min_samples_split=2, min_weight_fraction_leaf=0.0,\n",
       "            n_estimators=10, n_jobs=1, oob_score=False, random_state=None,\n",
       "            verbose=0, warm_start=False)"
      ]
     },
     "execution_count": 22,
     "metadata": {},
     "output_type": "execute_result"
    }
   ],
   "source": [
    "import pandas as pd\n",
    "import os\n",
    "import numpy as np\n",
    "from sklearn.preprocessing import StandardScaler\n",
    "\n",
    "X_trainall=pd.read_csv('C:/Users\\lenovo\\AnacondaProjects\\learning-to-rank-master\\experiments/sample.txt',sep=','\n",
    "                    ,header=None,names=['profile','tweet_id','JM','Diri','BM25','Class'])\n",
    "scaler = StandardScaler()\n",
    "X_trainall['JM'] = scaler.fit_transform(X_trainall[['JM']])\n",
    "X_trainall['Diri'] = scaler.fit_transform(X_trainall[['Diri']])\n",
    "X_trainall['BM25'] = scaler.fit_transform(X_trainall[['BM25']])       \n",
    "X_trainall.head()\n",
    "\n",
    "X_trainall['Class']=np.where(X_trainall['Class'] ==2,1, X_trainall['Class'])\n",
    "X_trainall.head()\n",
    "\n",
    "\n",
    "print(X_trainall['Class'].value_counts())\n",
    "X_train0=X_trainall[X_trainall['Class']==0]\n",
    "X_train1=X_trainall[X_trainall['Class']> 0]\n",
    "X_train0.info()\n",
    "X_train1.info()\n",
    "X_train0=X_train0.sample(3029)\n",
    "X_train0.info()\n",
    "X_trainws=pd.concat([X_train0,X_train1])\n",
    "X_train = X_trainws.reindex(np.random.permutation(X_trainws.index))\n",
    "\n",
    "test_df = pd.read_csv('C:/Users\\lenovo\\AnacondaProjects\\learning-to-rank-master\\experiments/runfile/temp.txt',sep=','\n",
    "                    ,header=None,names=['date','profile','tweet_id','rank','score','JM','Diri','BM25','prediction','Class'])\n",
    "scaler = StandardScaler()\n",
    "test_df['JM'] = scaler.fit_transform(test_df[['JM']])\n",
    "test_df['Diri'] = scaler.fit_transform(test_df[['Diri']])\n",
    "test_df['BM25'] = scaler.fit_transform(test_df[['BM25']])       \n",
    "\n",
    "test_df['Class']=np.where(test_df['Class'] ==-1,0, test_df['Class'])\n",
    "test_df['Class']=np.where(test_df['Class'] ==2,1, test_df['Class'])\n",
    "print (test_df['Class'].value_counts())\n",
    "test_df.info()\n",
    "test_df.head()\n",
    "\n",
    "#X_train1=X_train[['JM','Diri','BM25','Class']]\n",
    "#print(X_train1.groupby('Class').mean())\n",
    "#y_train=X_train['Class']\n",
    "#xx_train=X_train1[['JM','Diri','BM25']]\n",
    "X_train1=X_train[['JM','Diri','BM25']]\n",
    "y_train = X_train['Class']\n",
    "\n",
    "X_test1=test_df[['JM','Diri','BM25']]\n",
    "#print(X_test1.groupby('Class').mean())\n",
    "#xx_test=X_test1[['JM','Diri','BM25']]\n",
    "y_test=test_df[['Class']]\n",
    "X_train1.info()\n",
    "X_test1.info()\n",
    "print(X_train['Class'].value_counts())\n",
    "print(y_test['Class'].value_counts())\n",
    "\n",
    "\n",
    "\n",
    "from sklearn.ensemble import RandomForestClassifier\n",
    "rclf = RandomForestClassifier(n_estimators=10)\n",
    "% time rclf.fit(X_train1, y_train)"
   ]
  },
  {
   "cell_type": "code",
   "execution_count": 24,
   "metadata": {
    "collapsed": false
   },
   "outputs": [
    {
     "name": "stdout",
     "output_type": "stream",
     "text": [
      "0.113690194221\n",
      "0.504201680672\n",
      "0.185543100116\n",
      "             precision    recall  f1-score   support\n",
      "\n",
      "         NR       0.95      0.69      0.80     12066\n",
      "          R       0.11      0.50      0.19       952\n",
      "\n",
      "avg / total       0.89      0.68      0.75     13018\n",
      "\n",
      "0.597037024656\n"
     ]
    },
    {
     "data": {
      "text/plain": [
       "array([[8324, 3742],\n",
       "       [ 472,  480]])"
      ]
     },
     "execution_count": 24,
     "metadata": {},
     "output_type": "execute_result"
    }
   ],
   "source": [
    "pred_class = rclf.predict(X_test1)\n",
    " #calculate accuracy of class predictions\n",
    "from sklearn import metrics\n",
    "metrics.accuracy_score(y_test, pred_class)\n",
    "print (metrics.precision_score(y_test, pred_class))\n",
    "print(metrics.recall_score(y_test, pred_class))\n",
    "print (metrics.f1_score(y_test, pred_class))\n",
    "print(metrics.classification_report(y_test, pred_class,target_names=['NR','R']))\n",
    "#y_pred_prob = nb.predict_proba(X_test_dtm)[:, 1]\n",
    "#y_pred_prob\n",
    "print(metrics.roc_auc_score(y_test, pred_class))\n",
    "metrics.confusion_matrix(y_test, pred_class)"
   ]
  },
  {
   "cell_type": "code",
   "execution_count": 26,
   "metadata": {
    "collapsed": false
   },
   "outputs": [
    {
     "name": "stdout",
     "output_type": "stream",
     "text": [
      "0    8796\n",
      "1    4222\n",
      "Name: pred_class, dtype: int64\n",
      "0    12066\n",
      "1      952\n",
      "Name: Class, dtype: int64\n"
     ]
    },
    {
     "data": {
      "text/html": [
       "<div>\n",
       "<table border=\"1\" class=\"dataframe\">\n",
       "  <thead>\n",
       "    <tr style=\"text-align: right;\">\n",
       "      <th></th>\n",
       "      <th>date</th>\n",
       "      <th>profile</th>\n",
       "      <th>tweet_id</th>\n",
       "      <th>rank</th>\n",
       "      <th>score</th>\n",
       "      <th>JM</th>\n",
       "      <th>Diri</th>\n",
       "      <th>BM25</th>\n",
       "      <th>prediction</th>\n",
       "      <th>Class</th>\n",
       "      <th>pred_class</th>\n",
       "    </tr>\n",
       "  </thead>\n",
       "  <tbody>\n",
       "    <tr>\n",
       "      <th>0</th>\n",
       "      <td>20170804</td>\n",
       "      <td>RTS47</td>\n",
       "      <td>893532395030196224</td>\n",
       "      <td>1</td>\n",
       "      <td>1.00</td>\n",
       "      <td>1.941409</td>\n",
       "      <td>0.925523</td>\n",
       "      <td>2.237589</td>\n",
       "      <td>0.922</td>\n",
       "      <td>1</td>\n",
       "      <td>1</td>\n",
       "    </tr>\n",
       "    <tr>\n",
       "      <th>1</th>\n",
       "      <td>20170804</td>\n",
       "      <td>RTS47</td>\n",
       "      <td>893319966132514816</td>\n",
       "      <td>2</td>\n",
       "      <td>1.00</td>\n",
       "      <td>1.692350</td>\n",
       "      <td>0.915749</td>\n",
       "      <td>1.268197</td>\n",
       "      <td>0.910</td>\n",
       "      <td>1</td>\n",
       "      <td>1</td>\n",
       "    </tr>\n",
       "    <tr>\n",
       "      <th>2</th>\n",
       "      <td>20170804</td>\n",
       "      <td>RTS47</td>\n",
       "      <td>893268233578532864</td>\n",
       "      <td>3</td>\n",
       "      <td>0.80</td>\n",
       "      <td>1.216536</td>\n",
       "      <td>0.133855</td>\n",
       "      <td>0.360471</td>\n",
       "      <td>0.505</td>\n",
       "      <td>1</td>\n",
       "      <td>1</td>\n",
       "    </tr>\n",
       "    <tr>\n",
       "      <th>3</th>\n",
       "      <td>20170804</td>\n",
       "      <td>RTS47</td>\n",
       "      <td>893573742487629824</td>\n",
       "      <td>4</td>\n",
       "      <td>0.75</td>\n",
       "      <td>0.339254</td>\n",
       "      <td>-0.032298</td>\n",
       "      <td>1.497595</td>\n",
       "      <td>-0.017</td>\n",
       "      <td>1</td>\n",
       "      <td>0</td>\n",
       "    </tr>\n",
       "    <tr>\n",
       "      <th>4</th>\n",
       "      <td>20170804</td>\n",
       "      <td>RTS47</td>\n",
       "      <td>893484068276506624</td>\n",
       "      <td>5</td>\n",
       "      <td>0.70</td>\n",
       "      <td>0.090195</td>\n",
       "      <td>-0.242432</td>\n",
       "      <td>-0.167391</td>\n",
       "      <td>-0.040</td>\n",
       "      <td>0</td>\n",
       "      <td>1</td>\n",
       "    </tr>\n",
       "  </tbody>\n",
       "</table>\n",
       "</div>"
      ],
      "text/plain": [
       "       date profile            tweet_id  rank  score        JM      Diri  \\\n",
       "0  20170804   RTS47  893532395030196224     1   1.00  1.941409  0.925523   \n",
       "1  20170804   RTS47  893319966132514816     2   1.00  1.692350  0.915749   \n",
       "2  20170804   RTS47  893268233578532864     3   0.80  1.216536  0.133855   \n",
       "3  20170804   RTS47  893573742487629824     4   0.75  0.339254 -0.032298   \n",
       "4  20170804   RTS47  893484068276506624     5   0.70  0.090195 -0.242432   \n",
       "\n",
       "       BM25  prediction  Class  pred_class  \n",
       "0  2.237589       0.922      1           1  \n",
       "1  1.268197       0.910      1           1  \n",
       "2  0.360471       0.505      1           1  \n",
       "3  1.497595      -0.017      1           0  \n",
       "4 -0.167391      -0.040      0           1  "
      ]
     },
     "execution_count": 26,
     "metadata": {},
     "output_type": "execute_result"
    }
   ],
   "source": [
    "test_df['pred_class']= pred_class\n",
    "print (test_df['pred_class'].value_counts())\n",
    "print (y_test['Class'].value_counts())\n",
    "test_df.head()"
   ]
  },
  {
   "cell_type": "code",
   "execution_count": 27,
   "metadata": {
    "collapsed": false
   },
   "outputs": [
    {
     "data": {
      "text/html": [
       "<div>\n",
       "<table border=\"1\" class=\"dataframe\">\n",
       "  <thead>\n",
       "    <tr style=\"text-align: right;\">\n",
       "      <th></th>\n",
       "      <th>date</th>\n",
       "      <th>profile</th>\n",
       "      <th>Q0</th>\n",
       "      <th>tweet_id</th>\n",
       "      <th>rank</th>\n",
       "      <th>score</th>\n",
       "      <th>tag</th>\n",
       "    </tr>\n",
       "  </thead>\n",
       "  <tbody>\n",
       "    <tr>\n",
       "      <th>0</th>\n",
       "      <td>20170804</td>\n",
       "      <td>RTS47</td>\n",
       "      <td>Q0</td>\n",
       "      <td>893532395030196224</td>\n",
       "      <td>1</td>\n",
       "      <td>1.00</td>\n",
       "      <td>IRLAB-LDRP</td>\n",
       "    </tr>\n",
       "    <tr>\n",
       "      <th>1</th>\n",
       "      <td>20170804</td>\n",
       "      <td>RTS47</td>\n",
       "      <td>Q0</td>\n",
       "      <td>893319966132514816</td>\n",
       "      <td>2</td>\n",
       "      <td>1.00</td>\n",
       "      <td>IRLAB-LDRP</td>\n",
       "    </tr>\n",
       "    <tr>\n",
       "      <th>2</th>\n",
       "      <td>20170804</td>\n",
       "      <td>RTS47</td>\n",
       "      <td>Q0</td>\n",
       "      <td>893268233578532864</td>\n",
       "      <td>3</td>\n",
       "      <td>0.80</td>\n",
       "      <td>IRLAB-LDRP</td>\n",
       "    </tr>\n",
       "    <tr>\n",
       "      <th>4</th>\n",
       "      <td>20170804</td>\n",
       "      <td>RTS47</td>\n",
       "      <td>Q0</td>\n",
       "      <td>893484068276506624</td>\n",
       "      <td>5</td>\n",
       "      <td>0.70</td>\n",
       "      <td>IRLAB-LDRP</td>\n",
       "    </tr>\n",
       "    <tr>\n",
       "      <th>8</th>\n",
       "      <td>20170804</td>\n",
       "      <td>RTS47</td>\n",
       "      <td>Q0</td>\n",
       "      <td>893583511009071105</td>\n",
       "      <td>9</td>\n",
       "      <td>0.62</td>\n",
       "      <td>IRLAB-LDRP</td>\n",
       "    </tr>\n",
       "  </tbody>\n",
       "</table>\n",
       "</div>"
      ],
      "text/plain": [
       "       date profile  Q0            tweet_id  rank  score         tag\n",
       "0  20170804   RTS47  Q0  893532395030196224     1   1.00  IRLAB-LDRP\n",
       "1  20170804   RTS47  Q0  893319966132514816     2   1.00  IRLAB-LDRP\n",
       "2  20170804   RTS47  Q0  893268233578532864     3   0.80  IRLAB-LDRP\n",
       "4  20170804   RTS47  Q0  893484068276506624     5   0.70  IRLAB-LDRP\n",
       "8  20170804   RTS47  Q0  893583511009071105     9   0.62  IRLAB-LDRP"
      ]
     },
     "execution_count": 27,
     "metadata": {},
     "output_type": "execute_result"
    }
   ],
   "source": [
    "test_df.head()\n",
    "test_df['Q0']='Q0'\n",
    "test_df['tag']='IRLAB-LDRP'\n",
    "log_df = test_df[test_df['pred_class']==1]\n",
    "log_df=log_df[['date','profile','Q0','tweet_id','rank','score','tag']]\n",
    "log_df.to_csv('D:/datas/2017output/result/lr-res/RFpoinwise.txt',encoding='UTF-8',index=False,sep=' ',header=None)\n",
    "log_df.head()"
   ]
  },
  {
   "cell_type": "code",
   "execution_count": null,
   "metadata": {
    "collapsed": true
   },
   "outputs": [],
   "source": []
  }
 ],
 "metadata": {
  "kernelspec": {
   "display_name": "lr-final",
   "language": "python",
   "name": "lr-final"
  },
  "language_info": {
   "codemirror_mode": {
    "name": "ipython",
    "version": 3
   },
   "file_extension": ".py",
   "mimetype": "text/x-python",
   "name": "python",
   "nbconvert_exporter": "python",
   "pygments_lexer": "ipython3",
   "version": "3.6.0"
  }
 },
 "nbformat": 4,
 "nbformat_minor": 2
}
