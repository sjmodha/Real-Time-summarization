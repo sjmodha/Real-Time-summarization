{
  "nbformat": 4,
  "nbformat_minor": 0,
  "metadata": {
    "kernelspec": {
      "display_name": "conda env tensorflow",
      "language": "python",
      "name": "tensorflow"
    },
    "language_info": {
      "codemirror_mode": {
        "name": "ipython",
        "version": 3
      },
      "file_extension": ".py",
      "mimetype": "text/x-python",
      "name": "python",
      "nbconvert_exporter": "python",
      "pygments_lexer": "ipython3",
      "version": "3.5.3"
    },
    "colab": {
      "name": "LR-point-wise_threshold_predict.ipynb",
      "provenance": []
    }
  },
  "cells": [
    {
      "cell_type": "code",
      "metadata": {
        "collapsed": true,
        "id": "vQRmV9YH0cU0"
      },
      "source": [
        "# Import\n",
        "import tensorflow as tf\n",
        "import numpy as np\n",
        "import pandas as pd\n",
        "from sklearn.preprocessing import MinMaxScaler\n",
        "import matplotlib.pyplot as plt\n"
      ],
      "execution_count": null,
      "outputs": []
    },
    {
      "cell_type": "code",
      "metadata": {
        "id": "3AssxAEF0cU_",
        "outputId": "13c9b764-e982-4e0f-e523-17c1c5e54333"
      },
      "source": [
        "import keras"
      ],
      "execution_count": null,
      "outputs": [
        {
          "output_type": "stream",
          "text": [
            "Using TensorFlow backend.\n"
          ],
          "name": "stderr"
        }
      ]
    },
    {
      "cell_type": "code",
      "metadata": {
        "id": "qtPc29430cU_"
      },
      "source": [
        "import numpy as np\n",
        "import pandas as pd\n",
        "\n",
        "from keras.models import Sequential\n",
        "from keras.layers import Dense,Activation,Layer,Lambda\n",
        "\n",
        "from sklearn.cross_validation import train_test_split"
      ],
      "execution_count": null,
      "outputs": []
    },
    {
      "cell_type": "code",
      "metadata": {
        "id": "1xtWopJT0cVD"
      },
      "source": [
        "from sklearn.preprocessing import StandardScaler\n",
        "\n",
        "X_trainall=pd.read_csv('C:/Users\\lenovo\\AnacondaProjects\\learning-to-rank-master\\experiments/sample.txt',sep=','\n",
        "                    ,header=None,names=['profile','tweet_id','JM','Diri','BM25','Class'])\n",
        "X_trainall.head()\n",
        "\n",
        "scaler = StandardScaler()\n",
        "X_trainall['JM'] = scaler.fit_transform(X_trainall[['JM']])\n",
        "X_trainall['Diri'] = scaler.fit_transform(X_trainall[['Diri']])\n",
        "X_trainall['BM25'] = scaler.fit_transform(X_trainall[['BM25']])       \n",
        "X_trainall.head()\n",
        "\n",
        "\n",
        "X_test=pd.read_csv('C:/Users\\lenovo\\AnacondaProjects\\learning-to-rank-master\\experiments/gtest.txt',sep=','\n",
        "                    ,header=None,names=['profile','tweet_id','JM','Diri','BM25','Class'])\n",
        "X_test.head()\n",
        "\n",
        "scaler = StandardScaler()\n",
        "X_test['JM'] = scaler.fit_transform(X_test[['JM']])\n",
        "X_test['Diri'] = scaler.fit_transform(X_test[['Diri']])\n",
        "X_test['BM25'] = scaler.fit_transform(X_test[['BM25']])       \n",
        "X_test.head()\n",
        "\n",
        "\n",
        "X_trainall['Class']=np.where(X_trainall['Class'] ==2,1, X_trainall['Class'])\n",
        "X_test['Class']=np.where(X_test['Class'] ==-2,0, X_test['Class'])\n",
        "X_test['Class']=np.where(X_test['Class'] ==2,1, X_test['Class'])"
      ],
      "execution_count": null,
      "outputs": []
    },
    {
      "cell_type": "code",
      "metadata": {
        "id": "9zRXdCzt0cVD",
        "outputId": "5976a5d4-de6d-4f65-804e-407be924c077"
      },
      "source": [
        "print(X_trainall['Class'].value_counts())\n",
        "X_train0=X_trainall[X_trainall['Class']==0]\n",
        "X_train1=X_trainall[X_trainall['Class']==1]\n",
        "X_train0.info()\n",
        "X_train1.info()\n",
        "X_train0=X_train0.sample(3029)\n",
        "X_train0.info()\n",
        "X_trainws=pd.concat([X_train0,X_train1])\n",
        "\n"
      ],
      "execution_count": null,
      "outputs": [
        {
          "output_type": "stream",
          "text": [
            "0    34799\n",
            "1     3029\n",
            "Name: Class, dtype: int64\n",
            "<class 'pandas.core.frame.DataFrame'>\n",
            "Int64Index: 34799 entries, 0 to 37827\n",
            "Data columns (total 6 columns):\n",
            "profile     34799 non-null object\n",
            "tweet_id    34799 non-null int64\n",
            "JM          34799 non-null float64\n",
            "Diri        34799 non-null float64\n",
            "BM25        34799 non-null float64\n",
            "Class       34799 non-null int64\n",
            "dtypes: float64(3), int64(2), object(1)\n",
            "memory usage: 1.9+ MB\n",
            "<class 'pandas.core.frame.DataFrame'>\n",
            "Int64Index: 3029 entries, 156 to 37705\n",
            "Data columns (total 6 columns):\n",
            "profile     3029 non-null object\n",
            "tweet_id    3029 non-null int64\n",
            "JM          3029 non-null float64\n",
            "Diri        3029 non-null float64\n",
            "BM25        3029 non-null float64\n",
            "Class       3029 non-null int64\n",
            "dtypes: float64(3), int64(2), object(1)\n",
            "memory usage: 165.6+ KB\n",
            "<class 'pandas.core.frame.DataFrame'>\n",
            "Int64Index: 3029 entries, 19668 to 700\n",
            "Data columns (total 6 columns):\n",
            "profile     3029 non-null object\n",
            "tweet_id    3029 non-null int64\n",
            "JM          3029 non-null float64\n",
            "Diri        3029 non-null float64\n",
            "BM25        3029 non-null float64\n",
            "Class       3029 non-null int64\n",
            "dtypes: float64(3), int64(2), object(1)\n",
            "memory usage: 165.6+ KB\n"
          ],
          "name": "stdout"
        }
      ]
    },
    {
      "cell_type": "code",
      "metadata": {
        "id": "O1ndkvn_0cVD",
        "outputId": "d1bfb8a5-e7d7-45a2-f62c-4b1f08f5b66a"
      },
      "source": [
        "df = pd.DataFrame({\"D1\":range(5), \"D2\":range(5)})\n",
        "print(df)\n",
        "df2 = df.reindex(np.random.permutation(df.index))\n",
        "print(df2)"
      ],
      "execution_count": null,
      "outputs": [
        {
          "output_type": "stream",
          "text": [
            "   D1  D2\n",
            "0   0   0\n",
            "1   1   1\n",
            "2   2   2\n",
            "3   3   3\n",
            "4   4   4\n",
            "   D1  D2\n",
            "3   3   3\n",
            "1   1   1\n",
            "0   0   0\n",
            "4   4   4\n",
            "2   2   2\n"
          ],
          "name": "stdout"
        }
      ]
    },
    {
      "cell_type": "code",
      "metadata": {
        "id": "9RbzmNIO0cVE"
      },
      "source": [
        "X_train = X_trainws.reindex(np.random.permutation(X_trainws.index))\n"
      ],
      "execution_count": null,
      "outputs": []
    },
    {
      "cell_type": "code",
      "metadata": {
        "id": "IAsny0yQ0cVE",
        "outputId": "bb42e1a1-9e86-4e1b-b349-a39e26bfb48b"
      },
      "source": [
        "X_train.info()\n",
        "X_trainws.info()\n",
        "X_train.head()"
      ],
      "execution_count": null,
      "outputs": [
        {
          "output_type": "stream",
          "text": [
            "<class 'pandas.core.frame.DataFrame'>\n",
            "Int64Index: 6058 entries, 27934 to 31192\n",
            "Data columns (total 6 columns):\n",
            "profile     6058 non-null object\n",
            "tweet_id    6058 non-null int64\n",
            "JM          6058 non-null float64\n",
            "Diri        6058 non-null float64\n",
            "BM25        6058 non-null float64\n",
            "Class       6058 non-null int64\n",
            "dtypes: float64(3), int64(2), object(1)\n",
            "memory usage: 331.3+ KB\n",
            "<class 'pandas.core.frame.DataFrame'>\n",
            "Int64Index: 6058 entries, 19668 to 37705\n",
            "Data columns (total 6 columns):\n",
            "profile     6058 non-null object\n",
            "tweet_id    6058 non-null int64\n",
            "JM          6058 non-null float64\n",
            "Diri        6058 non-null float64\n",
            "BM25        6058 non-null float64\n",
            "Class       6058 non-null int64\n",
            "dtypes: float64(3), int64(2), object(1)\n",
            "memory usage: 331.3+ KB\n"
          ],
          "name": "stdout"
        },
        {
          "output_type": "execute_result",
          "data": {
            "text/html": [
              "<div>\n",
              "<table border=\"1\" class=\"dataframe\">\n",
              "  <thead>\n",
              "    <tr style=\"text-align: right;\">\n",
              "      <th></th>\n",
              "      <th>profile</th>\n",
              "      <th>tweet_id</th>\n",
              "      <th>JM</th>\n",
              "      <th>Diri</th>\n",
              "      <th>BM25</th>\n",
              "      <th>Class</th>\n",
              "    </tr>\n",
              "  </thead>\n",
              "  <tbody>\n",
              "    <tr>\n",
              "      <th>27934</th>\n",
              "      <td>RTS25</td>\n",
              "      <td>763267446211907584</td>\n",
              "      <td>1.442579</td>\n",
              "      <td>-0.371512</td>\n",
              "      <td>1.457239</td>\n",
              "      <td>0</td>\n",
              "    </tr>\n",
              "    <tr>\n",
              "      <th>16825</th>\n",
              "      <td>MB409</td>\n",
              "      <td>763735538931228672</td>\n",
              "      <td>1.332244</td>\n",
              "      <td>2.144493</td>\n",
              "      <td>1.336395</td>\n",
              "      <td>1</td>\n",
              "    </tr>\n",
              "    <tr>\n",
              "      <th>15533</th>\n",
              "      <td>MB391</td>\n",
              "      <td>761608699672690688</td>\n",
              "      <td>-0.606243</td>\n",
              "      <td>-0.103754</td>\n",
              "      <td>-0.787672</td>\n",
              "      <td>1</td>\n",
              "    </tr>\n",
              "    <tr>\n",
              "      <th>20966</th>\n",
              "      <td>MB438</td>\n",
              "      <td>761721971017125889</td>\n",
              "      <td>-0.672444</td>\n",
              "      <td>-0.274565</td>\n",
              "      <td>-0.834150</td>\n",
              "      <td>0</td>\n",
              "    </tr>\n",
              "    <tr>\n",
              "      <th>7695</th>\n",
              "      <td>MB286</td>\n",
              "      <td>763539547493838849</td>\n",
              "      <td>-1.113781</td>\n",
              "      <td>-1.373298</td>\n",
              "      <td>-1.222246</td>\n",
              "      <td>0</td>\n",
              "    </tr>\n",
              "  </tbody>\n",
              "</table>\n",
              "</div>"
            ],
            "text/plain": [
              "      profile            tweet_id        JM      Diri      BM25  Class\n",
              "27934   RTS25  763267446211907584  1.442579 -0.371512  1.457239      0\n",
              "16825   MB409  763735538931228672  1.332244  2.144493  1.336395      1\n",
              "15533   MB391  761608699672690688 -0.606243 -0.103754 -0.787672      1\n",
              "20966   MB438  761721971017125889 -0.672444 -0.274565 -0.834150      0\n",
              "7695    MB286  763539547493838849 -1.113781 -1.373298 -1.222246      0"
            ]
          },
          "metadata": {
            "tags": []
          },
          "execution_count": 8
        }
      ]
    },
    {
      "cell_type": "code",
      "metadata": {
        "id": "DLBRzj7f0cVE",
        "outputId": "6595dc04-cb6e-4e8b-df4a-ac4f1bf6d50a"
      },
      "source": [
        "test_df = pd.read_csv('C:/Users\\lenovo\\AnacondaProjects\\learning-to-rank-master\\experiments/runfile/temp.txt',sep=','\n",
        "                    ,header=None,names=['date','profile','tweet_id','rank','score','JM','Diri','BM25','prediction','Class'])\n",
        "scaler = StandardScaler()\n",
        "test_df['JM'] = scaler.fit_transform(test_df[['JM']])\n",
        "test_df['Diri'] = scaler.fit_transform(test_df[['Diri']])\n",
        "test_df['BM25'] = scaler.fit_transform(test_df[['BM25']])       \n",
        "\n",
        "test_df['Class']=np.where(test_df['Class'] ==-1,0, test_df['Class'])\n",
        "test_df['Class']=np.where(test_df['Class'] ==2,1, test_df['Class'])\n",
        "print (test_df['Class'].value_counts())\n",
        "test_df.info()\n",
        "test_df.head()"
      ],
      "execution_count": null,
      "outputs": [
        {
          "output_type": "stream",
          "text": [
            "0    12066\n",
            "1      952\n",
            "Name: Class, dtype: int64\n",
            "<class 'pandas.core.frame.DataFrame'>\n",
            "RangeIndex: 13018 entries, 0 to 13017\n",
            "Data columns (total 10 columns):\n",
            "date          13018 non-null int64\n",
            "profile       13018 non-null object\n",
            "tweet_id      13018 non-null int64\n",
            "rank          13018 non-null int64\n",
            "score         13018 non-null float64\n",
            "JM            13018 non-null float64\n",
            "Diri          13018 non-null float64\n",
            "BM25          13018 non-null float64\n",
            "prediction    13018 non-null float64\n",
            "Class         13018 non-null int64\n",
            "dtypes: float64(5), int64(4), object(1)\n",
            "memory usage: 1017.1+ KB\n"
          ],
          "name": "stdout"
        },
        {
          "output_type": "execute_result",
          "data": {
            "text/html": [
              "<div>\n",
              "<table border=\"1\" class=\"dataframe\">\n",
              "  <thead>\n",
              "    <tr style=\"text-align: right;\">\n",
              "      <th></th>\n",
              "      <th>date</th>\n",
              "      <th>profile</th>\n",
              "      <th>tweet_id</th>\n",
              "      <th>rank</th>\n",
              "      <th>score</th>\n",
              "      <th>JM</th>\n",
              "      <th>Diri</th>\n",
              "      <th>BM25</th>\n",
              "      <th>prediction</th>\n",
              "      <th>Class</th>\n",
              "    </tr>\n",
              "  </thead>\n",
              "  <tbody>\n",
              "    <tr>\n",
              "      <th>0</th>\n",
              "      <td>20170804</td>\n",
              "      <td>RTS47</td>\n",
              "      <td>893532395030196224</td>\n",
              "      <td>1</td>\n",
              "      <td>1.00</td>\n",
              "      <td>1.941409</td>\n",
              "      <td>0.925523</td>\n",
              "      <td>2.237589</td>\n",
              "      <td>0.922</td>\n",
              "      <td>1</td>\n",
              "    </tr>\n",
              "    <tr>\n",
              "      <th>1</th>\n",
              "      <td>20170804</td>\n",
              "      <td>RTS47</td>\n",
              "      <td>893319966132514816</td>\n",
              "      <td>2</td>\n",
              "      <td>1.00</td>\n",
              "      <td>1.692350</td>\n",
              "      <td>0.915749</td>\n",
              "      <td>1.268197</td>\n",
              "      <td>0.910</td>\n",
              "      <td>1</td>\n",
              "    </tr>\n",
              "    <tr>\n",
              "      <th>2</th>\n",
              "      <td>20170804</td>\n",
              "      <td>RTS47</td>\n",
              "      <td>893268233578532864</td>\n",
              "      <td>3</td>\n",
              "      <td>0.80</td>\n",
              "      <td>1.216536</td>\n",
              "      <td>0.133855</td>\n",
              "      <td>0.360471</td>\n",
              "      <td>0.505</td>\n",
              "      <td>1</td>\n",
              "    </tr>\n",
              "    <tr>\n",
              "      <th>3</th>\n",
              "      <td>20170804</td>\n",
              "      <td>RTS47</td>\n",
              "      <td>893573742487629824</td>\n",
              "      <td>4</td>\n",
              "      <td>0.75</td>\n",
              "      <td>0.339254</td>\n",
              "      <td>-0.032298</td>\n",
              "      <td>1.497595</td>\n",
              "      <td>-0.017</td>\n",
              "      <td>1</td>\n",
              "    </tr>\n",
              "    <tr>\n",
              "      <th>4</th>\n",
              "      <td>20170804</td>\n",
              "      <td>RTS47</td>\n",
              "      <td>893484068276506624</td>\n",
              "      <td>5</td>\n",
              "      <td>0.70</td>\n",
              "      <td>0.090195</td>\n",
              "      <td>-0.242432</td>\n",
              "      <td>-0.167391</td>\n",
              "      <td>-0.040</td>\n",
              "      <td>0</td>\n",
              "    </tr>\n",
              "  </tbody>\n",
              "</table>\n",
              "</div>"
            ],
            "text/plain": [
              "       date profile            tweet_id  rank  score        JM      Diri  \\\n",
              "0  20170804   RTS47  893532395030196224     1   1.00  1.941409  0.925523   \n",
              "1  20170804   RTS47  893319966132514816     2   1.00  1.692350  0.915749   \n",
              "2  20170804   RTS47  893268233578532864     3   0.80  1.216536  0.133855   \n",
              "3  20170804   RTS47  893573742487629824     4   0.75  0.339254 -0.032298   \n",
              "4  20170804   RTS47  893484068276506624     5   0.70  0.090195 -0.242432   \n",
              "\n",
              "       BM25  prediction  Class  \n",
              "0  2.237589       0.922      1  \n",
              "1  1.268197       0.910      1  \n",
              "2  0.360471       0.505      1  \n",
              "3  1.497595      -0.017      1  \n",
              "4 -0.167391      -0.040      0  "
            ]
          },
          "metadata": {
            "tags": []
          },
          "execution_count": 9
        }
      ]
    },
    {
      "cell_type": "code",
      "metadata": {
        "id": "MJwEbzu30cVE"
      },
      "source": [
        "X=X_train.drop([\"profile\",'tweet_id','Class'],axis=1)\n",
        "#X=X_train.drop([\"Profile\"],axis=1)\n",
        "\n",
        "y=X_train[\"Class\"]\n",
        "\n",
        "#Xt=X_test.drop([\"profile\",'tweet_id','Class'],axis=1)\n",
        "#X=X_train.drop([\"Profile\"],axis=1)\n",
        "Xt=test_df[['JM','Diri','BM25']]\n",
        "yt=test_df[\"Class\"]\n"
      ],
      "execution_count": null,
      "outputs": []
    },
    {
      "cell_type": "code",
      "metadata": {
        "id": "0BrX3oEc0cVF"
      },
      "source": [
        "trainX, trainY = X, y\n",
        "testX,  testY = Xt, yt\n",
        "\n",
        "#trainX, valX, trainY, valY = train_test_split(trainX, trainY, test_size=0.2, random_state=42)"
      ],
      "execution_count": null,
      "outputs": []
    },
    {
      "cell_type": "code",
      "metadata": {
        "collapsed": true,
        "id": "K-2iJDO70cVF"
      },
      "source": [
        "#hein?? what is all this??\n",
        "def getModel(arr):\n",
        "    model=Sequential()\n",
        "    for i in range(len(arr)):\n",
        "        if i!=0 and i!=len(arr)-1:\n",
        "            if i==1:\n",
        "                model.add(Dense(arr[i],input_dim=arr[0],kernel_initializer='normal', activation='relu'))\n",
        "            else:\n",
        "                model.add(Dense(arr[i],activation='relu'))\n",
        "    model.add(Dense(arr[-1],kernel_initializer='normal',activation=\"sigmoid\"))\n",
        "    model.compile(loss=\"binary_crossentropy\",optimizer='rmsprop',metrics=['accuracy'])\n",
        "    return model"
      ],
      "execution_count": null,
      "outputs": []
    },
    {
      "cell_type": "code",
      "metadata": {
        "id": "Ao1dx1t90cVF"
      },
      "source": [
        "#firstModel=getModel([30,50,1])\n",
        "firstModel=getModel([3,6,1])\n"
      ],
      "execution_count": null,
      "outputs": []
    },
    {
      "cell_type": "code",
      "metadata": {
        "collapsed": true,
        "id": "78e087wU0cVF"
      },
      "source": [
        "import keras\n",
        "import matplotlib.pyplot as plt\n",
        "from IPython.display import clear_output\n",
        "class PlotLosses(keras.callbacks.Callback):\n",
        "    def on_train_begin(self, logs={}):\n",
        "        self.i = 0\n",
        "        self.x = []\n",
        "        self.losses = []\n",
        "        self.val_losses = []\n",
        "        \n",
        "        self.fig = plt.figure()\n",
        "        \n",
        "        self.logs = []\n",
        "\n",
        "    def on_epoch_end(self, epoch, logs={}):\n",
        "        \n",
        "        self.logs.append(logs)\n",
        "        self.x.append(self.i)\n",
        "        self.losses.append(logs.get('loss'))\n",
        "        self.val_losses.append(logs.get('val_loss'))\n",
        "        self.i += 1\n",
        "        \n",
        "        clear_output(wait=True)\n",
        "        plt.plot(self.x, self.losses, label=\"loss\")\n",
        "        plt.legend()\n",
        "        plt.show();\n",
        "        \n",
        "plot_losses = PlotLosses()"
      ],
      "execution_count": null,
      "outputs": []
    },
    {
      "cell_type": "code",
      "metadata": {
        "id": "tKPzZPTZ0cVG",
        "outputId": "c6241978-c9d4-40a0-d7dc-1ac42ddaec1a"
      },
      "source": [
        "firstModel.fit(np.array(trainX),np.array(trainY),epochs=100,callbacks=[plot_losses])\n"
      ],
      "execution_count": null,
      "outputs": [
        {
          "output_type": "display_data",
          "data": {
            "image/png": "[encoded data removed]",
            "text/plain": [
              "<matplotlib.figure.Figure at 0xde0fac8>"
            ]
          },
          "metadata": {
            "tags": []
          }
        },
        {
          "output_type": "stream",
          "text": [
            "6058/6058 [==============================] - 1s - loss: 0.5601 - acc: 0.7257     \n"
          ],
          "name": "stdout"
        },
        {
          "output_type": "execute_result",
          "data": {
            "text/plain": [
              "<keras.callbacks.History at 0x144f6828>"
            ]
          },
          "metadata": {
            "tags": []
          },
          "execution_count": 56
        }
      ]
    },
    {
      "cell_type": "code",
      "metadata": {
        "id": "SUU-hb530cVG",
        "outputId": "090d9f0d-8001-4bec-d056-364020fd4abf"
      },
      "source": [
        "scores=firstModel.evaluate(np.array(valX),np.array(valY))\n"
      ],
      "execution_count": null,
      "outputs": [
        {
          "output_type": "error",
          "ename": "NameError",
          "evalue": "name 'valX' is not defined",
          "traceback": [
            "\u001b[1;31m---------------------------------------------------------------------------\u001b[0m",
            "\u001b[1;31mNameError\u001b[0m                                 Traceback (most recent call last)",
            "\u001b[1;32m<ipython-input-57-642196e52759>\u001b[0m in \u001b[0;36m<module>\u001b[1;34m()\u001b[0m\n\u001b[1;32m----> 1\u001b[1;33m \u001b[0mscores\u001b[0m\u001b[1;33m=\u001b[0m\u001b[0mfirstModel\u001b[0m\u001b[1;33m.\u001b[0m\u001b[0mevaluate\u001b[0m\u001b[1;33m(\u001b[0m\u001b[0mnp\u001b[0m\u001b[1;33m.\u001b[0m\u001b[0marray\u001b[0m\u001b[1;33m(\u001b[0m\u001b[0mvalX\u001b[0m\u001b[1;33m)\u001b[0m\u001b[1;33m,\u001b[0m\u001b[0mnp\u001b[0m\u001b[1;33m.\u001b[0m\u001b[0marray\u001b[0m\u001b[1;33m(\u001b[0m\u001b[0mvalY\u001b[0m\u001b[1;33m)\u001b[0m\u001b[1;33m)\u001b[0m\u001b[1;33m\u001b[0m\u001b[0m\n\u001b[0m",
            "\u001b[1;31mNameError\u001b[0m: name 'valX' is not defined"
          ]
        }
      ]
    },
    {
      "cell_type": "code",
      "metadata": {
        "id": "S18XsI1w0cVG",
        "outputId": "652e41f0-bb35-4bcf-fa16-087ef8d60dcd"
      },
      "source": [
        "print(\"Loss:\",scores[0])\n",
        "print(\"Accuracy\",scores[1]*100)"
      ],
      "execution_count": null,
      "outputs": [
        {
          "output_type": "error",
          "ename": "NameError",
          "evalue": "name 'scores' is not defined",
          "traceback": [
            "\u001b[1;31m---------------------------------------------------------------------------\u001b[0m",
            "\u001b[1;31mNameError\u001b[0m                                 Traceback (most recent call last)",
            "\u001b[1;32m<ipython-input-21-dae1fe4a90d2>\u001b[0m in \u001b[0;36m<module>\u001b[1;34m()\u001b[0m\n\u001b[1;32m----> 1\u001b[1;33m \u001b[0mprint\u001b[0m\u001b[1;33m(\u001b[0m\u001b[1;34m\"Loss:\"\u001b[0m\u001b[1;33m,\u001b[0m\u001b[0mscores\u001b[0m\u001b[1;33m[\u001b[0m\u001b[1;36m0\u001b[0m\u001b[1;33m]\u001b[0m\u001b[1;33m)\u001b[0m\u001b[1;33m\u001b[0m\u001b[0m\n\u001b[0m\u001b[0;32m      2\u001b[0m \u001b[0mprint\u001b[0m\u001b[1;33m(\u001b[0m\u001b[1;34m\"Accuracy\"\u001b[0m\u001b[1;33m,\u001b[0m\u001b[0mscores\u001b[0m\u001b[1;33m[\u001b[0m\u001b[1;36m1\u001b[0m\u001b[1;33m]\u001b[0m\u001b[1;33m*\u001b[0m\u001b[1;36m100\u001b[0m\u001b[1;33m)\u001b[0m\u001b[1;33m\u001b[0m\u001b[0m\n",
            "\u001b[1;31mNameError\u001b[0m: name 'scores' is not defined"
          ]
        }
      ]
    },
    {
      "cell_type": "code",
      "metadata": {
        "id": "t3A76OCc0cVG",
        "outputId": "0e7d8441-d756-4e34-ccaf-dc8264df0c7f"
      },
      "source": [
        "#secondModel=getModel([30,100,1])\n",
        "secondModel=getModel([3,10,1])\n",
        "secondModel.fit(np.array(trainX),np.array(trainY),epochs=100,callbacks=[plot_losses])"
      ],
      "execution_count": null,
      "outputs": [
        {
          "output_type": "display_data",
          "data": {
            "image/png": "[encoded data removed]",
            "text/plain": [
              "<matplotlib.figure.Figure at 0x11505908>"
            ]
          },
          "metadata": {
            "tags": []
          }
        },
        {
          "output_type": "stream",
          "text": [
            "6058/6058 [==============================] - 0s - loss: 0.5591 - acc: 0.7283     \n"
          ],
          "name": "stdout"
        },
        {
          "output_type": "execute_result",
          "data": {
            "text/plain": [
              "<keras.callbacks.History at 0xf70f128>"
            ]
          },
          "metadata": {
            "tags": []
          },
          "execution_count": 17
        }
      ]
    },
    {
      "cell_type": "code",
      "metadata": {
        "id": "HjaHq1LZ0cVH",
        "outputId": "9f0813ce-90a7-461a-823b-7cec5b91cd3a"
      },
      "source": [
        "scores2=secondModel.evaluate(np.array(valX),np.array(valY))\n"
      ],
      "execution_count": null,
      "outputs": [
        {
          "output_type": "stream",
          "text": [
            " 928/1212 [=====================>........] - ETA: 0s\b\b\b\b\b\b\b\b\b\b\b\b\b\b\b\b\b\b\b\b\b\b\b\b\b\b\b\b\b\b\b\b\b\b\b\b\b\b\b\b\b\b\b\b\b\b\b\b\b\b\b\b\b\b\b\b\b\b\b\b\b\b\b\b\b\b\b\b\b\b\b\b\b\b\b\b\b\b\b\b\b\b\b\b\b\b\b\b\b\b\b\b\b\b\b\b\b\b\b\b\b\b\b\b"
          ],
          "name": "stdout"
        }
      ]
    },
    {
      "cell_type": "code",
      "metadata": {
        "id": "p173K4g-0cVH",
        "outputId": "7ebafbd6-cdf1-4119-bd02-c4421b2cd16c"
      },
      "source": [
        "print(scores2)\n"
      ],
      "execution_count": null,
      "outputs": [
        {
          "output_type": "stream",
          "text": [
            "[0.56534723086719074, 0.71782178198150282]\n"
          ],
          "name": "stdout"
        }
      ]
    },
    {
      "cell_type": "code",
      "metadata": {
        "collapsed": true,
        "id": "GIuSCOUu0cVH"
      },
      "source": [
        "#thirdModel=getModel([30,50,70,40,1])\n",
        "thirdModel=getModel([3,5,7,4,1])"
      ],
      "execution_count": null,
      "outputs": []
    },
    {
      "cell_type": "code",
      "metadata": {
        "id": "Sl9nhx450cVH",
        "outputId": "61f4188c-ddcb-4c47-f63c-04d6f34b5c48"
      },
      "source": [
        "thirdModel.fit(np.array(trainX),np.array(trainY),epochs=100,callbacks=[plot_losses])\n"
      ],
      "execution_count": null,
      "outputs": [
        {
          "output_type": "display_data",
          "data": {
            "image/png": "[encoded data removed]",
            "text/plain": [
              "<matplotlib.figure.Figure at 0x12d7f0f0>"
            ]
          },
          "metadata": {
            "tags": []
          }
        },
        {
          "output_type": "stream",
          "text": [
            "6058/6058 [==============================] - 0s - loss: 0.5545 - acc: 0.7294     \n"
          ],
          "name": "stdout"
        },
        {
          "output_type": "execute_result",
          "data": {
            "text/plain": [
              "<keras.callbacks.History at 0x11115a20>"
            ]
          },
          "metadata": {
            "tags": []
          },
          "execution_count": 19
        }
      ]
    },
    {
      "cell_type": "code",
      "metadata": {
        "id": "yvHw82EJ0cVI",
        "outputId": "c196f9d3-9cec-436e-f67a-786479ab8d29"
      },
      "source": [
        "scores3=thirdModel.evaluate(np.array(valX),np.array(valY))\n"
      ],
      "execution_count": null,
      "outputs": [
        {
          "output_type": "stream",
          "text": [
            " 864/1212 [====================>.........] - ETA: 0s\b\b\b\b\b\b\b\b\b\b\b\b\b\b\b\b\b\b\b\b\b\b\b\b\b\b\b\b\b\b\b\b\b\b\b\b\b\b\b\b\b\b\b\b\b\b\b\b\b\b\b\b\b\b\b\b\b\b\b\b\b\b\b\b\b\b\b\b\b\b\b\b\b\b\b\b\b\b\b\b\b\b\b\b\b\b\b\b\b\b\b\b\b\b\b\b\b\b\b\b\b\b\b\b"
          ],
          "name": "stdout"
        }
      ]
    },
    {
      "cell_type": "code",
      "metadata": {
        "id": "_aCkMRt10cVI",
        "outputId": "8f9f596f-860b-41e2-a9dc-06434ec13290"
      },
      "source": [
        "print(scores3)\n"
      ],
      "execution_count": null,
      "outputs": [
        {
          "output_type": "stream",
          "text": [
            "[0.56296281491962596, 0.72194719511290195]\n"
          ],
          "name": "stdout"
        }
      ]
    },
    {
      "cell_type": "code",
      "metadata": {
        "id": "mxbQT-Qx0cVI"
      },
      "source": [
        "predY=firstModel.predict(np.array(testX))\n",
        "#predY=secondModel.predict(np.array(testX))#\n",
        "#predY=thirdModel.predict(np.array(testX))\n",
        "\n",
        "predY=np.round(predY).astype(int).reshape(1,-1)[0]"
      ],
      "execution_count": null,
      "outputs": []
    },
    {
      "cell_type": "code",
      "metadata": {
        "id": "14qYwIzn0cVI",
        "outputId": "6f3bbcfb-3776-4f7d-b62e-a20d53a3a9b0"
      },
      "source": [
        "len(testY)"
      ],
      "execution_count": null,
      "outputs": [
        {
          "output_type": "execute_result",
          "data": {
            "text/plain": [
              "13018"
            ]
          },
          "metadata": {
            "tags": []
          },
          "execution_count": 59
        }
      ]
    },
    {
      "cell_type": "code",
      "metadata": {
        "id": "zcuPPk6i0cVJ",
        "outputId": "bb518a66-0b3e-41ea-cb84-228865e78929"
      },
      "source": [
        "from sklearn.metrics import confusion_matrix\n",
        "m=confusion_matrix(predY,testY)\n",
        "tn, fn, fp, tp=confusion_matrix(predY,testY).ravel()\n",
        "m=pd.crosstab(predY,testY)\n",
        "print(\"Confusion matrix\")\n",
        "print(m)\n"
      ],
      "execution_count": null,
      "outputs": [
        {
          "output_type": "stream",
          "text": [
            "Confusion matrix\n",
            "Class     0    1\n",
            "row_0           \n",
            "0      9368  366\n",
            "1      2698  586\n"
          ],
          "name": "stdout"
        }
      ]
    },
    {
      "cell_type": "code",
      "metadata": {
        "id": "RrrRWhRw0cVK",
        "outputId": "c7e633bd-1f5e-4623-976d-51af4425fe22"
      },
      "source": [
        "test_df['pred_class']= predY\n",
        "print (test_df['pred_class'].value_counts())\n",
        "testY.head()\n",
        "#print (testY['Class'].value_counts())\n",
        "test_df.head()\n",
        "test_df['Q0']='Q0'\n",
        "test_df['tag']='IRLAB-LDRP'\n",
        "log_df = test_df[test_df['pred_class']==1]\n",
        "log_df=log_df[['date','profile','Q0','tweet_id','rank','score','tag']]\n",
        "log_df.to_csv('D:/datas/2017output/result/lr-res/ANN361poinwise.txt',encoding='UTF-8',index=False,sep=' ',header=None)\n",
        "log_df.head()"
      ],
      "execution_count": null,
      "outputs": [
        {
          "output_type": "stream",
          "text": [
            "0    9389\n",
            "1    3629\n",
            "Name: pred_class, dtype: int64\n"
          ],
          "name": "stdout"
        },
        {
          "output_type": "execute_result",
          "data": {
            "text/html": [
              "<div>\n",
              "<table border=\"1\" class=\"dataframe\">\n",
              "  <thead>\n",
              "    <tr style=\"text-align: right;\">\n",
              "      <th></th>\n",
              "      <th>date</th>\n",
              "      <th>profile</th>\n",
              "      <th>Q0</th>\n",
              "      <th>tweet_id</th>\n",
              "      <th>rank</th>\n",
              "      <th>score</th>\n",
              "      <th>tag</th>\n",
              "    </tr>\n",
              "  </thead>\n",
              "  <tbody>\n",
              "    <tr>\n",
              "      <th>0</th>\n",
              "      <td>20170804</td>\n",
              "      <td>RTS47</td>\n",
              "      <td>Q0</td>\n",
              "      <td>893532395030196224</td>\n",
              "      <td>1</td>\n",
              "      <td>1.00</td>\n",
              "      <td>IRLAB-LDRP</td>\n",
              "    </tr>\n",
              "    <tr>\n",
              "      <th>1</th>\n",
              "      <td>20170804</td>\n",
              "      <td>RTS47</td>\n",
              "      <td>Q0</td>\n",
              "      <td>893319966132514816</td>\n",
              "      <td>2</td>\n",
              "      <td>1.00</td>\n",
              "      <td>IRLAB-LDRP</td>\n",
              "    </tr>\n",
              "    <tr>\n",
              "      <th>2</th>\n",
              "      <td>20170804</td>\n",
              "      <td>RTS47</td>\n",
              "      <td>Q0</td>\n",
              "      <td>893268233578532864</td>\n",
              "      <td>3</td>\n",
              "      <td>0.80</td>\n",
              "      <td>IRLAB-LDRP</td>\n",
              "    </tr>\n",
              "    <tr>\n",
              "      <th>20</th>\n",
              "      <td>20170805</td>\n",
              "      <td>RTS47</td>\n",
              "      <td>Q0</td>\n",
              "      <td>893973753255907329</td>\n",
              "      <td>2</td>\n",
              "      <td>1.00</td>\n",
              "      <td>IRLAB-LDRP</td>\n",
              "    </tr>\n",
              "    <tr>\n",
              "      <th>21</th>\n",
              "      <td>20170805</td>\n",
              "      <td>RTS47</td>\n",
              "      <td>Q0</td>\n",
              "      <td>893643619579695104</td>\n",
              "      <td>3</td>\n",
              "      <td>0.99</td>\n",
              "      <td>IRLAB-LDRP</td>\n",
              "    </tr>\n",
              "  </tbody>\n",
              "</table>\n",
              "</div>"
            ],
            "text/plain": [
              "        date profile  Q0            tweet_id  rank  score         tag\n",
              "0   20170804   RTS47  Q0  893532395030196224     1   1.00  IRLAB-LDRP\n",
              "1   20170804   RTS47  Q0  893319966132514816     2   1.00  IRLAB-LDRP\n",
              "2   20170804   RTS47  Q0  893268233578532864     3   0.80  IRLAB-LDRP\n",
              "20  20170805   RTS47  Q0  893973753255907329     2   1.00  IRLAB-LDRP\n",
              "21  20170805   RTS47  Q0  893643619579695104     3   0.99  IRLAB-LDRP"
            ]
          },
          "metadata": {
            "tags": []
          },
          "execution_count": 60
        }
      ]
    },
    {
      "cell_type": "code",
      "metadata": {
        "collapsed": true,
        "id": "6K0T2ssu0cVK"
      },
      "source": [
        ""
      ],
      "execution_count": null,
      "outputs": []
    },
    {
      "cell_type": "code",
      "metadata": {
        "id": "X6qAPNhB0cVK",
        "outputId": "59f9aba0-f628-4205-b884-d6d657107fa1"
      },
      "source": [
        "predY2=secondModel.predict(np.array(testX))#\n",
        "#predY=thirdModel.predict(np.array(testX))\n",
        "\n",
        "predY2=np.round(predY2).astype(int).reshape(1,-1)[0]\n",
        "from sklearn.metrics import confusion_matrix\n",
        "m=confusion_matrix(predY2,testY)\n",
        "tn, fn, fp, tp=confusion_matrix(predY2,testY).ravel()\n",
        "m=pd.crosstab(predY2,testY)\n",
        "print(\"Confusion matrix\")\n",
        "print(m)\n",
        "test_df['pred_class']= predY2\n",
        "print (test_df['pred_class'].value_counts())\n",
        "testY.head()\n",
        "#print (testY['Class'].value_counts())\n",
        "test_df.head()\n",
        "test_df['Q0']='Q0'\n",
        "test_df['tag']='IRLAB-LDRP'\n",
        "log_df = test_df[test_df['pred_class']==1]\n",
        "log_df=log_df[['date','profile','Q0','tweet_id','rank','score','tag']]\n",
        "log_df.to_csv('D:/datas/2017output/result/lr-res/ANN3101poinwise.txt',encoding='UTF-8',index=False,sep=' ',header=None)\n",
        "log_df.head()"
      ],
      "execution_count": null,
      "outputs": [
        {
          "output_type": "stream",
          "text": [
            "Confusion matrix\n",
            "Class     0    1\n",
            "row_0           \n",
            "0      9255  353\n",
            "1      2811  599\n"
          ],
          "name": "stdout"
        },
        {
          "output_type": "error",
          "ename": "NameError",
          "evalue": "name 'predY3' is not defined",
          "traceback": [
            "\u001b[1;31m---------------------------------------------------------------------------\u001b[0m",
            "\u001b[1;31mNameError\u001b[0m                                 Traceback (most recent call last)",
            "\u001b[1;32m<ipython-input-29-c242435f334d>\u001b[0m in \u001b[0;36m<module>\u001b[1;34m()\u001b[0m\n\u001b[0;32m      9\u001b[0m \u001b[0mprint\u001b[0m\u001b[1;33m(\u001b[0m\u001b[1;34m\"Confusion matrix\"\u001b[0m\u001b[1;33m)\u001b[0m\u001b[1;33m\u001b[0m\u001b[0m\n\u001b[0;32m     10\u001b[0m \u001b[0mprint\u001b[0m\u001b[1;33m(\u001b[0m\u001b[0mm\u001b[0m\u001b[1;33m)\u001b[0m\u001b[1;33m\u001b[0m\u001b[0m\n\u001b[1;32m---> 11\u001b[1;33m \u001b[0mtest_df\u001b[0m\u001b[1;33m[\u001b[0m\u001b[1;34m'pred_class'\u001b[0m\u001b[1;33m]\u001b[0m\u001b[1;33m=\u001b[0m \u001b[0mpredY3\u001b[0m\u001b[1;33m\u001b[0m\u001b[0m\n\u001b[0m\u001b[0;32m     12\u001b[0m \u001b[0mprint\u001b[0m \u001b[1;33m(\u001b[0m\u001b[0mtest_df\u001b[0m\u001b[1;33m[\u001b[0m\u001b[1;34m'pred_class'\u001b[0m\u001b[1;33m]\u001b[0m\u001b[1;33m.\u001b[0m\u001b[0mvalue_counts\u001b[0m\u001b[1;33m(\u001b[0m\u001b[1;33m)\u001b[0m\u001b[1;33m)\u001b[0m\u001b[1;33m\u001b[0m\u001b[0m\n\u001b[0;32m     13\u001b[0m \u001b[0mtestY\u001b[0m\u001b[1;33m.\u001b[0m\u001b[0mhead\u001b[0m\u001b[1;33m(\u001b[0m\u001b[1;33m)\u001b[0m\u001b[1;33m\u001b[0m\u001b[0m\n",
            "\u001b[1;31mNameError\u001b[0m: name 'predY3' is not defined"
          ]
        }
      ]
    },
    {
      "cell_type": "code",
      "metadata": {
        "id": "tANX7CEu0cVL",
        "outputId": "ecca7f39-d3dd-45b5-950c-4d23901f0ec9"
      },
      "source": [
        "predY3=thirdModel.predict(np.array(testX))\n",
        "\n",
        "predY3=np.round(predY3).astype(int).reshape(1,-1)[0]\n",
        "from sklearn.metrics import confusion_matrix\n",
        "m=confusion_matrix(predY3,testY)\n",
        "tn, fn, fp, tp=confusion_matrix(predY3,testY).ravel()\n",
        "m=pd.crosstab(predY3,testY)\n",
        "print(\"Confusion matrix\")\n",
        "print(m)\n",
        "\n",
        "test_df['pred_class']= predY3\n",
        "print (test_df['pred_class'].value_counts())\n",
        "testY.head()\n",
        "#print (testY['Class'].value_counts())\n",
        "test_df.head()\n",
        "test_df['Q0']='Q0'\n",
        "test_df['tag']='IRLAB-LDRP'\n",
        "log_df = test_df[test_df['pred_class']==1]\n",
        "log_df=log_df[['date','profile','Q0','tweet_id','rank','score','tag']]\n",
        "log_df.to_csv('D:/datas/2017output/result/lr-res/ANN35471poinwise.txt',encoding='UTF-8',index=False,sep=' ',header=None)\n",
        "log_df.head()"
      ],
      "execution_count": null,
      "outputs": [
        {
          "output_type": "stream",
          "text": [
            "Confusion matrix\n",
            "Class     0    1\n",
            "row_0           \n",
            "0      9674  374\n",
            "1      2392  578\n",
            "0    10048\n",
            "1     2970\n",
            "Name: pred_class, dtype: int64\n"
          ],
          "name": "stdout"
        },
        {
          "output_type": "execute_result",
          "data": {
            "text/html": [
              "<div>\n",
              "<table border=\"1\" class=\"dataframe\">\n",
              "  <thead>\n",
              "    <tr style=\"text-align: right;\">\n",
              "      <th></th>\n",
              "      <th>date</th>\n",
              "      <th>profile</th>\n",
              "      <th>Q0</th>\n",
              "      <th>tweet_id</th>\n",
              "      <th>rank</th>\n",
              "      <th>score</th>\n",
              "      <th>tag</th>\n",
              "    </tr>\n",
              "  </thead>\n",
              "  <tbody>\n",
              "    <tr>\n",
              "      <th>0</th>\n",
              "      <td>20170804</td>\n",
              "      <td>RTS47</td>\n",
              "      <td>Q0</td>\n",
              "      <td>893532395030196224</td>\n",
              "      <td>1</td>\n",
              "      <td>1.0</td>\n",
              "      <td>IRLAB-LDRP</td>\n",
              "    </tr>\n",
              "    <tr>\n",
              "      <th>1</th>\n",
              "      <td>20170804</td>\n",
              "      <td>RTS47</td>\n",
              "      <td>Q0</td>\n",
              "      <td>893319966132514816</td>\n",
              "      <td>2</td>\n",
              "      <td>1.0</td>\n",
              "      <td>IRLAB-LDRP</td>\n",
              "    </tr>\n",
              "    <tr>\n",
              "      <th>2</th>\n",
              "      <td>20170804</td>\n",
              "      <td>RTS47</td>\n",
              "      <td>Q0</td>\n",
              "      <td>893268233578532864</td>\n",
              "      <td>3</td>\n",
              "      <td>0.8</td>\n",
              "      <td>IRLAB-LDRP</td>\n",
              "    </tr>\n",
              "    <tr>\n",
              "      <th>19</th>\n",
              "      <td>20170805</td>\n",
              "      <td>RTS47</td>\n",
              "      <td>Q0</td>\n",
              "      <td>893719771375583232</td>\n",
              "      <td>1</td>\n",
              "      <td>1.0</td>\n",
              "      <td>IRLAB-LDRP</td>\n",
              "    </tr>\n",
              "    <tr>\n",
              "      <th>20</th>\n",
              "      <td>20170805</td>\n",
              "      <td>RTS47</td>\n",
              "      <td>Q0</td>\n",
              "      <td>893973753255907329</td>\n",
              "      <td>2</td>\n",
              "      <td>1.0</td>\n",
              "      <td>IRLAB-LDRP</td>\n",
              "    </tr>\n",
              "  </tbody>\n",
              "</table>\n",
              "</div>"
            ],
            "text/plain": [
              "        date profile  Q0            tweet_id  rank  score         tag\n",
              "0   20170804   RTS47  Q0  893532395030196224     1    1.0  IRLAB-LDRP\n",
              "1   20170804   RTS47  Q0  893319966132514816     2    1.0  IRLAB-LDRP\n",
              "2   20170804   RTS47  Q0  893268233578532864     3    0.8  IRLAB-LDRP\n",
              "19  20170805   RTS47  Q0  893719771375583232     1    1.0  IRLAB-LDRP\n",
              "20  20170805   RTS47  Q0  893973753255907329     2    1.0  IRLAB-LDRP"
            ]
          },
          "metadata": {
            "tags": []
          },
          "execution_count": 30
        }
      ]
    },
    {
      "cell_type": "code",
      "metadata": {
        "id": "rjrIWHfG0cVL",
        "outputId": "0c929626-2116-42c3-c3f0-a6aa8c047bbf"
      },
      "source": [
        "sens=tp/(tp+fn)\n",
        "spec=tn/(tn+fp)\n",
        "print(\"Senstivity:\",sens)\n",
        "print(\"Specificity:\",spec)"
      ],
      "execution_count": null,
      "outputs": [
        {
          "output_type": "stream",
          "text": [
            "Senstivity: 0.582629023557\n",
            "Specificity: 0.773954207323\n"
          ],
          "name": "stdout"
        }
      ]
    },
    {
      "cell_type": "code",
      "metadata": {
        "id": "jTqjbEqO0cVM",
        "outputId": "58c9e8a7-bad4-4bbd-a75d-2984bb2d2b37"
      },
      "source": [
        "from sklearn.metrics import classification_report,confusion_matrix\n",
        "print(confusion_matrix(testY,predY))"
      ],
      "execution_count": null,
      "outputs": [
        {
          "output_type": "stream",
          "text": [
            "[[40056 11699]\n",
            " [ 2321  3240]]\n"
          ],
          "name": "stdout"
        }
      ]
    },
    {
      "cell_type": "code",
      "metadata": {
        "id": "axEKjBLu0cVM",
        "outputId": "76df247d-daf6-4248-a817-e1a3e327b228"
      },
      "source": [
        "from sklearn import metrics\n",
        "\n",
        "print (metrics.precision_score(testY,predY))\n",
        "print(metrics.recall_score(testY,predY))\n",
        "print (metrics.f1_score(testY,predY))\n",
        "print(metrics.classification_report(testY,predY,target_names=['NR','R']))\n",
        "#y_pred_prob = nb.predict_proba(X_test_dtm)[:, 1]\n",
        "#y_pred_prob\n",
        "print(metrics.roc_auc_score(testY,predY))"
      ],
      "execution_count": null,
      "outputs": [
        {
          "output_type": "stream",
          "text": [
            "0.216881986746\n",
            "0.582629023557\n",
            "0.316097560976\n",
            "             precision    recall  f1-score   support\n",
            "\n",
            "         NR       0.95      0.77      0.85     51755\n",
            "          R       0.22      0.58      0.32      5561\n",
            "\n",
            "avg / total       0.87      0.76      0.80     57316\n",
            "\n",
            "0.67829161544\n"
          ],
          "name": "stdout"
        }
      ]
    },
    {
      "cell_type": "code",
      "metadata": {
        "id": "SmAd-FiR0cVM",
        "outputId": "f60482f0-8c6d-4b3c-d675-feb7d6f78d7a"
      },
      "source": [
        "X_test['pred_y']=predY\n",
        "X_test.head()\n",
        "X_test.info()"
      ],
      "execution_count": null,
      "outputs": [
        {
          "output_type": "stream",
          "text": [
            "<class 'pandas.core.frame.DataFrame'>\n",
            "RangeIndex: 57316 entries, 0 to 57315\n",
            "Data columns (total 7 columns):\n",
            "profile     57316 non-null object\n",
            "tweet_id    57316 non-null int64\n",
            "JM          57316 non-null float64\n",
            "Diri        57316 non-null float64\n",
            "BM25        57316 non-null float64\n",
            "Class       57316 non-null int64\n",
            "pred_y      57316 non-null int32\n",
            "dtypes: float64(3), int32(1), int64(2), object(1)\n",
            "memory usage: 2.8+ MB\n"
          ],
          "name": "stdout"
        }
      ]
    },
    {
      "cell_type": "code",
      "metadata": {
        "id": "VPUoWF9I0cVM",
        "outputId": "5aaa4eca-689a-4a71-9b64-bc4904077741"
      },
      "source": [
        "X_test.head()"
      ],
      "execution_count": null,
      "outputs": [
        {
          "output_type": "execute_result",
          "data": {
            "text/html": [
              "<div>\n",
              "<table border=\"1\" class=\"dataframe\">\n",
              "  <thead>\n",
              "    <tr style=\"text-align: right;\">\n",
              "      <th></th>\n",
              "      <th>profile</th>\n",
              "      <th>tweet_id</th>\n",
              "      <th>JM</th>\n",
              "      <th>Diri</th>\n",
              "      <th>BM25</th>\n",
              "      <th>Class</th>\n",
              "      <th>pred_y</th>\n",
              "    </tr>\n",
              "  </thead>\n",
              "  <tbody>\n",
              "    <tr>\n",
              "      <th>0</th>\n",
              "      <td>RTS47</td>\n",
              "      <td>891302728198230020</td>\n",
              "      <td>3.050570</td>\n",
              "      <td>2.407051</td>\n",
              "      <td>3.571360</td>\n",
              "      <td>1</td>\n",
              "      <td>1</td>\n",
              "    </tr>\n",
              "    <tr>\n",
              "      <th>1</th>\n",
              "      <td>RTS47</td>\n",
              "      <td>891348035069935616</td>\n",
              "      <td>2.778155</td>\n",
              "      <td>1.815867</td>\n",
              "      <td>2.271354</td>\n",
              "      <td>1</td>\n",
              "      <td>1</td>\n",
              "    </tr>\n",
              "    <tr>\n",
              "      <th>2</th>\n",
              "      <td>RTS47</td>\n",
              "      <td>891359347099320320</td>\n",
              "      <td>2.778155</td>\n",
              "      <td>1.815867</td>\n",
              "      <td>2.271354</td>\n",
              "      <td>1</td>\n",
              "      <td>1</td>\n",
              "    </tr>\n",
              "    <tr>\n",
              "      <th>3</th>\n",
              "      <td>RTS47</td>\n",
              "      <td>891391584524279809</td>\n",
              "      <td>2.778155</td>\n",
              "      <td>1.815867</td>\n",
              "      <td>2.271354</td>\n",
              "      <td>1</td>\n",
              "      <td>1</td>\n",
              "    </tr>\n",
              "    <tr>\n",
              "      <th>4</th>\n",
              "      <td>RTS47</td>\n",
              "      <td>891299170077769728</td>\n",
              "      <td>2.621369</td>\n",
              "      <td>1.806629</td>\n",
              "      <td>1.665027</td>\n",
              "      <td>1</td>\n",
              "      <td>1</td>\n",
              "    </tr>\n",
              "  </tbody>\n",
              "</table>\n",
              "</div>"
            ],
            "text/plain": [
              "  profile            tweet_id        JM      Diri      BM25  Class  pred_y\n",
              "0   RTS47  891302728198230020  3.050570  2.407051  3.571360      1       1\n",
              "1   RTS47  891348035069935616  2.778155  1.815867  2.271354      1       1\n",
              "2   RTS47  891359347099320320  2.778155  1.815867  2.271354      1       1\n",
              "3   RTS47  891391584524279809  2.778155  1.815867  2.271354      1       1\n",
              "4   RTS47  891299170077769728  2.621369  1.806629  1.665027      1       1"
            ]
          },
          "metadata": {
            "tags": []
          },
          "execution_count": 36
        }
      ]
    },
    {
      "cell_type": "code",
      "metadata": {
        "collapsed": true,
        "id": "SQEzgcSr0cVN"
      },
      "source": [
        "run_df=pd.read_csv('D:/datas/2017output/result/est-res2017/diri_linreg_est_20170.1 23.0_6.0.txt',''\n"
      ],
      "execution_count": null,
      "outputs": []
    }
  ]
}