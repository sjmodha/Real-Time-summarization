{
 "cells": [
  {
   "cell_type": "code",
   "execution_count": 3,
   "metadata": {
    "collapsed": false
   },
   "outputs": [],
   "source": [
    "import json\n",
    "import os\n",
    "import pandas as pd\n",
    "qpath='F:/TREC2017/Analysis'\n",
    "os.chdir(qpath)\n",
    "os.getcwd()\n",
    "#path1='F:/TREC2017/Analysis/Ranklist/jm611/fin'\n",
    "#path2='F:/TREC2017/Analysis/Ranklist/jm611'\n",
    "#path1='F:/TREC2017/Analysis/Ranklist/diri/fin'\n",
    "#path2='F:/TREC2017/Analysis/Ranklist/diri'\n",
    "path1='F:/TREC2017/Analysis/Ranklist/bm25/fin'\n",
    "path2='F:/TREC2017/Analysis/Ranklist/bm25'\n",
    "path1='F:/TREC2017/Analysis/Ranklist/jm112/fin'\n",
    "path2='F:/TREC2017/Analysis/Ranklist/jm112'\n",
    "path1='F:/TREC2017/Analysis/Ranklist/jm112/fin'\n",
    "path2='F:/TREC2017/Analysis/Ranklist/jm112'\n",
    "\n"
   ]
  },
  {
   "cell_type": "code",
   "execution_count": 4,
   "metadata": {
    "collapsed": false
   },
   "outputs": [
    {
     "name": "stdout",
     "output_type": "stream",
     "text": [
      "95\n"
     ]
    }
   ],
   "source": [
    "ip=[]\n",
    "with open('tid95-2.txt','r') as fin:\n",
    "    line= fin.readlines()\n",
    "    for l in line:\n",
    "        l=l.strip().split(' ')\n",
    "        #tpn=l[0]\n",
    "        tpid=l[1]\n",
    "        ip.append(tpid)      \n",
    "print len(ip)\n",
    "    \n",
    "    "
   ]
  },
  {
   "cell_type": "code",
   "execution_count": null,
   "metadata": {
    "collapsed": false
   },
   "outputs": [],
   "source": [
    "'''''\n",
    "#fout=open('expand95-2.txt','w')\n",
    "fout = open('tid95-2.txt','w')\n",
    "count=1\n",
    "with open('tid-95.txt','r') as fin:\n",
    "    line= fin.readlines()\n",
    "    for l in line:\n",
    "        l=l.strip().split(' ')\n",
    "        tpn=l[0]\n",
    "        tpid=l[1]\n",
    "        print tpid\n",
    "        if tpid in ip:\n",
    "            instr= str(count)+' ' +tpid + '\\n'\n",
    "            fout.write(instr)\n",
    "            count=count+1       \n",
    "        \n",
    "    "
   ]
  },
  {
   "cell_type": "code",
   "execution_count": 14,
   "metadata": {
    "collapsed": false
   },
   "outputs": [],
   "source": [
    "'''\n",
    "fout1=open('expand95-title2017.txt','w')\n",
    "with open('TREC2017-RTS-topics-final.json') as fin1:\n",
    "    topic2017=json.load(fin1)\n",
    "    for profile in topic2017:\n",
    "        toid=profile['topid']\n",
    "        title=profile['title']\n",
    "        if toid in ip:\n",
    "            fout1.write(title +'\\n')\n",
    "fout1.close()   "
   ]
  },
  {
   "cell_type": "code",
   "execution_count": 5,
   "metadata": {
    "collapsed": false
   },
   "outputs": [],
   "source": [
    "os.chdir(path2)\n",
    "count=0\n",
    "#ip=ip1\n",
    "for p in ip :\n",
    "      \n",
    "    #of = p + '1.txt'\n",
    "    pathf= os.getcwd() + \"/\" + p\n",
    "    if not os.path.exists(pathf):\n",
    "        os.mkdir(p)\n",
    "        "
   ]
  },
  {
   "cell_type": "code",
   "execution_count": 4,
   "metadata": {
    "collapsed": false
   },
   "outputs": [],
   "source": [
    "import glob\n",
    "os.chdir(path1)\n",
    "#os.getcwd()\n",
    "for i in range(29,32):\n",
    "    #os.chdir(os.pardir)\n",
    "   \n",
    "    os.chdir(path1+'/'+str(i))\n",
    "    os.mkdir('format')\n",
    "\n",
    "    for file in glob.glob(\"*.txt\"):\n",
    "        infile=file\n",
    "        outfile='tempf' +infile\n",
    "        os.chdir(path1+'/'+str(i)+'/format')\n",
    "\n",
    "        fout = open(outfile, 'w')\n",
    "        os.chdir(os.pardir)\n",
    "        cnt=1\n",
    "        with open(infile, 'r') as fin:\n",
    "            lines = fin.readlines()\n",
    "\n",
    "            for line in lines:\n",
    "                split_line = line.split()\n",
    "                if split_line:\n",
    "                    if len(split_line[0]) == 8 and split_line[0][:6] == \"201707\":\n",
    "                        if(cnt==1): \n",
    "                            fout.write( ' '.join(split_line) )\n",
    "                        else:\n",
    "                            fout.write('\\n')\n",
    "                            fout.write( ' '.join(split_line) )\n",
    "                    else:\n",
    "                        fout.write(\" \"+' '.join(split_line))\n",
    "                else:\n",
    "                    continue\n",
    "                cnt=cnt+1\n",
    "        fout.close()\n",
    "        os.chdir(path1)\n",
    "        fin.close()        \n",
    "        "
   ]
  },
  {
   "cell_type": "code",
   "execution_count": 5,
   "metadata": {
    "collapsed": true
   },
   "outputs": [],
   "source": [
    "for i in range(29,32):\n",
    "     \n",
    "    os.chdir(path1+'/'+ str(i)+'/format')\n",
    "    for j in range(1,96):\n",
    "        infile='tempf'+str(j)+'_output.txt'\n",
    "        outfile='f'+str(j)+'_output.txt'\n",
    "        \n",
    "\n",
    "        fout = open(outfile, 'w')\n",
    "        fin =open(infile,'r')\n",
    "        \n",
    "        for l in fin.readlines():\n",
    "            ll = l.split()\n",
    "            text = ll[6:]\n",
    "            text = ' '.join(text)\n",
    "            text=text.replace('\"','')\n",
    "\n",
    "            text = '\"'+text+'\"'\n",
    "#     print text\n",
    "            fout.write(','.join(ll[:6])+\",\"+text+\"\\n\")\n",
    "        fout.close()\n",
    "    #os.chdir(path1)\n",
    "        fin.close()"
   ]
  },
  {
   "cell_type": "code",
   "execution_count": 6,
   "metadata": {
    "collapsed": false
   },
   "outputs": [],
   "source": [
    "import glob\n",
    "os.chdir(path1)\n",
    "#os.getcwd()\n",
    "for i in range(1,6):\n",
    "    #os.chdir(os.pardir)\n",
    "   \n",
    "    os.chdir(path1+'/'+str(i))\n",
    "    os.mkdir('format')\n",
    "\n",
    "    for file in glob.glob(\"*.txt\"):\n",
    "        infile=file\n",
    "        outfile='tempf' +infile\n",
    "        os.chdir(path1+'/'+str(i)+'/format')\n",
    "\n",
    "        fout = open(outfile, 'w')\n",
    "        os.chdir(os.pardir)\n",
    "        cnt=1\n",
    "        with open(infile, 'r') as fin:\n",
    "            lines = fin.readlines()\n",
    "\n",
    "            for line in lines:\n",
    "                split_line = line.split()\n",
    "                if split_line:\n",
    "                    if len(split_line[0]) == 8 and split_line[0][:6] == \"201708\":\n",
    "                        if(cnt==1): \n",
    "                            fout.write( ' '.join(split_line) )\n",
    "                        else:\n",
    "                            fout.write('\\n')\n",
    "                            fout.write( ' '.join(split_line) )\n",
    "                    else:\n",
    "                        fout.write(\" \"+' '.join(split_line))\n",
    "                else:\n",
    "                    continue\n",
    "                cnt=cnt+1\n",
    "        fout.close()\n",
    "        os.chdir(path1)\n",
    "        fin.close()        \n",
    "        "
   ]
  },
  {
   "cell_type": "code",
   "execution_count": 7,
   "metadata": {
    "collapsed": true
   },
   "outputs": [],
   "source": [
    "for i in range(1,6):\n",
    "     \n",
    "    os.chdir(path1+'/'+ str(i)+'/format')\n",
    "    for j in range(1,96):\n",
    "        infile='tempf'+str(j)+'_output.txt'\n",
    "        outfile='f'+str(j)+'_output.txt'\n",
    "        \n",
    "\n",
    "        fout = open(outfile, 'w')\n",
    "        fin =open(infile,'r')\n",
    "        \n",
    "        for l in fin.readlines():\n",
    "            ll = l.split()\n",
    "            text = ll[6:]\n",
    "            text = ' '.join(text)\n",
    "            text=text.replace('\"','')\n",
    "\n",
    "            text = '\"'+text+'\"'\n",
    "#     print text\n",
    "            fout.write(','.join(ll[:6])+\",\"+text+\"\\n\")\n",
    "        fout.close()\n",
    "    #os.chdir(path1)\n",
    "        fin.close()"
   ]
  },
  {
   "cell_type": "code",
   "execution_count": 8,
   "metadata": {
    "collapsed": false
   },
   "outputs": [
    {
     "data": {
      "text/plain": [
       "'F:\\\\TREC2017\\\\Analysis\\\\Ranklist\\\\jm112'"
      ]
     },
     "execution_count": 8,
     "metadata": {},
     "output_type": "execute_result"
    }
   ],
   "source": [
    "os.chdir(path2)\n",
    "os.getcwd()"
   ]
  },
  {
   "cell_type": "code",
   "execution_count": 9,
   "metadata": {
    "collapsed": false
   },
   "outputs": [],
   "source": [
    "count=0\n",
    "day=[29,30,31,1,2,3,4,5]\n",
    "for p in ip:\n",
    "      \n",
    "    of = p + '.txt'\n",
    "    opath= path2 + \"/\" + p\n",
    "    #if not os.path.exists(path2):\n",
    "    #    os.mkdirs(path2)\n",
    "    \n",
    "    \n",
    "    os.chdir(opath)\n",
    "    out=open(of,\"w\")\n",
    "    path1 = path2+'/fin'\n",
    "    os.chdir(path1)\n",
    "    for i in day:\n",
    "        #os.chdir(os.pardir)\n",
    "        os.chdir(path1+'/'+str(i) + '/format')\n",
    "        \n",
    "        fstr= 'f'+str(count+1) + \"_output.txt\"\n",
    "        fin = open(fstr,\"r\")\n",
    "        out.write(fin.read())\n",
    "        os.chdir(os.pardir)\n",
    "        os.chdir(os.pardir)\n",
    "\n",
    "\n",
    "    count=count+1\n",
    "\n",
    "    out.close()\n",
    "    fin.close()"
   ]
  },
  {
   "cell_type": "code",
   "execution_count": 20,
   "metadata": {
    "collapsed": false
   },
   "outputs": [],
   "source": []
  },
  {
   "cell_type": "code",
   "execution_count": null,
   "metadata": {
    "collapsed": true
   },
   "outputs": [],
   "source": []
  }
 ],
 "metadata": {
  "kernelspec": {
   "display_name": "Python 2",
   "language": "python",
   "name": "python2"
  },
  "language_info": {
   "codemirror_mode": {
    "name": "ipython",
    "version": 2
   },
   "file_extension": ".py",
   "mimetype": "text/x-python",
   "name": "python",
   "nbconvert_exporter": "python",
   "pygments_lexer": "ipython2",
   "version": "2.7.11"
  }
 },
 "nbformat": 4,
 "nbformat_minor": 0
}
