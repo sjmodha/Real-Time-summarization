{
 "cells": [
  {
   "cell_type": "code",
   "execution_count": 1,
   "metadata": {
    "collapsed": false
   },
   "outputs": [],
   "source": [
    "import os\n",
    "import sys\n",
    "import pandas as pd\n",
    "import numpy as np\n",
    "path_rn='F:/TREC2017/Analysis/Result/Dirichlet/grid'\n",
    "#os.chdir(path_rn)\n",
    "qpath='F:/TREC2017/Analysis'\n",
    "path_rn='F:/TREC2017/Analysis/Result/bm25/grid'\n",
    "path_rn='F:/TREC2017/Analysis/Result/jm112/grid'\n",
    "path_rn='F:/TREC2017/Analysis/Result/bm25-n/grid'\n",
    "path_rn='F:/TREC2017/Analysis/Result/bm25-1912/grid'\n",
    "\n",
    "os.chdir(qpath)"
   ]
  },
  {
   "cell_type": "code",
   "execution_count": 2,
   "metadata": {
    "collapsed": false
   },
   "outputs": [
    {
     "name": "stdout",
     "output_type": "stream",
     "text": [
      "97\n"
     ]
    }
   ],
   "source": [
    "ip=[]\n",
    "with open('tid95-2.txt','r') as fin:\n",
    "    line= fin.readlines()\n",
    "    for l in line:\n",
    "        l=l.strip().split(' ')\n",
    "        #tpn=l[0]\n",
    "        tpid=l[1]\n",
    "        ip.append(tpid)      \n",
    "ip.append('RTS107')\n",
    "ip.append('RTS192')\n",
    "print len(ip)\n"
   ]
  },
  {
   "cell_type": "code",
   "execution_count": 3,
   "metadata": {
    "collapsed": false
   },
   "outputs": [
    {
     "data": {
      "text/html": [
       "<div>\n",
       "<table border=\"1\" class=\"dataframe\">\n",
       "  <thead>\n",
       "    <tr style=\"text-align: right;\">\n",
       "      <th></th>\n",
       "      <th>profile</th>\n",
       "      <th>ndcgp</th>\n",
       "      <th>ndcg1</th>\n",
       "      <th>tmin</th>\n",
       "      <th>tmax</th>\n",
       "    </tr>\n",
       "  </thead>\n",
       "  <tbody>\n",
       "    <tr>\n",
       "      <th>0</th>\n",
       "      <td>RTS101</td>\n",
       "      <td>0.4869</td>\n",
       "      <td>0.4869</td>\n",
       "      <td>10</td>\n",
       "      <td>12</td>\n",
       "    </tr>\n",
       "    <tr>\n",
       "      <th>1</th>\n",
       "      <td>RTS101</td>\n",
       "      <td>0.4869</td>\n",
       "      <td>0.4869</td>\n",
       "      <td>11</td>\n",
       "      <td>12</td>\n",
       "    </tr>\n",
       "    <tr>\n",
       "      <th>2</th>\n",
       "      <td>RTS101</td>\n",
       "      <td>0.4869</td>\n",
       "      <td>0.4869</td>\n",
       "      <td>6</td>\n",
       "      <td>12</td>\n",
       "    </tr>\n",
       "    <tr>\n",
       "      <th>3</th>\n",
       "      <td>RTS101</td>\n",
       "      <td>0.4869</td>\n",
       "      <td>0.4869</td>\n",
       "      <td>7</td>\n",
       "      <td>12</td>\n",
       "    </tr>\n",
       "    <tr>\n",
       "      <th>4</th>\n",
       "      <td>RTS101</td>\n",
       "      <td>0.4869</td>\n",
       "      <td>0.4869</td>\n",
       "      <td>8</td>\n",
       "      <td>12</td>\n",
       "    </tr>\n",
       "  </tbody>\n",
       "</table>\n",
       "</div>"
      ],
      "text/plain": [
       "  profile   ndcgp   ndcg1  tmin  tmax\n",
       "0  RTS101  0.4869  0.4869    10    12\n",
       "1  RTS101  0.4869  0.4869    11    12\n",
       "2  RTS101  0.4869  0.4869     6    12\n",
       "3  RTS101  0.4869  0.4869     7    12\n",
       "4  RTS101  0.4869  0.4869     8    12"
      ]
     },
     "execution_count": 3,
     "metadata": {},
     "output_type": "execute_result"
    }
   ],
   "source": [
    "os.chdir(path_rn)\n",
    "grid = pd.read_csv('rdata_new.txt',sep=' ',header=None)\n",
    "grid.columns=['profile','ndcgp','ndcg1','tmin','tmax']\n",
    "#grid.columns=['profile','ndcg1','ndcg0','tmin','tmax']\n",
    "\n",
    "grid.head()\n",
    "sgrid=grid.sort_values(['profile','ndcg1','ndcgp'],ascending=[True,True,True])\n",
    "sgrid=sgrid.reset_index(drop=True)\n",
    "sgrid.head()"
   ]
  },
  {
   "cell_type": "code",
   "execution_count": 4,
   "metadata": {
    "collapsed": false
   },
   "outputs": [],
   "source": [
    "\n",
    "def param(df,topic) :\n",
    "    maxn1=0\n",
    "    maxi=0\n",
    "    cndcg0=0\n",
    "    mndcg0=0\n",
    "    for i, row in df.iterrows():\n",
    "        s = row['ndcg1']\n",
    "        cndcg0=row['ndcgp']\n",
    "        \n",
    "        if(s>maxn1):\n",
    "            maxn1=s\n",
    "            mndcg0=cndcg0\n",
    "            maxi = i\n",
    "        if(s==maxn1):\n",
    "            if(cndcg0>mndcg0):\n",
    "                maxi=i\n",
    "    return maxi\n",
    "\n",
    "fgold1=open('gold1L-new.txt','w')\n",
    "#fgoldboth=open('goldboth.txt','w')\n",
    "for i,p in enumerate(ip):\n",
    "    qn=sgrid[(sgrid['profile'] == p)]\n",
    "    qn=qn.reset_index(drop=True)\n",
    "   # qn.info()\n",
    "    indx =param(qn,p)\n",
    "    temp2= qn.ix[indx,'ndcgp']\n",
    "\n",
    "    temp1=qn.ix[indx,'ndcg1']\n",
    "    #ndcg1_dt[p]= {p1:temp}\n",
    "    temp3= qn.ix[indx,'tmin']\n",
    "    temp4= qn.ix[indx,'tmax']\n",
    "    \n",
    "    tempstr = p + ' ' + str(temp2)+' ' + str(temp1)+' '+ str(temp4)+' ' + str(temp3)+'\\n'\n",
    "    \n",
    "    #tempstr = p + ' ' + str(temp1)+' ' + str(temp2)+' '+ str(temp3)+' ' + str(temp4)+'\\n'\n",
    "    \n",
    "    fgold1.write(tempstr)\n",
    "fgold1.close()"
   ]
  },
  {
   "cell_type": "code",
   "execution_count": 5,
   "metadata": {
    "collapsed": false
   },
   "outputs": [],
   "source": [
    "def paramp(df,topic) :\n",
    "    maxn1=0\n",
    "    maxi=0\n",
    "    cndcg0=0\n",
    "    mndcg0=0\n",
    "    for i, row in df.iterrows():\n",
    "        s = row['ndcgp']\n",
    "        cndcg0=row['ndcg1']\n",
    "        \n",
    "        if(s>maxn1):\n",
    "            maxn1=s\n",
    "            mndcg0=cndcg0\n",
    "            maxi = i\n",
    "        if(s==maxn1):\n",
    "            if(cndcg0>mndcg0):\n",
    "                maxi=i\n",
    "    return maxi\n",
    "\n",
    "fgold1=open('goldP-new.txt','w')\n",
    "#fgoldboth=open('goldboth.txt','w')\n",
    "for i,p in enumerate(ip):\n",
    "    qn=sgrid[(sgrid['profile'] == p)]\n",
    "    qn=qn.reset_index(drop=True)\n",
    "   # qn.info()\n",
    "    indx =param(qn,p)\n",
    "    temp2= qn.ix[indx,'ndcgp']\n",
    "\n",
    "    temp1=qn.ix[indx,'ndcg1']\n",
    "    #ndcg1_dt[p]= {p1:temp}\n",
    "    temp3= qn.ix[indx,'tmin']\n",
    "    temp4= qn.ix[indx,'tmax']\n",
    "    \n",
    "    tempstr = p + ' ' + str(temp2)+' ' + str(temp1)+' '+ str(temp4)+' ' + str(temp3)+'\\n'\n",
    "    \n",
    "    #tempstr = p + ' ' + str(temp1)+' ' + str(temp2)+' '+ str(temp3)+' ' + str(temp4)+'\\n'\n",
    "    \n",
    "    fgold1.write(tempstr)\n",
    "fgold1.close()"
   ]
  },
  {
   "cell_type": "code",
   "execution_count": null,
   "metadata": {
    "collapsed": true
   },
   "outputs": [],
   "source": []
  }
 ],
 "metadata": {
  "kernelspec": {
   "display_name": "Python 2",
   "language": "python",
   "name": "python2"
  },
  "language_info": {
   "codemirror_mode": {
    "name": "ipython",
    "version": 2
   },
   "file_extension": ".py",
   "mimetype": "text/x-python",
   "name": "python",
   "nbconvert_exporter": "python",
   "pygments_lexer": "ipython2",
   "version": "2.7.11"
  }
 },
 "nbformat": 4,
 "nbformat_minor": 0
}
