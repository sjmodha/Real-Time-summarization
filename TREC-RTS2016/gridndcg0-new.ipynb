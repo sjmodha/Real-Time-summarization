{
 "cells": [
  {
   "cell_type": "code",
   "execution_count": 5,
   "metadata": {
    "collapsed": true
   },
   "outputs": [],
   "source": [
    "import os\n",
    "import sys\n",
    "import pandas as pd\n",
    "import numpy as np\n",
    "\n",
    "#path1='F:/trec-RTS/14417'\n",
    "\n",
    "#path='C:/Users/lenovo/Google Drive/PHD share folder/paper/trec experiment/rishabh/9617/bm25/grid'\n",
    "#path='C:/Users/lenovo/Google Drive/PHD share folder/paper/trec experiment/rishabh/6617/0.2/grid'\n",
    "#path='C:/Users/lenovo/Google Drive/PHD share folder/paper/trec experiment/rishabh/9617/bm25/grid'\n",
    "path='C:/Users/lenovo/Google Drive/PHD share folder/paper/trec experiment/rishabh/14617/3000/grid'\n",
    "\n",
    "os.chdir(path)\n",
    "#profile=['MB226','MB229','MB230']\n",
    "#profile=['MB229']\n",
    "profile=['MB226','MB229','MB230','MB239','MB254','MB256','MB258','MB265','MB267','MB276','MB286','MB319','MB320','MB332','MB351',\n",
    "'MB358','MB361','MB362','MB363','MB365','MB371','MB377','MB381','MB382','MB391','MB392','MB409','MB410','MB414','MB419',  \n",
    "'MB420','MB425','MB431','MB436','MB438','MB440','RTS1','RTS10','RTS13','RTS14','RTS19','RTS2','RTS21','RTS24','RTS25',\n",
    "'RTS27','RTS28','RTS31','RTS32','RTS35','RTS36','RTS37','RTS4','RTS43','RTS5','RTS6']"
   ]
  },
  {
   "cell_type": "code",
   "execution_count": 6,
   "metadata": {
    "collapsed": false
   },
   "outputs": [],
   "source": [
    "grid = pd.read_csv('rdata_new.txt',sep=' ',header=None)\n",
    "grid.columns=['profile','ndcg1','ndcg0','tmin','tmax','lamda']\n",
    "#grid.columns=['profile','ndcg1','ndcg0','tmin','tmax']\n",
    "\n",
    "grid.head()\n",
    "sgrid=grid.sort_values(['profile','ndcg1','ndcg0'],ascending=[True,True,True])\n",
    "sgrid=sgrid.reset_index(drop=True)\n",
    "sgrid.head()\n",
    "sgrid.to_csv(\"rdata_newcsv.csv\",index=False)\n",
    "#grid.info()\n"
   ]
  },
  {
   "cell_type": "code",
   "execution_count": 7,
   "metadata": {
    "collapsed": false
   },
   "outputs": [],
   "source": [
    "fgold0=open('gold0L-new.txt','w')\n",
    "#fgoldboth=open('goldboth.txt','w')\n",
    "for i,p in enumerate(profile):\n",
    "    qn=sgrid[(sgrid['profile'] == p)]\n",
    "    qn=qn.reset_index(drop=True)\n",
    "    mn=0\n",
    "    mni=0\n",
    "    cndcg1=0\n",
    "    mndcg1=0\n",
    "    for i, row in qn.iterrows():\n",
    "        s = row['ndcg0']\n",
    "        cndcg1=row['ndcg1']\n",
    "        if(s>mn):\n",
    "            mn=s\n",
    "            mni = i\n",
    "            mndcg1=cndcg1\n",
    "        if (s==mn):\n",
    "            if(cndcg1>mndcg1):\n",
    "                mni=i\n",
    "            \n",
    "            \n",
    "            \n",
    "    # print mni\n",
    "    \n",
    "    temp1=qn.ix[mni,'ndcg1']\n",
    "    #ndcg1_dt[p]= {p1:temp}\n",
    "    temp2= qn.ix[mni,'ndcg0']\n",
    "    temp3= qn.ix[mni,'tmin']\n",
    "    temp4= qn.ix[mni,'tmax']\n",
    "    \n",
    "    #LM\n",
    "    \n",
    "    temp5= qn.ix[mni,'lamda']\n",
    "    tempstr = p + ' ' + str(temp1)+' ' + str(temp2)+' '+ str(temp3)+' ' + str(temp4)+' ' + str(temp5)+'\\n'\n",
    "\n",
    "    \n",
    "    #tempstr = p + ' ' + str(temp1)+' ' + str(temp2)+' '+ str(temp3)+' ' + str(temp4)+'\\n'\n",
    "\n",
    "    fgold0.write(tempstr)    \n",
    "    \n",
    "   \n",
    "\n",
    "fgold0.close()\n",
    "   \n",
    "   "
   ]
  },
  {
   "cell_type": "code",
   "execution_count": 8,
   "metadata": {
    "collapsed": false
   },
   "outputs": [],
   "source": [
    "#fgold=open('goldbotj.txt','w')\n",
    "fgoldboth=open('goldbothL.txt','w')\n",
    "for i,p in enumerate(profile):\n",
    "    qn=sgrid[(sgrid['profile'] == p)]\n",
    "    qn=qn.reset_index(drop=True)\n",
    "    mnb=0\n",
    "    for i, row in qn.iterrows():\n",
    "        s = row['ndcg0']+row['ndcg1']\n",
    "        if(s>mn):\n",
    "            mnb=s\n",
    "            mnib = i\n",
    "    # print mni\n",
    "    \n",
    "    temp1=qn.ix[mnib,'ndcg1']\n",
    "    #ndcg1_dt[p]= {p1:temp}\n",
    "    temp2= qn.ix[mnib,'ndcg0']\n",
    "    temp3= qn.ix[mnib,'tmin']\n",
    "    temp4= qn.ix[mnib,'tmax']\n",
    "    #LM JM\n",
    "    temp5= qn.ix[mnib,'lamda']\n",
    "    tempstr = p + ' ' + str(temp1)+' ' + str(temp2)+' '+ str(temp3)+' ' + str(temp4)+' ' + str(temp5)+'\\n'\n",
    "    \n",
    "    #tempstr = p + ' ' + str(temp1)+' ' + str(temp2)+' '+ str(temp3)+' ' + str(temp4)+'\\n'\n",
    "    fgoldboth.write(tempstr)    \n",
    "fgoldboth.close()\n",
    "    "
   ]
  },
  {
   "cell_type": "code",
   "execution_count": null,
   "metadata": {
    "collapsed": true
   },
   "outputs": [],
   "source": [
    "def paramboth(df,topic) :\n",
    "    maxnboth=0\n",
    "    for i, row in df.iterrows():\n",
    "        s1 = row['ndcg0']\n",
    "        s2 = row['ndcg1']\n",
    "        s=s1+s2\n",
    "        if(s>maxboth):\n",
    "            maxnboth=s\n",
    "            maxb = i\n",
    "    return maxb"
   ]
  },
  {
   "cell_type": "code",
   "execution_count": 5,
   "metadata": {
    "collapsed": false
   },
   "outputs": [
    {
     "data": {
      "text/html": [
       "<div>\n",
       "<table border=\"1\" class=\"dataframe\">\n",
       "  <thead>\n",
       "    <tr style=\"text-align: right;\">\n",
       "      <th></th>\n",
       "      <th>runtag</th>\n",
       "      <th>profile</th>\n",
       "      <th>ndcg1</th>\n",
       "      <th>ndcg0</th>\n",
       "      <th>tmin</th>\n",
       "      <th>tmax</th>\n",
       "      <th>lamda</th>\n",
       "    </tr>\n",
       "  </thead>\n",
       "  <tbody>\n",
       "    <tr>\n",
       "      <th>0</th>\n",
       "      <td>IR-RIS</td>\n",
       "      <td>MB230</td>\n",
       "      <td>0.9</td>\n",
       "      <td>0.0</td>\n",
       "      <td>16</td>\n",
       "      <td>20</td>\n",
       "      <td>0.1</td>\n",
       "    </tr>\n",
       "    <tr>\n",
       "      <th>1</th>\n",
       "      <td>IR-RIS</td>\n",
       "      <td>MB230</td>\n",
       "      <td>0.9</td>\n",
       "      <td>0.0</td>\n",
       "      <td>17</td>\n",
       "      <td>20</td>\n",
       "      <td>0.1</td>\n",
       "    </tr>\n",
       "    <tr>\n",
       "      <th>2</th>\n",
       "      <td>IR-RIS</td>\n",
       "      <td>MB230</td>\n",
       "      <td>0.9</td>\n",
       "      <td>0.0</td>\n",
       "      <td>18</td>\n",
       "      <td>20</td>\n",
       "      <td>0.1</td>\n",
       "    </tr>\n",
       "    <tr>\n",
       "      <th>3</th>\n",
       "      <td>IR-RIS</td>\n",
       "      <td>MB230</td>\n",
       "      <td>0.9</td>\n",
       "      <td>0.0</td>\n",
       "      <td>19</td>\n",
       "      <td>20</td>\n",
       "      <td>0.1</td>\n",
       "    </tr>\n",
       "    <tr>\n",
       "      <th>4</th>\n",
       "      <td>IR-RIS</td>\n",
       "      <td>MB230</td>\n",
       "      <td>0.9</td>\n",
       "      <td>0.0</td>\n",
       "      <td>20</td>\n",
       "      <td>20</td>\n",
       "      <td>0.1</td>\n",
       "    </tr>\n",
       "  </tbody>\n",
       "</table>\n",
       "</div>"
      ],
      "text/plain": [
       "   runtag profile  ndcg1  ndcg0  tmin  tmax  lamda\n",
       "0  IR-RIS   MB230    0.9    0.0    16    20    0.1\n",
       "1  IR-RIS   MB230    0.9    0.0    17    20    0.1\n",
       "2  IR-RIS   MB230    0.9    0.0    18    20    0.1\n",
       "3  IR-RIS   MB230    0.9    0.0    19    20    0.1\n",
       "4  IR-RIS   MB230    0.9    0.0    20    20    0.1"
      ]
     },
     "execution_count": 5,
     "metadata": {},
     "output_type": "execute_result"
    }
   ],
   "source": [
    "qn.head()"
   ]
  },
  {
   "cell_type": "code",
   "execution_count": 14,
   "metadata": {
    "collapsed": false
   },
   "outputs": [
    {
     "data": {
      "text/html": [
       "<div>\n",
       "<table border=\"1\" class=\"dataframe\">\n",
       "  <thead>\n",
       "    <tr style=\"text-align: right;\">\n",
       "      <th></th>\n",
       "      <th>ndcg1</th>\n",
       "    </tr>\n",
       "  </thead>\n",
       "  <tbody>\n",
       "    <tr>\n",
       "      <th>0</th>\n",
       "      <td>0.0298</td>\n",
       "    </tr>\n",
       "    <tr>\n",
       "      <th>1</th>\n",
       "      <td>0.0298</td>\n",
       "    </tr>\n",
       "    <tr>\n",
       "      <th>2</th>\n",
       "      <td>0.0298</td>\n",
       "    </tr>\n",
       "    <tr>\n",
       "      <th>3</th>\n",
       "      <td>0.0298</td>\n",
       "    </tr>\n",
       "    <tr>\n",
       "      <th>4</th>\n",
       "      <td>0.0298</td>\n",
       "    </tr>\n",
       "    <tr>\n",
       "      <th>5</th>\n",
       "      <td>0.0298</td>\n",
       "    </tr>\n",
       "    <tr>\n",
       "      <th>6</th>\n",
       "      <td>0.0458</td>\n",
       "    </tr>\n",
       "    <tr>\n",
       "      <th>7</th>\n",
       "      <td>0.0458</td>\n",
       "    </tr>\n",
       "    <tr>\n",
       "      <th>8</th>\n",
       "      <td>0.0650</td>\n",
       "    </tr>\n",
       "    <tr>\n",
       "      <th>9</th>\n",
       "      <td>0.0650</td>\n",
       "    </tr>\n",
       "    <tr>\n",
       "      <th>10</th>\n",
       "      <td>0.1132</td>\n",
       "    </tr>\n",
       "  </tbody>\n",
       "</table>\n",
       "</div>"
      ],
      "text/plain": [
       "     ndcg1\n",
       "0   0.0298\n",
       "1   0.0298\n",
       "2   0.0298\n",
       "3   0.0298\n",
       "4   0.0298\n",
       "5   0.0298\n",
       "6   0.0458\n",
       "7   0.0458\n",
       "8   0.0650\n",
       "9   0.0650\n",
       "10  0.1132"
      ]
     },
     "execution_count": 14,
     "metadata": {},
     "output_type": "execute_result"
    }
   ],
   "source": [
    "qn[['ndcg1']]"
   ]
  },
  {
   "cell_type": "code",
   "execution_count": 14,
   "metadata": {
    "collapsed": true
   },
   "outputs": [],
   "source": [
    "fgoldboth.close()"
   ]
  },
  {
   "cell_type": "code",
   "execution_count": 18,
   "metadata": {
    "collapsed": false
   },
   "outputs": [
    {
     "data": {
      "text/plain": [
       "'RTS6 0.4785 0.4785 3.0 6.0 500.0\\n'"
      ]
     },
     "execution_count": 18,
     "metadata": {},
     "output_type": "execute_result"
    }
   ],
   "source": [
    "tempstr"
   ]
  },
  {
   "cell_type": "code",
   "execution_count": null,
   "metadata": {
    "collapsed": true
   },
   "outputs": [],
   "source": []
  }
 ],
 "metadata": {
  "kernelspec": {
   "display_name": "Python 2",
   "language": "python",
   "name": "python2"
  },
  "language_info": {
   "codemirror_mode": {
    "name": "ipython",
    "version": 2
   },
   "file_extension": ".py",
   "mimetype": "text/x-python",
   "name": "python",
   "nbconvert_exporter": "python",
   "pygments_lexer": "ipython2",
   "version": "2.7.11"
  }
 },
 "nbformat": 4,
 "nbformat_minor": 0
}
