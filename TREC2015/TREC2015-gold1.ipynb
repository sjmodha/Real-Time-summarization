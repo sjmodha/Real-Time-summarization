{
 "cells": [
  {
   "cell_type": "code",
   "execution_count": 2,
   "metadata": {
    "collapsed": false
   },
   "outputs": [],
   "source": [
    "import os\n",
    "import sys\n",
    "import pandas as pd\n",
    "import numpy as np\n",
    "#path='F:/TREC2015/Analysis/August-2017-result/bm25-result/g'\n",
    "#path = 'F:/TREC2015\\Analysis\\August-2017-result\\jm result\\jm/g'\n",
    "#path = 'F:/TREC2015\\Analysis\\Nov-2017-result\\jm result/jm2015/g'\n",
    "path = 'F:/TREC2015\\Analysis\\August-2017-result\\diri/g'\n",
    "\n",
    "#profile=['MB226','MB229','MB230','MB239','MB254','MB256','MB258','MB265','MB267','MB276','MB286','MB319','MB320','MB332','MB351',\n",
    "#'MB358','MB361','MB362','MB363','MB365','MB371','MB377','MB381','MB382','MB391','MB392','MB409','MB410','MB414','MB419',  \n",
    "#'MB420','MB425','MB431','MB436','MB438','MB440']\n",
    "#prof=[226,227,228,236,242,243,246,248,249,253,254,255,260,262,265,267,278,284,287,298,305,324,326,331,339,344,348,353,354,357,\n",
    " #     359,362,366,371,377,379,383,384,389,391,392,401,400,405,409,416,419,432,434,439,448]\n",
    "#profile=['MB226','MB254','MB265','MB267','MB362','MB371','MB377','MB391','MB392','MB409','MB419']"
   ]
  },
  {
   "cell_type": "code",
   "execution_count": 2,
   "metadata": {
    "collapsed": false
   },
   "outputs": [
    {
     "name": "stdout",
     "output_type": "stream",
     "text": [
      "51\n"
     ]
    }
   ],
   "source": [
    "ip=[]\n",
    "with open('tweet_id-final18.txt','r') as fin:\n",
    "    line= fin.readlines()\n",
    "    for l in line:\n",
    "        l=l.strip().split(' ')\n",
    "        #tpn=l[0]\n",
    "        tpid=l[1]\n",
    "        ip.append(tpid)      \n",
    "print len(ip)\n",
    "os.chdir(path)\n"
   ]
  },
  {
   "cell_type": "code",
   "execution_count": 6,
   "metadata": {
    "collapsed": false
   },
   "outputs": [
    {
     "data": {
      "text/plain": [
       "'F:\\\\TREC2015\\\\Analysis\\\\August-2017-result\\\\diri\\\\g'"
      ]
     },
     "execution_count": 6,
     "metadata": {},
     "output_type": "execute_result"
    }
   ],
   "source": [
    "os.chdir(path)\n",
    "\n",
    "ip=['MB226','MB254','MB265','MB267','MB362','MB371','MB377','MB391','MB392','MB409','MB419']\n",
    "os.getcwd()"
   ]
  },
  {
   "cell_type": "code",
   "execution_count": 7,
   "metadata": {
    "collapsed": false
   },
   "outputs": [
    {
     "data": {
      "text/html": [
       "<div>\n",
       "<table border=\"1\" class=\"dataframe\">\n",
       "  <thead>\n",
       "    <tr style=\"text-align: right;\">\n",
       "      <th></th>\n",
       "      <th>profile</th>\n",
       "      <th>ndcg1</th>\n",
       "      <th>tmin</th>\n",
       "      <th>tmax</th>\n",
       "    </tr>\n",
       "  </thead>\n",
       "  <tbody>\n",
       "    <tr>\n",
       "      <th>0</th>\n",
       "      <td>226</td>\n",
       "      <td>0.2</td>\n",
       "      <td>3</td>\n",
       "      <td>7</td>\n",
       "    </tr>\n",
       "    <tr>\n",
       "      <th>1</th>\n",
       "      <td>226</td>\n",
       "      <td>0.2</td>\n",
       "      <td>4</td>\n",
       "      <td>7</td>\n",
       "    </tr>\n",
       "    <tr>\n",
       "      <th>2</th>\n",
       "      <td>226</td>\n",
       "      <td>0.2</td>\n",
       "      <td>5</td>\n",
       "      <td>7</td>\n",
       "    </tr>\n",
       "    <tr>\n",
       "      <th>3</th>\n",
       "      <td>226</td>\n",
       "      <td>0.2</td>\n",
       "      <td>6</td>\n",
       "      <td>7</td>\n",
       "    </tr>\n",
       "    <tr>\n",
       "      <th>4</th>\n",
       "      <td>226</td>\n",
       "      <td>0.2</td>\n",
       "      <td>7</td>\n",
       "      <td>7</td>\n",
       "    </tr>\n",
       "  </tbody>\n",
       "</table>\n",
       "</div>"
      ],
      "text/plain": [
       "   profile  ndcg1  tmin  tmax\n",
       "0      226    0.2     3     7\n",
       "1      226    0.2     4     7\n",
       "2      226    0.2     5     7\n",
       "3      226    0.2     6     7\n",
       "4      226    0.2     7     7"
      ]
     },
     "execution_count": 7,
     "metadata": {},
     "output_type": "execute_result"
    }
   ],
   "source": [
    "grid = pd.read_csv('rdata_new.txt',sep=' ',header=None)\n",
    "grid.columns=['profile','ndcg1','tmin','tmax']\n",
    "#grid.columns=['profile','ndcg1','ndcg0','tmin','tmax']\n",
    "\n",
    "grid.head()\n",
    "sgrid=grid.sort_values(['profile','ndcg1'],ascending=[True,True])\n",
    "sgrid=sgrid.reset_index(drop=True)\n",
    "sgrid.head()\n",
    "\n",
    "#sgrid.to_csv(\"rdata_new.csv\",index=False)"
   ]
  },
  {
   "cell_type": "code",
   "execution_count": 8,
   "metadata": {
    "collapsed": false
   },
   "outputs": [],
   "source": [
    "fgold1=open('gold1L-neww.txt','w')\n",
    "#fgoldboth=open('goldboth.txt','w')\n",
    "for i,p in enumerate(ip):\n",
    "    pp=int(p[2:])\n",
    "    qn=sgrid[(sgrid['profile'] == pp)]\n",
    "    if not qn.empty :\n",
    "        qn=qn.reset_index(drop=True)\n",
    "        maxn1=0\n",
    "        maxi=0\n",
    "        for j,row in qn.iterrows():\n",
    "            s = row['ndcg1']\n",
    "            if(s>maxn1):\n",
    "                maxn1=s\n",
    "                maxi=j\n",
    "\n",
    "\n",
    "        temp1=qn.ix[maxi,'ndcg1']\n",
    "        #ndcg1_dt[p]= {p1:temp}\n",
    "        #temp2= qn.ix[indx,'ndcg0']\n",
    "        temp3= qn.ix[maxi,'tmin']\n",
    "        temp4= qn.ix[maxi,'tmax']\n",
    "    else:\n",
    "        temp1 = 0\n",
    "        temp3=50\n",
    "        temp4=50\n",
    "    \n",
    "\n",
    "    #temp5= qn.ix[indx,'lamda']\n",
    "    tempstr = p + ' ' + str(temp1)+' '+' '+ str(temp3)+' ' + str(temp4)+'\\n'\n",
    "    \n",
    "    #tempstr = p + ' ' + str(temp1)+' ' + str(temp2)+' '+ str(temp3)+' ' + str(temp4)+'\\n'\n",
    "    \n",
    "    fgold1.write(tempstr)  \n",
    "fgold1.close()"
   ]
  },
  {
   "cell_type": "code",
   "execution_count": 21,
   "metadata": {
    "collapsed": false
   },
   "outputs": [
    {
     "data": {
      "text/plain": [
       "False"
      ]
     },
     "execution_count": 21,
     "metadata": {},
     "output_type": "execute_result"
    }
   ],
   "source": [
    "not qn.empty"
   ]
  },
  {
   "cell_type": "code",
   "execution_count": 13,
   "metadata": {
    "collapsed": false
   },
   "outputs": [
    {
     "name": "stdout",
     "output_type": "stream",
     "text": [
      "<class 'pandas.core.frame.DataFrame'>\n",
      "Int64Index: 58 entries, 0 to 57\n",
      "Data columns (total 4 columns):\n",
      "profile    58 non-null int64\n",
      "ndcg1      58 non-null float64\n",
      "tmin       58 non-null float64\n",
      "tmax       58 non-null float64\n",
      "dtypes: float64(3), int64(1)\n",
      "memory usage: 2.3 KB\n"
     ]
    }
   ],
   "source": [
    "qn=sgrid[(sgrid['profile'] == pp)]\n",
    "qn.info()"
   ]
  },
  {
   "cell_type": "code",
   "execution_count": 18,
   "metadata": {
    "collapsed": false
   },
   "outputs": [
    {
     "data": {
      "text/plain": [
       "229"
      ]
     },
     "execution_count": 18,
     "metadata": {},
     "output_type": "execute_result"
    }
   ],
   "source": [
    "pp"
   ]
  },
  {
   "cell_type": "code",
   "execution_count": 19,
   "metadata": {
    "collapsed": false
   },
   "outputs": [
    {
     "data": {
      "text/html": [
       "<div>\n",
       "<table border=\"1\" class=\"dataframe\">\n",
       "  <thead>\n",
       "    <tr style=\"text-align: right;\">\n",
       "      <th></th>\n",
       "      <th>profile</th>\n",
       "      <th>ndcg1</th>\n",
       "      <th>tmin</th>\n",
       "      <th>tmax</th>\n",
       "    </tr>\n",
       "  </thead>\n",
       "  <tbody>\n",
       "  </tbody>\n",
       "</table>\n",
       "</div>"
      ],
      "text/plain": [
       "Empty DataFrame\n",
       "Columns: [profile, ndcg1, tmin, tmax]\n",
       "Index: []"
      ]
     },
     "execution_count": 19,
     "metadata": {},
     "output_type": "execute_result"
    }
   ],
   "source": [
    "qn.head()"
   ]
  },
  {
   "cell_type": "code",
   "execution_count": 25,
   "metadata": {
    "collapsed": true
   },
   "outputs": [],
   "source": [
    "qn=sgrid[(sgrid['profile'] == pp)]"
   ]
  },
  {
   "cell_type": "code",
   "execution_count": 23,
   "metadata": {
    "collapsed": true
   },
   "outputs": [],
   "source": [
    "prof_new=[226,227,228,236,242,243,246,248,249,253,254,255,260,262,265,267,278,284,287,298,305,324,326,331,339,344,348,353,354,357,\n",
    "      359,362,366,371,377,379,383,384,389,391,392,401,400,405,409,416,419,432,434,439,448]\n"
   ]
  },
  {
   "cell_type": "code",
   "execution_count": null,
   "metadata": {
    "collapsed": false
   },
   "outputs": [],
   "source": []
  },
  {
   "cell_type": "code",
   "execution_count": null,
   "metadata": {
    "collapsed": true
   },
   "outputs": [],
   "source": []
  }
 ],
 "metadata": {
  "kernelspec": {
   "display_name": "Python 2",
   "language": "python",
   "name": "python2"
  },
  "language_info": {
   "codemirror_mode": {
    "name": "ipython",
    "version": 2
   },
   "file_extension": ".py",
   "mimetype": "text/x-python",
   "name": "python",
   "nbconvert_exporter": "python",
   "pygments_lexer": "ipython2",
   "version": "2.7.11"
  }
 },
 "nbformat": 4,
 "nbformat_minor": 0
}
