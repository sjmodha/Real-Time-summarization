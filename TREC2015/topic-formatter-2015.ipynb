{
 "cells": [
  {
   "cell_type": "code",
   "execution_count": 12,
   "metadata": {
    "collapsed": false
   },
   "outputs": [],
   "source": [
    "import os\n",
    "import sys\n",
    "import math\n",
    "import json\n",
    "path='F:/TREC2015/Analysis'\n",
    "os.chdir(path)\n",
    "path1 = 'F:/TREC2015/Analysis/Nov-2017-result/jm result/fin'\n",
    "path2 = 'F:/TREC2015/Analysis/Nov-2017-result/jm result'\n",
    "path1 = 'F:/TREC2015/Analysis/August-2017-result/diri/fin'\n",
    "path2 = 'F:/TREC2015/Analysis/August-2017-result/diri'\n",
    "#os.chdir(path2)\n",
    "ip=['MB226','MB254','MB265','MB267','MB362','MB371','MB377','MB391','MB392','MB409','MB419']\n",
    "ip=['MB226','MB254','MB265','MB267','MB362','MB371','MB377','MB391','MB392','MB409','MB419']"
   ]
  },
  {
   "cell_type": "code",
   "execution_count": 13,
   "metadata": {
    "collapsed": false
   },
   "outputs": [
    {
     "name": "stdout",
     "output_type": "stream",
     "text": [
      "51\n"
     ]
    }
   ],
   "source": [
    "ip=[]\n",
    "with open('tweet_id-final18.txt','r') as fin:\n",
    "    line= fin.readlines()\n",
    "    for l in line:\n",
    "        l=l.strip().split(' ')\n",
    "        #tpn=l[0]\n",
    "        tpid=l[1]\n",
    "        ip.append(tpid)      \n",
    "print len(ip)"
   ]
  },
  {
   "cell_type": "code",
   "execution_count": 14,
   "metadata": {
    "collapsed": false
   },
   "outputs": [],
   "source": [
    "os.chdir(path2)\n",
    "count=0\n",
    "#ip=ip1\n",
    "for p in ip :\n",
    "      \n",
    "    #of = p + '1.txt'\n",
    "    pathf= os.getcwd() + \"/\" + p\n",
    "    if not os.path.exists(pathf):\n",
    "        os.mkdir(p)\n",
    "        "
   ]
  },
  {
   "cell_type": "code",
   "execution_count": 15,
   "metadata": {
    "collapsed": false
   },
   "outputs": [],
   "source": [
    "import glob\n",
    "os.chdir(path1)\n",
    "#os.getcwd()\n",
    "for i in range(20,30):\n",
    "    #os.chdir(os.pardir)\n",
    "   \n",
    "    os.chdir(path1+'/'+str(i))\n",
    "    os.mkdir('format')\n",
    "\n",
    "    for file in glob.glob(\"*.txt\"):\n",
    "        infile=file\n",
    "        outfile='tempf' +infile\n",
    "        os.chdir(path1+'/'+str(i)+'/format')\n",
    "\n",
    "        fout = open(outfile, 'w')\n",
    "        os.chdir(os.pardir)\n",
    "        cnt=1\n",
    "        with open(infile, 'r') as fin:\n",
    "            lines = fin.readlines()\n",
    "\n",
    "            for line in lines:\n",
    "                split_line = line.split()\n",
    "                if split_line:\n",
    "                    if len(split_line[0]) == 8 and split_line[0][:6] == \"201507\":\n",
    "                        if(cnt==1): \n",
    "                            fout.write( ' '.join(split_line) )\n",
    "                        else:\n",
    "                            fout.write('\\n')\n",
    "                            fout.write( ' '.join(split_line) )\n",
    "                    else:\n",
    "                        fout.write(\" \"+' '.join(split_line))\n",
    "                else:\n",
    "                    continue\n",
    "                cnt=cnt+1\n",
    "        fout.close()\n",
    "        os.chdir(path1)\n",
    "        fin.close()        \n",
    "        "
   ]
  },
  {
   "cell_type": "code",
   "execution_count": 16,
   "metadata": {
    "collapsed": true
   },
   "outputs": [],
   "source": [
    "fout.close()"
   ]
  },
  {
   "cell_type": "code",
   "execution_count": 17,
   "metadata": {
    "collapsed": false
   },
   "outputs": [
    {
     "ename": "IOError",
     "evalue": "[Errno 2] No such file or directory: 'tempf37_output.txt'",
     "output_type": "error",
     "traceback": [
      "\u001b[1;31m---------------------------------------------------------------------------\u001b[0m",
      "\u001b[1;31mIOError\u001b[0m                                   Traceback (most recent call last)",
      "\u001b[1;32m<ipython-input-17-0a962e3e3d14>\u001b[0m in \u001b[0;36m<module>\u001b[1;34m()\u001b[0m\n\u001b[0;32m      8\u001b[0m \u001b[1;33m\u001b[0m\u001b[0m\n\u001b[0;32m      9\u001b[0m         \u001b[0mfout\u001b[0m \u001b[1;33m=\u001b[0m \u001b[0mopen\u001b[0m\u001b[1;33m(\u001b[0m\u001b[0moutfile\u001b[0m\u001b[1;33m,\u001b[0m \u001b[1;34m'w'\u001b[0m\u001b[1;33m)\u001b[0m\u001b[1;33m\u001b[0m\u001b[0m\n\u001b[1;32m---> 10\u001b[1;33m         \u001b[0mfin\u001b[0m \u001b[1;33m=\u001b[0m\u001b[0mopen\u001b[0m\u001b[1;33m(\u001b[0m\u001b[0minfile\u001b[0m\u001b[1;33m,\u001b[0m\u001b[1;34m'r'\u001b[0m\u001b[1;33m)\u001b[0m\u001b[1;33m\u001b[0m\u001b[0m\n\u001b[0m\u001b[0;32m     11\u001b[0m \u001b[1;33m\u001b[0m\u001b[0m\n\u001b[0;32m     12\u001b[0m         \u001b[1;32mfor\u001b[0m \u001b[0ml\u001b[0m \u001b[1;32min\u001b[0m \u001b[0mfin\u001b[0m\u001b[1;33m.\u001b[0m\u001b[0mreadlines\u001b[0m\u001b[1;33m(\u001b[0m\u001b[1;33m)\u001b[0m\u001b[1;33m:\u001b[0m\u001b[1;33m\u001b[0m\u001b[0m\n",
      "\u001b[1;31mIOError\u001b[0m: [Errno 2] No such file or directory: 'tempf37_output.txt'"
     ]
    }
   ],
   "source": [
    "for i in range(20,30):\n",
    "     \n",
    "    os.chdir(path1+'/'+ str(i)+'/format')\n",
    "    for j in range(1,52):\n",
    "        infile='tempf'+str(j)+'_output.txt'\n",
    "        outfile='f'+str(j)+'_output.txt'\n",
    "        \n",
    "\n",
    "        fout = open(outfile, 'w')\n",
    "        fin =open(infile,'r')\n",
    "        \n",
    "        for l in fin.readlines():\n",
    "            ll = l.split()\n",
    "            text = ll[6:]\n",
    "            text = ' '.join(text)\n",
    "            text=text.replace('\"','')\n",
    "\n",
    "            text = '\"'+text+'\"'\n",
    "#     print text\n",
    "            fout.write(','.join(ll[:6])+\",\"+text+\"\\n\")\n",
    "        fout.close()\n",
    "    #os.chdir(path1)\n",
    "        fin.close()"
   ]
  },
  {
   "cell_type": "code",
   "execution_count": 18,
   "metadata": {
    "collapsed": false
   },
   "outputs": [
    {
     "data": {
      "text/plain": [
       "20"
      ]
     },
     "execution_count": 18,
     "metadata": {},
     "output_type": "execute_result"
    }
   ],
   "source": [
    "i"
   ]
  },
  {
   "cell_type": "code",
   "execution_count": 22,
   "metadata": {
    "collapsed": false
   },
   "outputs": [
    {
     "data": {
      "text/plain": [
       "'F:\\\\TREC2015\\\\Analysis\\\\Nov-2017-result\\\\jm result'"
      ]
     },
     "execution_count": 22,
     "metadata": {},
     "output_type": "execute_result"
    }
   ],
   "source": [
    "os.chdir(path2)\n",
    "os.getcwd()"
   ]
  },
  {
   "cell_type": "code",
   "execution_count": 23,
   "metadata": {
    "collapsed": true
   },
   "outputs": [],
   "source": [
    "count=0\n",
    "for p in ip:\n",
    "      \n",
    "    of = p + '.txt'\n",
    "    opath= path2 + \"/\" + p\n",
    "    #if not os.path.exists(path2):\n",
    "    #    os.mkdirs(path2)\n",
    "    \n",
    "    \n",
    "    os.chdir(opath)\n",
    "    out=open(of,\"w\")\n",
    "    path1 = path2+'/fin'\n",
    "    os.chdir(path1)\n",
    "    for i in range(20,30):\n",
    "        #os.chdir(os.pardir)\n",
    "        os.chdir(path1+'/'+str(i) + '/format')\n",
    "        \n",
    "        fstr= 'f'+str(count+1) + \"_output.txt\"\n",
    "        fin = open(fstr,\"r\")\n",
    "        out.write(fin.read())\n",
    "        os.chdir(os.pardir)\n",
    "        os.chdir(os.pardir)\n",
    "\n",
    "\n",
    "    count=count+1\n",
    "\n",
    "    out.close()\n",
    "    fin.close()"
   ]
  },
  {
   "cell_type": "code",
   "execution_count": null,
   "metadata": {
    "collapsed": true
   },
   "outputs": [],
   "source": []
  }
 ],
 "metadata": {
  "kernelspec": {
   "display_name": "Python 2",
   "language": "python",
   "name": "python2"
  },
  "language_info": {
   "codemirror_mode": {
    "name": "ipython",
    "version": 2
   },
   "file_extension": ".py",
   "mimetype": "text/x-python",
   "name": "python",
   "nbconvert_exporter": "python",
   "pygments_lexer": "ipython2",
   "version": "2.7.11"
  }
 },
 "nbformat": 4,
 "nbformat_minor": 0
}
