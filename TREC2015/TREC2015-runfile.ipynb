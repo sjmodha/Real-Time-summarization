{
 "cells": [
  {
   "cell_type": "code",
   "execution_count": 5,
   "metadata": {
    "collapsed": false
   },
   "outputs": [],
   "source": [
    "#This file is to take run file (as an input argument) and ground truth non-redundant tweets, judgment pools\n",
    "#to compute ndcg@k score.\n",
    "import sys\n",
    "import math\n",
    "import json\n",
    "import os\n",
    "#from sets import Set\n",
    "import argparse\n",
    "path='F:/TREC2015/Analysis'\n",
    "os.chdir(path)\n",
    "file_qrels_path = 'qrels.txt'\n",
    "clusters_path = 'clusters-2015.json'\n",
    "file_tweet2day = 'tweet2dayepoch.txt'\n",
    "run_path='jmsmoothing20_13.txt'\n",
    "\n",
    "K = 10\n",
    "days = []\n",
    "for i in range(20, 30):\n",
    "    days.append(\"201507%s\" % i)\n",
    "\n"
   ]
  },
  {
   "cell_type": "code",
   "execution_count": 6,
   "metadata": {
    "collapsed": true
   },
   "outputs": [],
   "source": [
    "-"
   ]
  },
  {
   "cell_type": "code",
   "execution_count": 10,
   "metadata": {
    "collapsed": false
   },
   "outputs": [
    {
     "name": "stdout",
     "output_type": "stream",
     "text": [
      "IR-RIS\t0.2471\n",
      "IR-RIS\t0.2471\n",
      "IR-RIS\t0.2471\n",
      "IR-RIS\t0.2471\n",
      "IR-RIS\t0.2471\n",
      "IR-RIS\t0.2471\n",
      "IR-RIS\t0.2471\n",
      "IR-RIS\t0.2471\n",
      "IR-RIS\t0.2471\n",
      "IR-RIS\t0.2471\n",
      "IR-RIS\t0.2471\n",
      "IR-RIS\t0.2471\n",
      "IR-RIS\t0.2471\n",
      "IR-RIS\t0.2471\n",
      "IR-RIS\t0.2471\n",
      "IR-RIS\t0.2471\n",
      "IR-RIS\t0.2471\n",
      "IR-RIS\t0.2471\n",
      "IR-RIS\t0.2471\n",
      "IR-RIS\t0.2471\n",
      "IR-RIS\t0.2471\n",
      "IR-RIS\t0.2471\n",
      "IR-RIS\t0.2471\n",
      "IR-RIS\t0.2471\n",
      "IR-RIS\t0.2471\n",
      "IR-RIS\t0.2471\n",
      "IR-RIS\t0.2471\n",
      "IR-RIS\t0.2471\n",
      "IR-RIS\t0.2471\n",
      "IR-RIS\t0.2471\n",
      "IR-RIS\t0.2473\n",
      "IR-RIS\t0.2473\n",
      "IR-RIS\t0.2473\n",
      "IR-RIS\t0.2473\n",
      "IR-RIS\t0.2473\n",
      "IR-RIS\t0.2471\n",
      "IR-RIS\t0.2471\n",
      "IR-RIS\t0.2473\n",
      "IR-RIS\t0.2473\n",
      "IR-RIS\t0.2473\n",
      "IR-RIS\t0.2473\n",
      "IR-RIS\t0.2473\n",
      "IR-RIS\t0.2473\n",
      "IR-RIS\t0.2475\n",
      "IR-RIS\t0.2475\n",
      "IR-RIS\t0.2475\n",
      "IR-RIS\t0.2476\n",
      "IR-RIS\t0.2476\n",
      "IR-RIS\t0.2476\n",
      "IR-RIS\t0.2473\n",
      "IR-RIS\t0.2475\n",
      "IR-RIS\t0.2475\n",
      "IR-RIS\t0.2475\n",
      "IR-RIS\t0.2476\n",
      "IR-RIS\t0.2476\n",
      "IR-RIS\t0.2476\n",
      "IR-RIS\t0.2473\n",
      "IR-RIS\t0.2475\n",
      "IR-RIS\t0.2475\n",
      "IR-RIS\t0.2475\n",
      "IR-RIS\t0.2476\n",
      "IR-RIS\t0.2476\n",
      "IR-RIS\t0.2476\n",
      "IR-RIS\t0.2473\n",
      "IR-RIS\t0.2475\n",
      "IR-RIS\t0.2475\n",
      "IR-RIS\t0.2475\n",
      "IR-RIS\t0.2476\n",
      "IR-RIS\t0.2476\n",
      "IR-RIS\t0.2476\n",
      "IR-RIS\t0.2476\n",
      "IR-RIS\t0.2476\n",
      "IR-RIS\t0.2476\n",
      "IR-RIS\t0.2476\n",
      "IR-RIS\t0.2476\n",
      "IR-RIS\t0.2476\n",
      "IR-RIS\t0.2476\n"
     ]
    }
   ],
   "source": [
    "import glob, os\n",
    "#path_rn = 'F:/TREC2015\\Analysis\\August-2017-result\\jm result\\jm'\n",
    "#path_rn = 'F:/TREC2015\\Analysis\\August-2017-result\\diri'\n",
    "path_rn = 'F:/TREC2015\\Analysis\\Nov-2017-result\\jm result\\jm2015'\n",
    "\n",
    "os.chdir(path_rn)\n",
    "count =0\n",
    "\n",
    "fout=open(\"g/result.txt\",\"a+\")\n",
    "for file in glob.glob(\"*.txt\"):\n",
    "    run_path=file\n",
    "    #Take input run and generate dictionary of {topic number:{day:[tweetids]}}\n",
    "    runname = ''\n",
    "    run_dt = {}\n",
    "    file_run = open(run_path, \"r\")\n",
    "    lines = file_run.readlines()\n",
    "    for line in lines:\n",
    "        line = line.strip().split()\n",
    "        runname = line[6]\n",
    "        topic_ind = line[1][line[1].index(\"MB\") + 2:]\n",
    "        #Only consider the 51 topics selected by NIST\n",
    "        if topic_ind in qrels_dt:\n",
    "            if topic_ind not in run_dt:\n",
    "                run_dt[topic_ind] = {}\n",
    "            day = line[0]\n",
    "            if day not in run_dt[topic_ind]:\n",
    "                run_dt[topic_ind][day] = []\n",
    "            tweetid = line[3]\n",
    "            run_dt[topic_ind][day].append(tweetid)\n",
    "    file_run.close()\n",
    "\n",
    "    # print \"runtag\".ljust(len(runname)) + \"\\ttopic\\tnDCG\"\n",
    "    #Compute ndcg\n",
    "    total_score = 0.0\n",
    "    for topic_ind in sorted(qrels_dt):\n",
    "        topic_score = 0.0\n",
    "        exist_clusterids = set()\n",
    "        for day in days:\n",
    "            interesting = False\n",
    "            max_gain_dt = {}\n",
    "            tweets_fromprotocol = clusters_day_dt[topic_ind][day]\n",
    "            for tweetid in tweets_fromprotocol:\n",
    "                clusterid = clusters_clusterid_dt[topic_ind][tweetid]\n",
    "                if clusterid not in exist_clusterids:\n",
    "                    interesting = True\n",
    "                    if clusterid not in max_gain_dt:\n",
    "                        max_gain_dt[clusterid] = qrels_dt[topic_ind][tweetid]\n",
    "                    else:\n",
    "                        max_gain_dt[clusterid] = max(max_gain_dt[clusterid], qrels_dt[topic_ind][tweetid])\n",
    "            if interesting:\n",
    "                if topic_ind in run_dt and day in run_dt[topic_ind]:\n",
    "                    ndcg = 0\n",
    "                    gains = []\n",
    "                    for tweetid in run_dt[topic_ind][day]:\n",
    "                        gain = 0\n",
    "                        if tweetid in clusters_day_dt[topic_ind][day]:\n",
    "                            clusterid = clusters_clusterid_dt[topic_ind][tweetid]\n",
    "                            if clusterid not in exist_clusterids:\n",
    "                                exist_clusterids.add(clusterid)\n",
    "                                gain = qrels_dt[topic_ind][tweetid]\n",
    "                                if clusterid in max_gain_dt:\n",
    "                                    gain = max_gain_dt[clusterid]\n",
    "                        gains.append(gain)\n",
    "                    rank_cut = min(len(gains), K)\n",
    "                    dcg = 0.0\n",
    "                    for i in range(rank_cut):\n",
    "                        gain = gains[i]\n",
    "                        dcg = dcg + (pow(2, gain) - 1) * 1.0 / math.log(i + 2, 2)\n",
    "                    #Compute idcg\n",
    "                    top_gains = max_gain_dt.values()\n",
    "                    top_gains.sort(reverse = True)\n",
    "                    rank_cut = min(len(top_gains), K)\n",
    "                    idcg = 0.0\n",
    "                    top_gains = top_gains[:rank_cut]\n",
    "                    for i in range(rank_cut):\n",
    "                        gain = top_gains[i]\n",
    "                        idcg = idcg + (pow(2, gain) - 1) * 1.0 / math.log(i + 2, 2)\n",
    "                    if idcg != 0:\n",
    "                        ndcg = dcg / idcg\n",
    "                    topic_score = topic_score + ndcg\n",
    "            else:\n",
    "                if topic_ind not in run_dt or day not in run_dt[topic_ind]:\n",
    "                    topic_score = topic_score + 1\n",
    "        topic_score = topic_score / len(days)\n",
    "        # print \"%s\\tMB%s\\t%.04f\" % (runname, topic_ind, topic_score)\n",
    "        total_score = total_score + topic_score\n",
    "    total_score = total_score / len(qrels_dt)\n",
    "    print \"%s\\t%.04f\" % (runname, total_score)\n",
    "    tempstr = run_path + \" \" + str(round(total_score,4)) +\"\\n\"\n",
    "    fout.write(tempstr)\n",
    "fout.close()"
   ]
  },
  {
   "cell_type": "code",
   "execution_count": 24,
   "metadata": {
    "collapsed": false
   },
   "outputs": [
    {
     "data": {
      "text/plain": [
       "86"
      ]
     },
     "execution_count": 24,
     "metadata": {},
     "output_type": "execute_result"
    }
   ],
   "source": [
    "len(run_path)"
   ]
  },
  {
   "cell_type": "code",
   "execution_count": 35,
   "metadata": {
    "collapsed": false
   },
   "outputs": [
    {
     "data": {
      "text/plain": [
       "'merge_B_BM25_0.6_normal_NER_0.4_0.1 22.0_9.0_+4+3final_doc_l_grid_ndcg1_again_list.txt'"
      ]
     },
     "execution_count": 35,
     "metadata": {},
     "output_type": "execute_result"
    }
   ],
   "source": [
    "run_path[]\n"
   ]
  },
  {
   "cell_type": "raw",
   "metadata": {},
   "source": [
    "s='merge_B_BM25_0.6_normal_NER_0.4_0.1 22.0_14.0_+4+3final_doc_l_grid_ndcg1_again_list.txt'"
   ]
  },
  {
   "cell_type": "code",
   "execution_count": 36,
   "metadata": {
    "collapsed": false
   },
   "outputs": [
    {
     "data": {
      "text/plain": [
       "'9.'"
      ]
     },
     "execution_count": 36,
     "metadata": {},
     "output_type": "execute_result"
    }
   ],
   "source": [
    "run_path[41]+run_path[42]"
   ]
  },
  {
   "cell_type": "code",
   "execution_count": null,
   "metadata": {
    "collapsed": true
   },
   "outputs": [],
   "source": []
  }
 ],
 "metadata": {
  "kernelspec": {
   "display_name": "Python 2",
   "language": "python",
   "name": "python2"
  },
  "language_info": {
   "codemirror_mode": {
    "name": "ipython",
    "version": 2
   },
   "file_extension": ".py",
   "mimetype": "text/x-python",
   "name": "python",
   "nbconvert_exporter": "python",
   "pygments_lexer": "ipython2",
   "version": "2.7.11"
  }
 },
 "nbformat": 4,
 "nbformat_minor": 0
}
