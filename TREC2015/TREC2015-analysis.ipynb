{
 "cells": [
  {
   "cell_type": "code",
   "execution_count": 15,
   "metadata": {
    "collapsed": false
   },
   "outputs": [],
   "source": [
    "import os\n",
    "import sys\n",
    "import math\n",
    "import json\n",
    "path='F:/TREC2015/Analysis'\n",
    "os.chdir(path)\n",
    "path = 'F:/TREC2015\\Analysis\\Nov-2017-result\\jm result'\n",
    "profile=['MB226','MB254','MB265','MB267','MB362','MB371','MB377','MB391','MB392','MB409','MB419']"
   ]
  },
  {
   "cell_type": "code",
   "execution_count": 14,
   "metadata": {
    "collapsed": false
   },
   "outputs": [
    {
     "name": "stdout",
     "output_type": "stream",
     "text": [
      "51\n"
     ]
    }
   ],
   "source": [
    "ip=[]\n",
    "with open('tweet_id-final18.txt','r') as fin:\n",
    "    line= fin.readlines()\n",
    "    for l in line:\n",
    "        l=l.strip().split(' ')\n",
    "        #tpn=l[0]\n",
    "        tpid=l[1]\n",
    "        ip.append(tpid)      \n",
    "print len(ip)"
   ]
  },
  {
   "cell_type": "code",
   "execution_count": 16,
   "metadata": {
    "collapsed": false
   },
   "outputs": [
    {
     "data": {
      "text/html": [
       "<div>\n",
       "<table border=\"1\" class=\"dataframe\">\n",
       "  <thead>\n",
       "    <tr style=\"text-align: right;\">\n",
       "      <th></th>\n",
       "      <th>profile</th>\n",
       "      <th>tweet_id</th>\n",
       "      <th>relevance</th>\n",
       "    </tr>\n",
       "  </thead>\n",
       "  <tbody>\n",
       "    <tr>\n",
       "      <th>0</th>\n",
       "      <td>226</td>\n",
       "      <td>622915540244369408</td>\n",
       "      <td>0</td>\n",
       "    </tr>\n",
       "    <tr>\n",
       "      <th>1</th>\n",
       "      <td>226</td>\n",
       "      <td>622919214433570816</td>\n",
       "      <td>0</td>\n",
       "    </tr>\n",
       "    <tr>\n",
       "      <th>2</th>\n",
       "      <td>226</td>\n",
       "      <td>622919248004775937</td>\n",
       "      <td>0</td>\n",
       "    </tr>\n",
       "    <tr>\n",
       "      <th>3</th>\n",
       "      <td>226</td>\n",
       "      <td>622919608727552000</td>\n",
       "      <td>0</td>\n",
       "    </tr>\n",
       "    <tr>\n",
       "      <th>4</th>\n",
       "      <td>226</td>\n",
       "      <td>622919860377419776</td>\n",
       "      <td>0</td>\n",
       "    </tr>\n",
       "  </tbody>\n",
       "</table>\n",
       "</div>"
      ],
      "text/plain": [
       "   profile            tweet_id  relevance\n",
       "0      226  622915540244369408          0\n",
       "1      226  622919214433570816          0\n",
       "2      226  622919248004775937          0\n",
       "3      226  622919608727552000          0\n",
       "4      226  622919860377419776          0"
      ]
     },
     "execution_count": 16,
     "metadata": {},
     "output_type": "execute_result"
    }
   ],
   "source": [
    "import pandas as pd\n",
    "import numpy as np\n",
    "\n",
    "\n",
    "qrels = pd.read_csv('qrels.txt', sep=' ',header=None)\n",
    "qrels.drop(qrels[[1]],axis=1,inplace=True)\n",
    "\n",
    "#runfile.head()\n",
    "epoch = pd.read_csv('tweet2dayepoch.txt', sep=' ',header=None)\n",
    "#runfile=pd.read_csv('jmsmoothing20_13.txt',sep=' ',header=None)\n",
    "runfile=pd.read_csv('Nov-2017-result\\jm result\\jm2015\\JM_20.0_14.0_+4+3final_doc_l_grid_ndcg1_again_list.txt',sep=' ',header=None)\n",
    "cluster = pd.read_csv('cluster.txt',sep=' ',header=None)\n",
    "runfile.drop(runfile[[6]],axis=1,inplace=True)\n",
    "runfile.drop(runfile[[2]],axis=1,inplace=True)\n",
    "\n",
    "\n",
    "qrels.columns=['profile','tweet_id','relevance']\n",
    "runfile.columns=['date','profile','tweet_id','rank','score']\n",
    "runfile.head()\n",
    "qrels.head()\n"
   ]
  },
  {
   "cell_type": "code",
   "execution_count": 3,
   "metadata": {
    "collapsed": false
   },
   "outputs": [
    {
     "name": "stdout",
     "output_type": "stream",
     "text": [
      "94066 91060\n",
      "<class 'pandas.core.frame.DataFrame'>\n",
      "Int64Index: 118 entries, 66460 to 93080\n",
      "Data columns (total 3 columns):\n",
      "profile      118 non-null int64\n",
      "tweet_id     118 non-null int64\n",
      "relevance    118 non-null int64\n",
      "dtypes: int64(3)\n",
      "memory usage: 3.7 KB\n",
      "<class 'pandas.core.frame.DataFrame'>\n",
      "Int64Index: 1292 entries, 66430 to 93110\n",
      "Data columns (total 3 columns):\n",
      "profile      1292 non-null int64\n",
      "tweet_id     1292 non-null int64\n",
      "relevance    1292 non-null int64\n",
      "dtypes: int64(3)\n",
      "memory usage: 40.4 KB\n"
     ]
    }
   ],
   "source": [
    "\n",
    "os.chdir(path1)\n",
    "#ip=['RTS47']\n",
    "for i,p in enumerate(ip):\n",
    "    qn=qrels[(qrels['relevance'] > 0) & (qrels['profile'] == p[3:])]\n",
    "    #qn.count()\n",
    "\n",
    "\n",
    "    ij=qn.merge(epoch,how='inner',on=['tweet_id'])\n",
    "    #ij.head()\n",
    "    ijc= pd.merge(ij,cluster,how='inner',on=['tweet_id','profile'])\n",
    "    ijc=ijc.sort_values(by=['date','time'],ascending=[True,True])\n",
    "    \n",
    "    os.chdir(path1)\n",
    "#os.mkdir(p)\n",
    "    path2=path1 +\"/\" + p\n",
    "    os.chdir(path2)\n",
    "\n",
    "    fn = p + '_qrel.txt'\n",
    "    #ijc=ijc.sort_values(ijc.columns[3],ascending=[True])\n",
    "    ijc.to_csv(fn,index=False,sep=' ',header=None)\n",
    "    #textstring=  p +'text.txt'\n",
    "    #tqrel.to_csv(textstring,index=False,sep= ' ')\n",
    "    \n",
    "    fnstr= p + '_qrel.txt'\n",
    "    fnstr1 = p + '.txt'\n",
    "    gq = pd.read_csv(fnstr, sep=' ')\n",
    "    #gq.columns\n",
    "#gq.info()\n",
    "    pt=pd.read_csv(fnstr1,sep=',',header=None)\n",
    "    pt.columns=['date','profile','qo','tweet_id','rank','score','text']\n",
    "    \n",
    "    pt.drop(pt[[2]],axis=1,inplace=True)\n",
    "    pt1=pt.drop_duplicates(subset='tweet_id')\n",
    "    pt1.reset_index(drop=True)\n",
    "    mt=ijc.merge(pt1,how='inner',on=['tweet_id','profile','date'])\n",
    "#mt.info()\n",
    "#mt.head()\n",
    "#mt=mt.sort_values(mt.columns[3],mt.columns[5],ascending=[True,True])\n",
    "    mt=mt.sort_values(by=['date','rank'],ascending=True)\n",
    "    mt.to_csv(p +'_qrelinrank.txt',index=False,sep=' ',header=None)\n",
    "    pt11=pt1['tweet_id'].tolist()\n",
    "    gq1=ijc['tweet_id'].tolist()\n",
    "    \n",
    "    ngq=list(set(gq1)-set(pt11))\n",
    "    if len(ngq) > 0 :\n",
    "        ngq_df = pd.DataFrame(ngq)\n",
    "        ngq_df.columns=['tweet_id']\n",
    "        qrelmissRank_df= pd.merge(ngq_df,ijc,how='inner',on=['tweet_id'])\n",
    "        qrelmissRank_df=qrelmissRank_df.sort_values(by=['date'],ascending=[True])\n",
    "#qrelmissRank_df= pd.merge(qrelmissRank_df,epoch,how='inner',on=['tweet_id'])\n",
    "        #nqrelmissRank_df= pd.merge(ngq_df,ijc,how='inner',on=['tweet_id'])\n",
    "        qrelmissRank_df.to_csv(p + '_qrelmissrank.txt',index=False,sep= ' ',header=None)\n",
    "    #path_rn='C:/Users/lenovo/Google Drive/PHD share folder/paper/trec experiment/rishabh/11417'\n",
    "\n",
    "    #os.chdir(path_rn)\n",
    "    os.chdir(path1)\n",
    "    run_df=pd.read_csv(\"C:/Users/lenovo/Google Drive/PHD share folder/trec-rts-2017/runfile/JM_20.0_14.0_+4+3final_doc_l_grid_ndcg1_again_list.txt\",sep=' ',header=None)\n",
    "#run_df.drop(run_df[[7]],axis=1,inplace=True)\n",
    "    run_df.drop(run_df[[6]],axis=1,inplace=True)\n",
    "\n",
    "    run_df.columns=['date','profile','q0','tweet_id','rank','score']\n",
    "    run_df.drop(run_df[[2]],axis=1,inplace=True)\n",
    "\n",
    "\n",
    "    run_df=run_df[(run_df['profile'] == p)]\n",
    "    #run_df.info()\n",
    "    run_merge_df =pd.merge(mt,run_df,how='inner',on=['tweet_id','profile','date'])\n",
    "    \n",
    "    os.chdir(path1)\n",
    "    os.chdir(p)\n",
    "    run_merge_df=run_merge_df.sort_values(by=['date','rank_y'],ascending=[True,True])\n",
    "    run_merge_df.to_csv(p+\"_System_summary.txt\",index=False,sep=' ')\n",
    "    \n",
    "    Qrel_notinsumm_df =  pd.DataFrame(list(set(mt['tweet_id'].tolist()) - set(run_df['tweet_id'].tolist())))\n",
    "    if(Qrel_notinsumm_df.empty==False):\n",
    "        Qrel_notinsumm_df.columns=[\"tweet_id\"]\n",
    "        Qrel_notinsumm_df = pd.merge(Qrel_notinsumm_df,mt,how='inner',on=['tweet_id'])\n",
    "        Qrel_notinsumm_df.info()\n",
    "#run_merge_df.info()\n",
    "        Qrel_notinsumm_df=Qrel_notinsumm_df.sort_values(by=['date','rank'],ascending=[True,True])\n",
    "        Qrel_notinsumm_df.to_csv(p +'System_notincluded.txt',index=False,sep=' ')\n",
    "    \n",
    "    #if not (wt_summ_df.empty):\n",
    "    wt_summ_df =  pd.DataFrame(list(set(run_df['tweet_id'].tolist()) - set(mt['tweet_id'].tolist())))\n",
    "    #wt_summ_df.info()\n",
    "    if(wt_summ_df.empty==False):\n",
    "        wt_summ_df.columns=[\"tweet_id\"]\n",
    "        wt_summ_df = pd.merge(wt_summ_df,pt1,how='inner',on='tweet_id')\n",
    "    #wt_summ_df.head()\n",
    "#wt_summ_df.info()\n",
    "        wt_summ_df=wt_summ_df.sort_values(by=['date','rank'],ascending=[True,True])\n",
    "        wt_summ_df.to_csv(p + \"NonRelevantTweetinsummary.txt\",index=False,sep= ' ')\n",
    "    os.chdir(path1)\n",
    "    if(run_merge_df.empty==False):\n",
    "        a=run_merge_df['cluster'].nunique()\n",
    "    else:\n",
    "        a=0\n",
    "    b=len(run_merge_df)\n",
    "\n",
    "    cls = cluster[(cluster['profile'] == p)]\n",
    "    if(cls.empty==False):\n",
    "        c= cls['cluster'].nunique()\n",
    "    else:\n",
    "        c=0\n",
    "    if(wt_summ_df.empty==False):\n",
    "        nrt = len(wt_summ_df)\n",
    "    else:\n",
    "        nrt=0\n",
    "    rt = b-a\n",
    "    statstr = p + \" \" + str(c) + \" \" + str(a) + \" \" + str (rt) + \" \" + str(nrt)+\"\\n\"\n",
    "    #os.chdir(os.pardir)\n",
    "    fstat = open('stats.txt',\"a+\")\n",
    "    fstat.write(statstr)\n",
    "    fstat.close()"
   ]
  },
  {
   "cell_type": "code",
   "execution_count": 4,
   "metadata": {
    "collapsed": false
   },
   "outputs": [
    {
     "name": "stdout",
     "output_type": "stream",
     "text": [
      "total qrels for 1: profile      391\n",
      "tweet_id     391\n",
      "relevance    391\n",
      "dtype: int64\n",
      "total qrels for 2: profile      1651\n",
      "tweet_id     1651\n",
      "relevance    1651\n",
      "dtype: int64\n",
      "total qrels for 1: profile      3032\n",
      "tweet_id     3032\n",
      "relevance    3032\n",
      "dtype: int64\n",
      "total qrels for 2: profile      3159\n",
      "tweet_id     3159\n",
      "relevance    3159\n",
      "dtype: int64\n"
     ]
    }
   ],
   "source": [
    "print \"total qrels for 1:\",qrels[qrels['relevance'] == 3 ].count()\n",
    "print \"total qrels for 2:\",qrels[qrels['relevance'] == 4 ].count()\n",
    "print \"total qrels for 1:\",qrels[qrels['relevance'] == 1 ].count()\n",
    "print \"total qrels for 2:\",qrels[qrels['relevance'] == 2 ].count()"
   ]
  },
  {
   "cell_type": "code",
   "execution_count": 5,
   "metadata": {
    "collapsed": false
   },
   "outputs": [],
   "source": [
    "runq = pd.merge(runfile,qrels,how='inner',on=['tweet_id'])\n"
   ]
  },
  {
   "cell_type": "code",
   "execution_count": 6,
   "metadata": {
    "collapsed": false
   },
   "outputs": [
    {
     "name": "stdout",
     "output_type": "stream",
     "text": [
      "<class 'pandas.core.frame.DataFrame'>\n",
      "Int64Index: 13 entries, 0 to 12\n",
      "Data columns (total 7 columns):\n",
      "date         13 non-null int64\n",
      "profile_x    13 non-null object\n",
      "tweet_id     13 non-null int64\n",
      "rank         13 non-null int64\n",
      "score        13 non-null float64\n",
      "profile_y    13 non-null int64\n",
      "relevance    13 non-null int64\n",
      "dtypes: float64(1), int64(5), object(1)\n",
      "memory usage: 832.0+ bytes\n"
     ]
    }
   ],
   "source": [
    "runq.head()\n",
    "runq.info()"
   ]
  },
  {
   "cell_type": "code",
   "execution_count": 7,
   "metadata": {
    "collapsed": false
   },
   "outputs": [
    {
     "name": "stdout",
     "output_type": "stream",
     "text": [
      "<class 'pandas.core.frame.DataFrame'>\n",
      "RangeIndex: 7017 entries, 0 to 7016\n",
      "Data columns (total 5 columns):\n",
      "date        7017 non-null int64\n",
      "profile     7017 non-null object\n",
      "tweet_id    7017 non-null int64\n",
      "rank        7017 non-null int64\n",
      "score       7017 non-null float64\n",
      "dtypes: float64(1), int64(3), object(1)\n",
      "memory usage: 274.2+ KB\n"
     ]
    }
   ],
   "source": [
    "runfile.info()"
   ]
  },
  {
   "cell_type": "code",
   "execution_count": 8,
   "metadata": {
    "collapsed": false
   },
   "outputs": [
    {
     "data": {
      "text/html": [
       "<div>\n",
       "<table border=\"1\" class=\"dataframe\">\n",
       "  <thead>\n",
       "    <tr style=\"text-align: right;\">\n",
       "      <th></th>\n",
       "      <th>date</th>\n",
       "      <th>profile_x</th>\n",
       "      <th>tweet_id</th>\n",
       "      <th>rank</th>\n",
       "      <th>score</th>\n",
       "      <th>profile_y</th>\n",
       "      <th>relevance</th>\n",
       "    </tr>\n",
       "  </thead>\n",
       "  <tbody>\n",
       "    <tr>\n",
       "      <th>0</th>\n",
       "      <td>20150724</td>\n",
       "      <td>MB276</td>\n",
       "      <td>624587322709815296</td>\n",
       "      <td>4</td>\n",
       "      <td>0.784318</td>\n",
       "      <td>326</td>\n",
       "      <td>1</td>\n",
       "    </tr>\n",
       "    <tr>\n",
       "      <th>1</th>\n",
       "      <td>20150724</td>\n",
       "      <td>MB371</td>\n",
       "      <td>624657115940937728</td>\n",
       "      <td>29</td>\n",
       "      <td>0.417220</td>\n",
       "      <td>326</td>\n",
       "      <td>0</td>\n",
       "    </tr>\n",
       "    <tr>\n",
       "      <th>2</th>\n",
       "      <td>20150721</td>\n",
       "      <td>MB440</td>\n",
       "      <td>623426515506720769</td>\n",
       "      <td>14</td>\n",
       "      <td>0.479027</td>\n",
       "      <td>236</td>\n",
       "      <td>0</td>\n",
       "    </tr>\n",
       "    <tr>\n",
       "      <th>3</th>\n",
       "      <td>20150721</td>\n",
       "      <td>MB436</td>\n",
       "      <td>623498154252574720</td>\n",
       "      <td>11</td>\n",
       "      <td>0.575879</td>\n",
       "      <td>284</td>\n",
       "      <td>1</td>\n",
       "    </tr>\n",
       "    <tr>\n",
       "      <th>4</th>\n",
       "      <td>20150721</td>\n",
       "      <td>MB258</td>\n",
       "      <td>623498154252574720</td>\n",
       "      <td>20</td>\n",
       "      <td>0.492924</td>\n",
       "      <td>284</td>\n",
       "      <td>1</td>\n",
       "    </tr>\n",
       "  </tbody>\n",
       "</table>\n",
       "</div>"
      ],
      "text/plain": [
       "       date profile_x            tweet_id  rank     score  profile_y  \\\n",
       "0  20150724     MB276  624587322709815296     4  0.784318        326   \n",
       "1  20150724     MB371  624657115940937728    29  0.417220        326   \n",
       "2  20150721     MB440  623426515506720769    14  0.479027        236   \n",
       "3  20150721     MB436  623498154252574720    11  0.575879        284   \n",
       "4  20150721     MB258  623498154252574720    20  0.492924        284   \n",
       "\n",
       "   relevance  \n",
       "0          1  \n",
       "1          0  \n",
       "2          0  \n",
       "3          1  \n",
       "4          1  "
      ]
     },
     "execution_count": 8,
     "metadata": {},
     "output_type": "execute_result"
    }
   ],
   "source": [
    "runq.head()"
   ]
  },
  {
   "cell_type": "code",
   "execution_count": 9,
   "metadata": {
    "collapsed": false
   },
   "outputs": [
    {
     "name": "stdout",
     "output_type": "stream",
     "text": [
      "<class 'pandas.core.frame.DataFrame'>\n",
      "Int64Index: 71366 entries, 0 to 71365\n",
      "Data columns (total 3 columns):\n",
      "tweet_id    71366 non-null int64\n",
      "date        71366 non-null int64\n",
      "num         71366 non-null int64\n",
      "dtypes: int64(3)\n",
      "memory usage: 2.2 MB\n"
     ]
    }
   ],
   "source": [
    "epoch.columns=['tweet_id','date','num']\n",
    "epoch=epoch.drop_duplicates(subset=['tweet_id','date'])\n",
    "qe=pd.merge(qrels,epoch,how='inner',on=['tweet_id'])\n",
    "epoch.info()\n"
   ]
  },
  {
   "cell_type": "code",
   "execution_count": 35,
   "metadata": {
    "collapsed": false
   },
   "outputs": [],
   "source": [
    "qe.to_csv('qrelwithdate.txt',index=False)"
   ]
  },
  {
   "cell_type": "code",
   "execution_count": 6,
   "metadata": {
    "collapsed": false
   },
   "outputs": [
    {
     "data": {
      "text/plain": [
       "91060"
      ]
     },
     "execution_count": 6,
     "metadata": {},
     "output_type": "execute_result"
    }
   ],
   "source": [
    "qrels['tweet_id'].nunique()"
   ]
  },
  {
   "cell_type": "code",
   "execution_count": 15,
   "metadata": {
    "collapsed": false
   },
   "outputs": [
    {
     "name": "stdout",
     "output_type": "stream",
     "text": [
      "<class 'pandas.core.frame.DataFrame'>\n",
      "Int64Index: 91060 entries, 0 to 94065\n",
      "Data columns (total 1 columns):\n",
      "tweet_id    91060 non-null int64\n",
      "dtypes: int64(1)\n",
      "memory usage: 1.4 MB\n"
     ]
    }
   ],
   "source": [
    "qrelsid=pd.DataFrame(qrels['tweet_id'])\n",
    "type(qrelsid)\n",
    "qrelsid=qrelsid.drop_duplicates(subset=['tweet_id'],keep='first')\n",
    "qrelsid.info()"
   ]
  },
  {
   "cell_type": "code",
   "execution_count": 32,
   "metadata": {
    "collapsed": false
   },
   "outputs": [
    {
     "name": "stdout",
     "output_type": "stream",
     "text": [
      "<class 'pandas.core.frame.DataFrame'>\n",
      "Int64Index: 71366 entries, 0 to 71365\n",
      "Data columns (total 3 columns):\n",
      "tweet_id    71366 non-null int64\n",
      "date        71366 non-null int64\n",
      "num         71366 non-null int64\n",
      "dtypes: int64(3)\n",
      "memory usage: 2.2 MB\n",
      "<class 'pandas.core.frame.DataFrame'>\n",
      "Int64Index: 6346 entries, 1 to 69987\n",
      "Data columns (total 3 columns):\n",
      "tweet_id    6346 non-null int64\n",
      "date        6346 non-null int64\n",
      "num         6346 non-null int64\n",
      "dtypes: int64(3)\n",
      "memory usage: 198.3 KB\n",
      "<class 'pandas.core.frame.DataFrame'>\n",
      "Int64Index: 7576 entries, 144 to 70149\n",
      "Data columns (total 3 columns):\n",
      "tweet_id    7576 non-null int64\n",
      "date        7576 non-null int64\n",
      "num         7576 non-null int64\n",
      "dtypes: int64(3)\n",
      "memory usage: 236.8 KB\n",
      "<class 'pandas.core.frame.DataFrame'>\n",
      "Int64Index: 7255 entries, 301 to 70304\n",
      "Data columns (total 3 columns):\n",
      "tweet_id    7255 non-null int64\n",
      "date        7255 non-null int64\n",
      "num         7255 non-null int64\n",
      "dtypes: int64(3)\n",
      "memory usage: 226.7 KB\n",
      "<class 'pandas.core.frame.DataFrame'>\n",
      "Int64Index: 6947 entries, 454 to 70457\n",
      "Data columns (total 3 columns):\n",
      "tweet_id    6947 non-null int64\n",
      "date        6947 non-null int64\n",
      "num         6947 non-null int64\n",
      "dtypes: int64(3)\n",
      "memory usage: 217.1 KB\n",
      "<class 'pandas.core.frame.DataFrame'>\n",
      "Int64Index: 6853 entries, 598 to 70624\n",
      "Data columns (total 3 columns):\n",
      "tweet_id    6853 non-null int64\n",
      "date        6853 non-null int64\n",
      "num         6853 non-null int64\n",
      "dtypes: int64(3)\n",
      "memory usage: 214.2 KB\n",
      "<class 'pandas.core.frame.DataFrame'>\n",
      "Int64Index: 6873 entries, 766 to 70771\n",
      "Data columns (total 3 columns):\n",
      "tweet_id    6873 non-null int64\n",
      "date        6873 non-null int64\n",
      "num         6873 non-null int64\n",
      "dtypes: int64(3)\n",
      "memory usage: 214.8 KB\n",
      "<class 'pandas.core.frame.DataFrame'>\n",
      "Int64Index: 7605 entries, 915 to 70927\n",
      "Data columns (total 3 columns):\n",
      "tweet_id    7605 non-null int64\n",
      "date        7605 non-null int64\n",
      "num         7605 non-null int64\n",
      "dtypes: int64(3)\n",
      "memory usage: 237.7 KB\n",
      "<class 'pandas.core.frame.DataFrame'>\n",
      "Int64Index: 7383 entries, 1061 to 71092\n",
      "Data columns (total 3 columns):\n",
      "tweet_id    7383 non-null int64\n",
      "date        7383 non-null int64\n",
      "num         7383 non-null int64\n",
      "dtypes: int64(3)\n",
      "memory usage: 230.7 KB\n",
      "<class 'pandas.core.frame.DataFrame'>\n",
      "Int64Index: 7590 entries, 1213 to 71225\n",
      "Data columns (total 3 columns):\n",
      "tweet_id    7590 non-null int64\n",
      "date        7590 non-null int64\n",
      "num         7590 non-null int64\n",
      "dtypes: int64(3)\n",
      "memory usage: 237.2 KB\n",
      "<class 'pandas.core.frame.DataFrame'>\n",
      "Int64Index: 6923 entries, 1405 to 71365\n",
      "Data columns (total 3 columns):\n",
      "tweet_id    6923 non-null int64\n",
      "date        6923 non-null int64\n",
      "num         6923 non-null int64\n",
      "dtypes: int64(3)\n",
      "memory usage: 216.3 KB\n"
     ]
    }
   ],
   "source": [
    "tweet_df=pd.merge(qrelsid,epoch,how='inner',on=['tweet_id'])\n",
    "tweet_df.info()\n",
    "data=[20150720,20150721,20150722,20150723,20150724,20150725,20150726,20150727,20150728,20150729]\n",
    "for i in data :\n",
    "    temp =tweet_df[tweet_df['date']==i]\n",
    "    temp.info()\n",
    "    temp_df = pd.DataFrame(temp['tweet_id'])\n",
    "    temp_df.to_csv(str(i)+'.txt',header=None,index=False)"
   ]
  },
  {
   "cell_type": "code",
   "execution_count": 23,
   "metadata": {
    "collapsed": false
   },
   "outputs": [
    {
     "name": "stdout",
     "output_type": "stream",
     "text": [
      "<class 'pandas.core.frame.DataFrame'>\n",
      "RangeIndex: 19694 entries, 0 to 19693\n",
      "Data columns (total 1 columns):\n",
      "0    19694 non-null int64\n",
      "dtypes: int64(1)\n",
      "memory usage: 153.9 KB\n"
     ]
    }
   ],
   "source": [
    "qrelnot = pd.DataFrame(list(set(qrelsid['tweet_id'].tolist()) - set(epoch['tweet_id'].tolist())))\n",
    "qrelnot.info()\n",
    "qrelnot.to_csv('2030.txt',header=None,index=False)"
   ]
  },
  {
   "cell_type": "code",
   "execution_count": 30,
   "metadata": {
    "collapsed": false
   },
   "outputs": [
    {
     "data": {
      "text/html": [
       "<div>\n",
       "<table border=\"1\" class=\"dataframe\">\n",
       "  <thead>\n",
       "    <tr style=\"text-align: right;\">\n",
       "      <th></th>\n",
       "      <th>tweet_id</th>\n",
       "      <th>date</th>\n",
       "      <th>num</th>\n",
       "    </tr>\n",
       "  </thead>\n",
       "  <tbody>\n",
       "    <tr>\n",
       "      <th>1405</th>\n",
       "      <td>626180461954531328</td>\n",
       "      <td>20150729</td>\n",
       "      <td>1438128030</td>\n",
       "    </tr>\n",
       "    <tr>\n",
       "      <th>1406</th>\n",
       "      <td>626180646524854272</td>\n",
       "      <td>20150729</td>\n",
       "      <td>1438128074</td>\n",
       "    </tr>\n",
       "    <tr>\n",
       "      <th>1407</th>\n",
       "      <td>626180801726685185</td>\n",
       "      <td>20150729</td>\n",
       "      <td>1438128111</td>\n",
       "    </tr>\n",
       "    <tr>\n",
       "      <th>1408</th>\n",
       "      <td>626184085841518592</td>\n",
       "      <td>20150729</td>\n",
       "      <td>1438128894</td>\n",
       "    </tr>\n",
       "    <tr>\n",
       "      <th>1409</th>\n",
       "      <td>626184165529096192</td>\n",
       "      <td>20150729</td>\n",
       "      <td>1438128913</td>\n",
       "    </tr>\n",
       "  </tbody>\n",
       "</table>\n",
       "</div>"
      ],
      "text/plain": [
       "                tweet_id      date         num\n",
       "1405  626180461954531328  20150729  1438128030\n",
       "1406  626180646524854272  20150729  1438128074\n",
       "1407  626180801726685185  20150729  1438128111\n",
       "1408  626184085841518592  20150729  1438128894\n",
       "1409  626184165529096192  20150729  1438128913"
      ]
     },
     "execution_count": 30,
     "metadata": {},
     "output_type": "execute_result"
    }
   ],
   "source": [
    "\n",
    "temp.head()"
   ]
  },
  {
   "cell_type": "code",
   "execution_count": 13,
   "metadata": {
    "collapsed": false
   },
   "outputs": [
    {
     "data": {
      "text/plain": [
       "419"
      ]
     },
     "execution_count": 13,
     "metadata": {},
     "output_type": "execute_result"
    }
   ],
   "source": [
    "p"
   ]
  },
  {
   "cell_type": "code",
   "execution_count": null,
   "metadata": {
    "collapsed": true
   },
   "outputs": [],
   "source": []
  }
 ],
 "metadata": {
  "kernelspec": {
   "display_name": "Python 2",
   "language": "python",
   "name": "python2"
  },
  "language_info": {
   "codemirror_mode": {
    "name": "ipython",
    "version": 2
   },
   "file_extension": ".py",
   "mimetype": "text/x-python",
   "name": "python",
   "nbconvert_exporter": "python",
   "pygments_lexer": "ipython2",
   "version": "2.7.11"
  }
 },
 "nbformat": 4,
 "nbformat_minor": 0
}
